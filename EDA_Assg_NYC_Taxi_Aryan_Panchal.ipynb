{
 "cells": [
  {
   "cell_type": "markdown",
   "metadata": {
    "id": "ZQl5n2IOuafL"
   },
   "source": [
    "# **New York City Yellow Taxi Data**"
   ]
  },
  {
   "cell_type": "markdown",
   "metadata": {
    "id": "DGQVIB4mEFrZ"
   },
   "source": [
    "## Objective\n",
    "In this case study you will be learning exploratory data analysis (EDA) with the help of a dataset on yellow taxi rides in New York City. This will enable you to understand why EDA is an important step in the process of data science and machine learning."
   ]
  },
  {
   "cell_type": "markdown",
   "metadata": {
    "id": "YJVMenVllLUL"
   },
   "source": [
    "## **Problem Statement**\n",
    "As an analyst at an upcoming taxi operation in NYC, you are tasked to use the 2023 taxi trip data to uncover insights that could help optimise taxi operations. The goal is to analyse patterns in the data that can inform strategic decisions to improve service efficiency, maximise revenue, and enhance passenger experience."
   ]
  },
  {
   "cell_type": "markdown",
   "metadata": {
    "id": "-OVfUMlHFkZD"
   },
   "source": [
    "## Tasks\n",
    "You need to perform the following steps for successfully completing this assignment:\n",
    "1. Data Loading\n",
    "2. Data Cleaning\n",
    "3. Exploratory Analysis: Bivariate and Multivariate\n",
    "4. Creating Visualisations to Support the Analysis\n",
    "5. Deriving Insights and Stating Conclusions"
   ]
  },
  {
   "cell_type": "markdown",
   "metadata": {
    "id": "gTxV-3GJUhWm"
   },
   "source": [
    "---"
   ]
  },
  {
   "cell_type": "markdown",
   "metadata": {
    "id": "ofebI8ITG-Li"
   },
   "source": [
    "**NOTE:** The marks given along with headings and sub-headings are cumulative marks for those particular headings/sub-headings.<br>\n",
    "\n",
    "The actual marks for each task are specified within the tasks themselves.\n",
    "\n",
    "For example, marks given with heading *2* or sub-heading *2.1* are the cumulative marks, for your reference only. <br>\n",
    "\n",
    "The marks you will receive for completing tasks are given with the tasks.\n",
    "\n",
    "Suppose the marks for two tasks are: 3 marks for 2.1.1 and 2 marks for 3.2.2, or\n",
    "* 2.1.1 [3 marks]\n",
    "* 3.2.2 [2 marks]\n",
    "\n",
    "then, you will earn 3 marks for completing task 2.1.1 and 2 marks for completing task 3.2.2.\n"
   ]
  },
  {
   "cell_type": "markdown",
   "metadata": {
    "id": "YdQjht7dUiHt"
   },
   "source": [
    "---"
   ]
  },
  {
   "cell_type": "markdown",
   "metadata": {
    "id": "0eaCZjHIvfuI"
   },
   "source": [
    "## Data Understanding\n",
    "The yellow taxi trip records include fields capturing pick-up and drop-off dates/times, pick-up and drop-off locations, trip distances, itemized fares, rate types, payment types, and driver-reported passenger counts.\n",
    "\n",
    "The data is stored in Parquet format (*.parquet*). The dataset is from 2009 to 2024. However, for this assignment, we will only be using the data from 2023.\n",
    "\n",
    "The data for each month is present in a different parquet file. You will get twelve files for each of the months in 2023.\n",
    "\n",
    "The data was collected and provided to the NYC Taxi and Limousine Commission (TLC) by technology providers like vendors and taxi hailing apps. <br>\n",
    "\n",
    "You can find the link to the TLC trip records page here: https://www.nyc.gov/site/tlc/about/tlc-trip-record-data.page"
   ]
  },
  {
   "cell_type": "markdown",
   "metadata": {
    "id": "LI6qC5IDxZU1"
   },
   "source": [
    "###  Data Description\n",
    "You can find the data description here: [Data Dictionary](https://www.nyc.gov/assets/tlc/downloads/pdf/data_dictionary_trip_records_yellow.pdf)"
   ]
  },
  {
   "cell_type": "markdown",
   "metadata": {
    "id": "FafCzrDuxHg2"
   },
   "source": [
    "**Trip Records**\n",
    "\n",
    "\n",
    "\n",
    "|Field Name       |description |\n",
    "|:----------------|:-----------|\n",
    "| VendorID | A code indicating the TPEP provider that provided the record. <br> 1= Creative Mobile Technologies, LLC; <br> 2= VeriFone Inc. |\n",
    "| tpep_pickup_datetime | The date and time when the meter was engaged.  |\n",
    "| tpep_dropoff_datetime | The date and time when the meter was disengaged.   |\n",
    "| Passenger_count | The number of passengers in the vehicle. <br> This is a driver-entered value. |\n",
    "| Trip_distance | The elapsed trip distance in miles reported by the taximeter. |\n",
    "| PULocationID | TLC Taxi Zone in which the taximeter was engaged |\n",
    "| DOLocationID | TLC Taxi Zone in which the taximeter was disengaged |\n",
    "|RateCodeID |The final rate code in effect at the end of the trip.<br> 1 = Standard rate <br> 2 = JFK <br> 3 = Newark <br>4 = Nassau or Westchester <br>5 = Negotiated fare <br>6 = Group ride |\n",
    "|Store_and_fwd_flag |This flag indicates whether the trip record was held in vehicle memory before sending to the vendor, aka “store and forward,” because the vehicle did not have a connection to the server.  <br>Y= store and forward trip <br>N= not a store and forward trip |\n",
    "|Payment_type| A numeric code signifying how the passenger paid for the trip. <br> 1 = Credit card <br>2 = Cash <br>3 = No charge <br>4 = Dispute <br>5 = Unknown <br>6 = Voided trip |\n",
    "|Fare_amount| The time-and-distance fare calculated by the meter. <br>Extra Miscellaneous extras and surcharges.  Currently, this only includes the 0.50 and 1 USD rush hour and overnight charges. |\n",
    "|MTA_tax |0.50 USD MTA tax that is automatically triggered based on the metered rate in use. |\n",
    "|Improvement_surcharge | 0.30 USD improvement surcharge assessed trips at the flag drop. The improvement surcharge began being levied in 2015. |\n",
    "|Tip_amount |Tip amount – This field is automatically populated for credit card tips. Cash tips are not included. |\n",
    "| Tolls_amount | Total amount of all tolls paid in trip.  |\n",
    "| total_amount | The total amount charged to passengers. Does not include cash tips. |\n",
    "|Congestion_Surcharge |Total amount collected in trip for NYS congestion surcharge. |\n",
    "| Airport_fee | 1.25 USD for pick up only at LaGuardia and John F. Kennedy Airports|\n",
    "\n",
    "Although the amounts of extra charges and taxes applied are specified in the data dictionary, you will see that some cases have different values of these charges in the actual data."
   ]
  },
  {
   "cell_type": "markdown",
   "metadata": {
    "id": "mL-FWYFnVEdE"
   },
   "source": [
    "**Taxi Zones**\n",
    "\n",
    "Each of the trip records contains a field corresponding to the location of the pickup or drop-off of the trip, populated by numbers ranging from 1-263.\n",
    "\n",
    "These numbers correspond to taxi zones, which may be downloaded as a table or map/shapefile and matched to the trip records using a join.\n",
    "\n",
    "This is covered in more detail in later sections."
   ]
  },
  {
   "cell_type": "markdown",
   "metadata": {
    "id": "z66W3s51U0gF"
   },
   "source": [
    "---"
   ]
  },
  {
   "cell_type": "markdown",
   "metadata": {
    "id": "Kw-WRzBfyS7j"
   },
   "source": [
    "## **1** Data Preparation\n",
    "\n",
    "<font color = red>[5 marks]</font> <br>"
   ]
  },
  {
   "cell_type": "markdown",
   "metadata": {
    "id": "nM2X-s6lycvQ"
   },
   "source": [
    "### Import Libraries"
   ]
  },
  {
   "cell_type": "code",
   "execution_count": null,
   "metadata": {
    "id": "juReqsAzEdW3"
   },
   "outputs": [],
   "source": [
    "# Import warnings\n",
    "import warnings\n",
    "warnings.filterwarnings(\"ignore\")\n"
   ]
  },
  {
   "cell_type": "code",
   "execution_count": null,
   "metadata": {
    "id": "3XZjOlJiy1dr"
   },
   "outputs": [],
   "source": [
    "# Import the libraries you will be using for analysis\n",
    "\n",
    "import numpy as np\n",
    "import pandas as pd\n",
    "import matplotlib.pyplot as plt\n",
    "import seaborn as sns"
   ]
  },
  {
   "cell_type": "code",
   "execution_count": null,
   "metadata": {
    "id": "NsH5LNrSgW9q"
   },
   "outputs": [],
   "source": [
    "# Recommended versions\n",
    "# numpy version: 1.26.4\n",
    "# pandas version: 2.2.2\n",
    "# matplotlib version: 3.10.0\n",
    "# seaborn version: 0.13.2\n",
    "\n",
    "# Check versions\n",
    "import numpy as np\n",
    "import pandas as pd\n",
    "import matplotlib.pyplot as plt\n",
    "import seaborn as sns\n",
    "\n",
    "print(\"numpy version:\", np.__version__)\n",
    "print(\"pandas version:\", pd.__version__)\n",
    "print(\"matplotlib version:\", plt.matplotlib.__version__)\n",
    "print(\"seaborn version:\", sns.__version__)"
   ]
  },
  {
   "cell_type": "markdown",
   "metadata": {
    "id": "NgHgbPIepaYl"
   },
   "source": [
    "### **1.1** Load the dataset\n",
    "<font color = red>[5 marks]</font> <br>"
   ]
  },
  {
   "cell_type": "markdown",
   "metadata": {
    "id": "KrGluF_gpeHs"
   },
   "source": [
    "You will see twelve files, one for each month.\n",
    "\n",
    "To read parquet files with Pandas, you have to follow a similar syntax as that for CSV files.\n",
    "\n",
    "`df = pd.read_parquet('file.parquet')`"
   ]
  },
  {
   "cell_type": "code",
   "execution_count": 295,
   "metadata": {
    "id": "kIpIsuSSzCp9"
   },
   "outputs": [
    {
     "name": "stdout",
     "output_type": "stream",
     "text": [
      "<class 'pandas.core.frame.DataFrame'>\n",
      "Index: 3275796 entries, 0 to 3307233\n",
      "Data columns (total 19 columns):\n",
      " #   Column                 Dtype         \n",
      "---  ------                 -----         \n",
      " 0   VendorID               int32         \n",
      " 1   tpep_pickup_datetime   datetime64[us]\n",
      " 2   tpep_dropoff_datetime  datetime64[us]\n",
      " 3   passenger_count        float64       \n",
      " 4   trip_distance          float64       \n",
      " 5   RatecodeID             float64       \n",
      " 6   store_and_fwd_flag     object        \n",
      " 7   PULocationID           int32         \n",
      " 8   DOLocationID           int32         \n",
      " 9   payment_type           int64         \n",
      " 10  fare_amount            float64       \n",
      " 11  extra                  float64       \n",
      " 12  mta_tax                float64       \n",
      " 13  tip_amount             float64       \n",
      " 14  tolls_amount           float64       \n",
      " 15  improvement_surcharge  float64       \n",
      " 16  total_amount           float64       \n",
      " 17  congestion_surcharge   float64       \n",
      " 18  Airport_fee            float64       \n",
      "dtypes: datetime64[us](2), float64(12), int32(3), int64(1), object(1)\n",
      "memory usage: 462.4+ MB\n"
     ]
    },
    {
     "data": {
      "text/html": [
       "<div>\n",
       "<style scoped>\n",
       "    .dataframe tbody tr th:only-of-type {\n",
       "        vertical-align: middle;\n",
       "    }\n",
       "\n",
       "    .dataframe tbody tr th {\n",
       "        vertical-align: top;\n",
       "    }\n",
       "\n",
       "    .dataframe thead th {\n",
       "        text-align: right;\n",
       "    }\n",
       "</style>\n",
       "<table border=\"1\" class=\"dataframe\">\n",
       "  <thead>\n",
       "    <tr style=\"text-align: right;\">\n",
       "      <th></th>\n",
       "      <th>VendorID</th>\n",
       "      <th>tpep_pickup_datetime</th>\n",
       "      <th>tpep_dropoff_datetime</th>\n",
       "      <th>passenger_count</th>\n",
       "      <th>trip_distance</th>\n",
       "      <th>RatecodeID</th>\n",
       "      <th>PULocationID</th>\n",
       "      <th>DOLocationID</th>\n",
       "      <th>payment_type</th>\n",
       "      <th>fare_amount</th>\n",
       "      <th>extra</th>\n",
       "      <th>mta_tax</th>\n",
       "      <th>tip_amount</th>\n",
       "      <th>tolls_amount</th>\n",
       "      <th>improvement_surcharge</th>\n",
       "      <th>total_amount</th>\n",
       "      <th>congestion_surcharge</th>\n",
       "      <th>Airport_fee</th>\n",
       "    </tr>\n",
       "  </thead>\n",
       "  <tbody>\n",
       "    <tr>\n",
       "      <th>count</th>\n",
       "      <td>3.275796e+06</td>\n",
       "      <td>3275796</td>\n",
       "      <td>3275796</td>\n",
       "      <td>3.176486e+06</td>\n",
       "      <td>3.275796e+06</td>\n",
       "      <td>3.176486e+06</td>\n",
       "      <td>3.275796e+06</td>\n",
       "      <td>3.275796e+06</td>\n",
       "      <td>3.275796e+06</td>\n",
       "      <td>3.275796e+06</td>\n",
       "      <td>3.275796e+06</td>\n",
       "      <td>3.275796e+06</td>\n",
       "      <td>3.275796e+06</td>\n",
       "      <td>3.275796e+06</td>\n",
       "      <td>3.275796e+06</td>\n",
       "      <td>3.275796e+06</td>\n",
       "      <td>3.176486e+06</td>\n",
       "      <td>3.176486e+06</td>\n",
       "    </tr>\n",
       "    <tr>\n",
       "      <th>mean</th>\n",
       "      <td>1.734740e+00</td>\n",
       "      <td>2023-06-15 18:06:20.461846</td>\n",
       "      <td>2023-06-15 18:24:05.545134</td>\n",
       "      <td>1.369032e+00</td>\n",
       "      <td>4.381530e+00</td>\n",
       "      <td>1.550669e+00</td>\n",
       "      <td>1.649418e+02</td>\n",
       "      <td>1.638509e+02</td>\n",
       "      <td>1.166850e+00</td>\n",
       "      <td>2.037903e+01</td>\n",
       "      <td>1.646348e+00</td>\n",
       "      <td>4.950577e-01</td>\n",
       "      <td>3.628654e+00</td>\n",
       "      <td>6.173883e-01</td>\n",
       "      <td>9.992190e-01</td>\n",
       "      <td>2.959558e+01</td>\n",
       "      <td>2.304195e+00</td>\n",
       "      <td>1.571481e-01</td>\n",
       "    </tr>\n",
       "    <tr>\n",
       "      <th>min</th>\n",
       "      <td>1.000000e+00</td>\n",
       "      <td>2002-12-31 23:03:19</td>\n",
       "      <td>2002-12-31 23:06:17</td>\n",
       "      <td>0.000000e+00</td>\n",
       "      <td>0.000000e+00</td>\n",
       "      <td>1.000000e+00</td>\n",
       "      <td>1.000000e+00</td>\n",
       "      <td>1.000000e+00</td>\n",
       "      <td>0.000000e+00</td>\n",
       "      <td>0.000000e+00</td>\n",
       "      <td>0.000000e+00</td>\n",
       "      <td>-5.000000e-01</td>\n",
       "      <td>0.000000e+00</td>\n",
       "      <td>0.000000e+00</td>\n",
       "      <td>-1.000000e+00</td>\n",
       "      <td>-5.750000e+00</td>\n",
       "      <td>-2.500000e+00</td>\n",
       "      <td>-1.750000e+00</td>\n",
       "    </tr>\n",
       "    <tr>\n",
       "      <th>25%</th>\n",
       "      <td>1.000000e+00</td>\n",
       "      <td>2023-06-08 09:09:51.500000</td>\n",
       "      <td>2023-06-08 09:27:12</td>\n",
       "      <td>1.000000e+00</td>\n",
       "      <td>1.090000e+00</td>\n",
       "      <td>1.000000e+00</td>\n",
       "      <td>1.320000e+02</td>\n",
       "      <td>1.130000e+02</td>\n",
       "      <td>1.000000e+00</td>\n",
       "      <td>9.300000e+00</td>\n",
       "      <td>0.000000e+00</td>\n",
       "      <td>5.000000e-01</td>\n",
       "      <td>1.000000e+00</td>\n",
       "      <td>0.000000e+00</td>\n",
       "      <td>1.000000e+00</td>\n",
       "      <td>1.610000e+01</td>\n",
       "      <td>2.500000e+00</td>\n",
       "      <td>0.000000e+00</td>\n",
       "    </tr>\n",
       "    <tr>\n",
       "      <th>50%</th>\n",
       "      <td>2.000000e+00</td>\n",
       "      <td>2023-06-15 14:10:44</td>\n",
       "      <td>2023-06-15 14:31:23</td>\n",
       "      <td>1.000000e+00</td>\n",
       "      <td>1.820000e+00</td>\n",
       "      <td>1.000000e+00</td>\n",
       "      <td>1.610000e+02</td>\n",
       "      <td>1.620000e+02</td>\n",
       "      <td>1.000000e+00</td>\n",
       "      <td>1.350000e+01</td>\n",
       "      <td>1.000000e+00</td>\n",
       "      <td>5.000000e-01</td>\n",
       "      <td>2.880000e+00</td>\n",
       "      <td>0.000000e+00</td>\n",
       "      <td>1.000000e+00</td>\n",
       "      <td>2.136000e+01</td>\n",
       "      <td>2.500000e+00</td>\n",
       "      <td>0.000000e+00</td>\n",
       "    </tr>\n",
       "    <tr>\n",
       "      <th>75%</th>\n",
       "      <td>2.000000e+00</td>\n",
       "      <td>2023-06-23 02:12:43.750000</td>\n",
       "      <td>2023-06-23 02:28:10.500000</td>\n",
       "      <td>1.000000e+00</td>\n",
       "      <td>3.540000e+00</td>\n",
       "      <td>1.000000e+00</td>\n",
       "      <td>2.330000e+02</td>\n",
       "      <td>2.340000e+02</td>\n",
       "      <td>1.000000e+00</td>\n",
       "      <td>2.260000e+01</td>\n",
       "      <td>2.500000e+00</td>\n",
       "      <td>5.000000e-01</td>\n",
       "      <td>4.500000e+00</td>\n",
       "      <td>0.000000e+00</td>\n",
       "      <td>1.000000e+00</td>\n",
       "      <td>3.144000e+01</td>\n",
       "      <td>2.500000e+00</td>\n",
       "      <td>0.000000e+00</td>\n",
       "    </tr>\n",
       "    <tr>\n",
       "      <th>max</th>\n",
       "      <td>6.000000e+00</td>\n",
       "      <td>2023-07-01 00:42:13</td>\n",
       "      <td>2023-07-03 16:31:24</td>\n",
       "      <td>9.000000e+00</td>\n",
       "      <td>1.852505e+05</td>\n",
       "      <td>9.900000e+01</td>\n",
       "      <td>2.650000e+02</td>\n",
       "      <td>2.650000e+02</td>\n",
       "      <td>5.000000e+00</td>\n",
       "      <td>3.869836e+05</td>\n",
       "      <td>1.425000e+01</td>\n",
       "      <td>5.750000e+00</td>\n",
       "      <td>7.118800e+02</td>\n",
       "      <td>6.655600e+02</td>\n",
       "      <td>1.000000e+00</td>\n",
       "      <td>3.869876e+05</td>\n",
       "      <td>2.500000e+00</td>\n",
       "      <td>1.750000e+00</td>\n",
       "    </tr>\n",
       "    <tr>\n",
       "      <th>std</th>\n",
       "      <td>4.491018e-01</td>\n",
       "      <td>NaN</td>\n",
       "      <td>NaN</td>\n",
       "      <td>8.970379e-01</td>\n",
       "      <td>2.291309e+02</td>\n",
       "      <td>6.794962e+00</td>\n",
       "      <td>6.404602e+01</td>\n",
       "      <td>7.005871e+01</td>\n",
       "      <td>5.011792e-01</td>\n",
       "      <td>2.146368e+02</td>\n",
       "      <td>1.854487e+00</td>\n",
       "      <td>4.985039e-02</td>\n",
       "      <td>4.204040e+00</td>\n",
       "      <td>2.247881e+00</td>\n",
       "      <td>2.749851e-02</td>\n",
       "      <td>2.150953e+02</td>\n",
       "      <td>6.719841e-01</td>\n",
       "      <td>5.003869e-01</td>\n",
       "    </tr>\n",
       "  </tbody>\n",
       "</table>\n",
       "</div>"
      ],
      "text/plain": [
       "           VendorID        tpep_pickup_datetime       tpep_dropoff_datetime  \\\n",
       "count  3.275796e+06                     3275796                     3275796   \n",
       "mean   1.734740e+00  2023-06-15 18:06:20.461846  2023-06-15 18:24:05.545134   \n",
       "min    1.000000e+00         2002-12-31 23:03:19         2002-12-31 23:06:17   \n",
       "25%    1.000000e+00  2023-06-08 09:09:51.500000         2023-06-08 09:27:12   \n",
       "50%    2.000000e+00         2023-06-15 14:10:44         2023-06-15 14:31:23   \n",
       "75%    2.000000e+00  2023-06-23 02:12:43.750000  2023-06-23 02:28:10.500000   \n",
       "max    6.000000e+00         2023-07-01 00:42:13         2023-07-03 16:31:24   \n",
       "std    4.491018e-01                         NaN                         NaN   \n",
       "\n",
       "       passenger_count  trip_distance    RatecodeID  PULocationID  \\\n",
       "count     3.176486e+06   3.275796e+06  3.176486e+06  3.275796e+06   \n",
       "mean      1.369032e+00   4.381530e+00  1.550669e+00  1.649418e+02   \n",
       "min       0.000000e+00   0.000000e+00  1.000000e+00  1.000000e+00   \n",
       "25%       1.000000e+00   1.090000e+00  1.000000e+00  1.320000e+02   \n",
       "50%       1.000000e+00   1.820000e+00  1.000000e+00  1.610000e+02   \n",
       "75%       1.000000e+00   3.540000e+00  1.000000e+00  2.330000e+02   \n",
       "max       9.000000e+00   1.852505e+05  9.900000e+01  2.650000e+02   \n",
       "std       8.970379e-01   2.291309e+02  6.794962e+00  6.404602e+01   \n",
       "\n",
       "       DOLocationID  payment_type   fare_amount         extra       mta_tax  \\\n",
       "count  3.275796e+06  3.275796e+06  3.275796e+06  3.275796e+06  3.275796e+06   \n",
       "mean   1.638509e+02  1.166850e+00  2.037903e+01  1.646348e+00  4.950577e-01   \n",
       "min    1.000000e+00  0.000000e+00  0.000000e+00  0.000000e+00 -5.000000e-01   \n",
       "25%    1.130000e+02  1.000000e+00  9.300000e+00  0.000000e+00  5.000000e-01   \n",
       "50%    1.620000e+02  1.000000e+00  1.350000e+01  1.000000e+00  5.000000e-01   \n",
       "75%    2.340000e+02  1.000000e+00  2.260000e+01  2.500000e+00  5.000000e-01   \n",
       "max    2.650000e+02  5.000000e+00  3.869836e+05  1.425000e+01  5.750000e+00   \n",
       "std    7.005871e+01  5.011792e-01  2.146368e+02  1.854487e+00  4.985039e-02   \n",
       "\n",
       "         tip_amount  tolls_amount  improvement_surcharge  total_amount  \\\n",
       "count  3.275796e+06  3.275796e+06           3.275796e+06  3.275796e+06   \n",
       "mean   3.628654e+00  6.173883e-01           9.992190e-01  2.959558e+01   \n",
       "min    0.000000e+00  0.000000e+00          -1.000000e+00 -5.750000e+00   \n",
       "25%    1.000000e+00  0.000000e+00           1.000000e+00  1.610000e+01   \n",
       "50%    2.880000e+00  0.000000e+00           1.000000e+00  2.136000e+01   \n",
       "75%    4.500000e+00  0.000000e+00           1.000000e+00  3.144000e+01   \n",
       "max    7.118800e+02  6.655600e+02           1.000000e+00  3.869876e+05   \n",
       "std    4.204040e+00  2.247881e+00           2.749851e-02  2.150953e+02   \n",
       "\n",
       "       congestion_surcharge   Airport_fee  \n",
       "count          3.176486e+06  3.176486e+06  \n",
       "mean           2.304195e+00  1.571481e-01  \n",
       "min           -2.500000e+00 -1.750000e+00  \n",
       "25%            2.500000e+00  0.000000e+00  \n",
       "50%            2.500000e+00  0.000000e+00  \n",
       "75%            2.500000e+00  0.000000e+00  \n",
       "max            2.500000e+00  1.750000e+00  \n",
       "std            6.719841e-01  5.003869e-01  "
      ]
     },
     "execution_count": 295,
     "metadata": {},
     "output_type": "execute_result"
    }
   ],
   "source": [
    "# Try loading one file\n",
    "\n",
    "# df = pd.read_parquet('2023-1.parquet')\n",
    "# df.info()\n",
    "import pandas as pd\n",
    "df = pd.read_parquet('2023-3.parquet')\n",
    "df.info()\n",
    "df.describe()"
   ]
  },
  {
   "cell_type": "markdown",
   "metadata": {
    "id": "eh-keWIyqcyr"
   },
   "source": [
    "How many rows are there? Do you think handling such a large number of rows is computationally feasible when we have to combine the data for all twelve months into one?\n",
    "\n",
    "To handle this, we need to sample a fraction of data from each of the files. How to go about that? Think of a way to select only some portion of the data from each month's file that accurately represents the trends."
   ]
  },
  {
   "cell_type": "markdown",
   "metadata": {
    "id": "zHx7lh_3QGmj"
   },
   "source": [
    "#### Sampling the Data\n",
    "> One way is to take a small percentage of entries for pickup in every hour of a date. So, for all the days in a month, we can iterate through the hours and select 5% values randomly from those. Use `tpep_pickup_datetime` for this. Separate date and hour from the datetime values and then for each date, select some fraction of trips for each of the 24 hours.\n",
    "\n",
    "To sample data, you can use the `sample()` method. Follow this syntax:\n",
    "\n",
    "```Python\n",
    "# sampled_data is an empty DF to keep appending sampled data of each hour\n",
    "# hour_data is the DF of entries for an hour 'X' on a date 'Y'\n",
    "\n",
    "sample = hour_data.sample(frac = 0.05, random_state = 42)\n",
    "# sample 0.05 of the hour_data\n",
    "# random_state is just a seed for sampling, you can define it yourself\n",
    "\n",
    "sampled_data = pd.concat([sampled_data, sample]) # adding data for this hour to the DF\n",
    "```\n",
    "\n",
    "This *sampled_data* will contain 5% values selected at random from each hour.\n",
    "\n",
    "Note that the code given above is only the part that will be used for sampling and not the complete code required for sampling and combining the data files.\n",
    "\n",
    "Keep in mind that you sample by date AND hour, not just hour. (Why?)"
   ]
  },
  {
   "cell_type": "markdown",
   "metadata": {
    "id": "3zog80nsqvKp"
   },
   "source": [
    "---"
   ]
  },
  {
   "cell_type": "markdown",
   "metadata": {
    "id": "Fp24-wpQrlC5"
   },
   "source": [
    "**1.1.1** <font color = red>[5 marks]</font> <br>\n",
    "Figure out how to sample and combine the files."
   ]
  },
  {
   "cell_type": "markdown",
   "metadata": {
    "id": "vRGOnciGOvq0"
   },
   "source": [
    "**Note:** It is not mandatory to use the method specified above. While sampling, you only need to make sure that your sampled data represents the overall data of all the months accurately."
   ]
  },
  {
   "cell_type": "code",
   "execution_count": null,
   "metadata": {
    "id": "3cpuzPFvP2iC"
   },
   "outputs": [],
   "source": [
    "# Sample the data\n",
    "# It is recommmended to not load all the files at once to avoid memory overload"
   ]
  },
  {
   "cell_type": "code",
   "execution_count": null,
   "metadata": {
    "id": "h3x5bCWmarTO"
   },
   "outputs": [],
   "source": [
    "# from google.colab import drive\n",
    "# drive.mount('/content/drive')"
   ]
  },
  {
   "cell_type": "code",
   "execution_count": 297,
   "metadata": {
    "id": "t1EXP0PHzPs0"
   },
   "outputs": [
    {
     "name": "stdout",
     "output_type": "stream",
     "text": [
      "Processing: C:\\Users\\aryan\\Downloads\\Datasets and Dictionary\\trip_records\\2023-1.parquet\n",
      "Processing: C:\\Users\\aryan\\Downloads\\Datasets and Dictionary\\trip_records\\2023-10.parquet\n",
      "Processing: C:\\Users\\aryan\\Downloads\\Datasets and Dictionary\\trip_records\\2023-11.parquet\n",
      "Processing: C:\\Users\\aryan\\Downloads\\Datasets and Dictionary\\trip_records\\2023-12.parquet\n",
      "Processing: C:\\Users\\aryan\\Downloads\\Datasets and Dictionary\\trip_records\\2023-2.parquet\n",
      "Processing: C:\\Users\\aryan\\Downloads\\Datasets and Dictionary\\trip_records\\2023-3.parquet\n",
      "Processing: C:\\Users\\aryan\\Downloads\\Datasets and Dictionary\\trip_records\\2023-4.parquet\n",
      "Processing: C:\\Users\\aryan\\Downloads\\Datasets and Dictionary\\trip_records\\2023-5.parquet\n",
      "Processing: C:\\Users\\aryan\\Downloads\\Datasets and Dictionary\\trip_records\\2023-6.parquet\n",
      "Processing: C:\\Users\\aryan\\Downloads\\Datasets and Dictionary\\trip_records\\2023-7.parquet\n",
      "Processing: C:\\Users\\aryan\\Downloads\\Datasets and Dictionary\\trip_records\\2023-8.parquet\n",
      "Processing: C:\\Users\\aryan\\Downloads\\Datasets and Dictionary\\trip_records\\2023-9.parquet\n",
      "   VendorID tpep_pickup_datetime tpep_dropoff_datetime  passenger_count  \\\n",
      "0         2  2023-01-01 00:07:18   2023-01-01 00:23:15              1.0   \n",
      "1         2  2023-01-01 00:16:41   2023-01-01 00:21:46              2.0   \n",
      "2         2  2023-01-01 00:14:03   2023-01-01 00:24:36              3.0   \n",
      "3         2  2023-01-01 00:24:30   2023-01-01 00:29:55              1.0   \n",
      "4         2  2023-01-01 00:43:00   2023-01-01 01:01:00              NaN   \n",
      "\n",
      "   trip_distance  RatecodeID store_and_fwd_flag  PULocationID  DOLocationID  \\\n",
      "0           7.74         1.0                  N           138           256   \n",
      "1           1.24         1.0                  N           161           237   \n",
      "2           1.44         1.0                  N           237           141   \n",
      "3           0.54         1.0                  N           143           142   \n",
      "4          19.24         NaN               None            66           107   \n",
      "\n",
      "   payment_type  ...  mta_tax  tip_amount  tolls_amount  \\\n",
      "0             2  ...      0.5        0.00           0.0   \n",
      "1             1  ...      0.5        2.58           0.0   \n",
      "2             2  ...      0.5        0.00           0.0   \n",
      "3             2  ...      0.5        0.00           0.0   \n",
      "4             0  ...      0.5        5.93           0.0   \n",
      "\n",
      "   improvement_surcharge  total_amount  congestion_surcharge  airport_fee  \\\n",
      "0                    1.0         41.15                   0.0         1.25   \n",
      "1                    1.0         15.48                   2.5         0.00   \n",
      "2                    1.0         16.40                   2.5         0.00   \n",
      "3                    1.0         11.50                   2.5         0.00   \n",
      "4                    1.0         35.57                   NaN          NaN   \n",
      "\n",
      "   pickup_date  pickup_hour Airport_fee  \n",
      "0   2023-01-01            0         NaN  \n",
      "1   2023-01-01            0         NaN  \n",
      "2   2023-01-01            0         NaN  \n",
      "3   2023-01-01            0         NaN  \n",
      "4   2023-01-01            0         NaN  \n",
      "\n",
      "[5 rows x 22 columns]\n"
     ]
    }
   ],
   "source": [
    "# Take a small percentage of entries from each hour of every date.\n",
    "# Iterating through the monthly data:\n",
    "#   read a month file -> day -> hour: append sampled data -> move to next hour -> move to next day after 24 hours -> move to next month file\n",
    "# Create a single dataframe for the year combining all the monthly data\n",
    "\n",
    "# Select the folder having data files\n",
    "import os\n",
    "import pandas as pd\n",
    "\n",
    "# Change directory to where the parquet files are stored\n",
    "os.chdir(r'C:\\Users\\aryan\\Downloads\\Datasets and Dictionary\\trip_records')\n",
    "\n",
    "# Get only .parquet files and ignore system files\n",
    "file_list = [f for f in os.listdir() if f.endswith('.parquet') and os.path.isfile(f)]\n",
    "\n",
    "# Initialize final dataframe\n",
    "df = pd.DataFrame()\n",
    "\n",
    "for file_name in file_list:\n",
    "    try:\n",
    "        file_path = os.path.join(os.getcwd(), file_name)\n",
    "        print(f\"Processing: {file_path}\")\n",
    "\n",
    "        # Read parquet file\n",
    "        data = pd.read_parquet(file_path)\n",
    "\n",
    "        # Ensure datetime column exists and is of datetime type\n",
    "        if 'tpep_pickup_datetime' not in data.columns:\n",
    "            print(f\"Skipped {file_name} - Missing 'tpep_pickup_datetime'\")\n",
    "            continue\n",
    "\n",
    "        if not pd.api.types.is_datetime64_any_dtype(data['tpep_pickup_datetime']):\n",
    "            data['tpep_pickup_datetime'] = pd.to_datetime(data['tpep_pickup_datetime'], errors='coerce')\n",
    "\n",
    "        # Drop rows with invalid datetime\n",
    "        data = data.dropna(subset=['tpep_pickup_datetime'])\n",
    "\n",
    "        # Extract date and hour\n",
    "        data['pickup_date'] = data['tpep_pickup_datetime'].dt.date\n",
    "        data['pickup_hour'] = data['tpep_pickup_datetime'].dt.hour\n",
    "\n",
    "        # Collect sampled data from each hour\n",
    "        sampled_data = pd.DataFrame()\n",
    "        for date_val in data['pickup_date'].unique():\n",
    "            day_data = data[data['pickup_date'] == date_val]\n",
    "            for hr in range(24):\n",
    "                hr_data = day_data[day_data['pickup_hour'] == hr]\n",
    "                if not hr_data.empty:\n",
    "                    hr_sample = hr_data.sample(frac=0.05, random_state=42)\n",
    "                    sampled_data = pd.concat([sampled_data, hr_sample], ignore_index=True)\n",
    "\n",
    "        # Add to final dataframe\n",
    "        df = pd.concat([df, sampled_data], ignore_index=True)\n",
    "\n",
    "    except Exception as e:\n",
    "        print(f\"Error reading file {file_name}: {e}\")\n",
    "\n",
    "# Reset index and show result\n",
    "df.reset_index(drop=True, inplace=True)\n",
    "print(df.head())\n",
    "\n",
    "\n"
   ]
  },
  {
   "cell_type": "markdown",
   "metadata": {
    "id": "Sej6pZkzw2AK"
   },
   "source": [
    "After combining the data files into one DataFrame, convert the new DataFrame to a CSV or parquet file and store it to use directly.\n",
    "\n",
    "Ideally, you can try keeping the total entries to around 250,000 to 300,000."
   ]
  },
  {
   "cell_type": "code",
   "execution_count": 299,
   "metadata": {
    "id": "okaVAsdPxJow"
   },
   "outputs": [],
   "source": [
    "# Store the df in csv/parquet\n",
    "# df.to_parquet('')\n",
    "df.to_parquet(r'C:\\Users\\aryan\\Downloads\\Datasets and Dictionary\\trip_records.parquet')"
   ]
  },
  {
   "cell_type": "markdown",
   "metadata": {
    "id": "QaOS3H9izZ0N"
   },
   "source": [
    "## **2** Data Cleaning\n",
    "<font color = red>[30 marks]</font> <br>"
   ]
  },
  {
   "cell_type": "markdown",
   "metadata": {
    "id": "5y3PKWqhxRA9"
   },
   "source": [
    "Now we can load the new data directly."
   ]
  },
  {
   "cell_type": "code",
   "execution_count": 301,
   "metadata": {
    "id": "FOuOL0SDxQHd"
   },
   "outputs": [],
   "source": [
    "# Load the new data file\n",
    "df= pd.read_parquet(r'C:\\Users\\aryan\\Downloads\\Datasets and Dictionary\\trip_records.parquet')"
   ]
  },
  {
   "cell_type": "code",
   "execution_count": 303,
   "metadata": {
    "id": "fbzmFKyn1780"
   },
   "outputs": [
    {
     "data": {
      "text/html": [
       "<div>\n",
       "<style scoped>\n",
       "    .dataframe tbody tr th:only-of-type {\n",
       "        vertical-align: middle;\n",
       "    }\n",
       "\n",
       "    .dataframe tbody tr th {\n",
       "        vertical-align: top;\n",
       "    }\n",
       "\n",
       "    .dataframe thead th {\n",
       "        text-align: right;\n",
       "    }\n",
       "</style>\n",
       "<table border=\"1\" class=\"dataframe\">\n",
       "  <thead>\n",
       "    <tr style=\"text-align: right;\">\n",
       "      <th></th>\n",
       "      <th>VendorID</th>\n",
       "      <th>tpep_pickup_datetime</th>\n",
       "      <th>tpep_dropoff_datetime</th>\n",
       "      <th>passenger_count</th>\n",
       "      <th>trip_distance</th>\n",
       "      <th>RatecodeID</th>\n",
       "      <th>store_and_fwd_flag</th>\n",
       "      <th>PULocationID</th>\n",
       "      <th>DOLocationID</th>\n",
       "      <th>payment_type</th>\n",
       "      <th>...</th>\n",
       "      <th>mta_tax</th>\n",
       "      <th>tip_amount</th>\n",
       "      <th>tolls_amount</th>\n",
       "      <th>improvement_surcharge</th>\n",
       "      <th>total_amount</th>\n",
       "      <th>congestion_surcharge</th>\n",
       "      <th>airport_fee</th>\n",
       "      <th>pickup_date</th>\n",
       "      <th>pickup_hour</th>\n",
       "      <th>Airport_fee</th>\n",
       "    </tr>\n",
       "  </thead>\n",
       "  <tbody>\n",
       "    <tr>\n",
       "      <th>0</th>\n",
       "      <td>2</td>\n",
       "      <td>2023-01-01 00:07:18</td>\n",
       "      <td>2023-01-01 00:23:15</td>\n",
       "      <td>1.0</td>\n",
       "      <td>7.74</td>\n",
       "      <td>1.0</td>\n",
       "      <td>N</td>\n",
       "      <td>138</td>\n",
       "      <td>256</td>\n",
       "      <td>2</td>\n",
       "      <td>...</td>\n",
       "      <td>0.5</td>\n",
       "      <td>0.00</td>\n",
       "      <td>0.0</td>\n",
       "      <td>1.0</td>\n",
       "      <td>41.15</td>\n",
       "      <td>0.0</td>\n",
       "      <td>1.25</td>\n",
       "      <td>2023-01-01</td>\n",
       "      <td>0</td>\n",
       "      <td>NaN</td>\n",
       "    </tr>\n",
       "    <tr>\n",
       "      <th>1</th>\n",
       "      <td>2</td>\n",
       "      <td>2023-01-01 00:16:41</td>\n",
       "      <td>2023-01-01 00:21:46</td>\n",
       "      <td>2.0</td>\n",
       "      <td>1.24</td>\n",
       "      <td>1.0</td>\n",
       "      <td>N</td>\n",
       "      <td>161</td>\n",
       "      <td>237</td>\n",
       "      <td>1</td>\n",
       "      <td>...</td>\n",
       "      <td>0.5</td>\n",
       "      <td>2.58</td>\n",
       "      <td>0.0</td>\n",
       "      <td>1.0</td>\n",
       "      <td>15.48</td>\n",
       "      <td>2.5</td>\n",
       "      <td>0.00</td>\n",
       "      <td>2023-01-01</td>\n",
       "      <td>0</td>\n",
       "      <td>NaN</td>\n",
       "    </tr>\n",
       "    <tr>\n",
       "      <th>2</th>\n",
       "      <td>2</td>\n",
       "      <td>2023-01-01 00:14:03</td>\n",
       "      <td>2023-01-01 00:24:36</td>\n",
       "      <td>3.0</td>\n",
       "      <td>1.44</td>\n",
       "      <td>1.0</td>\n",
       "      <td>N</td>\n",
       "      <td>237</td>\n",
       "      <td>141</td>\n",
       "      <td>2</td>\n",
       "      <td>...</td>\n",
       "      <td>0.5</td>\n",
       "      <td>0.00</td>\n",
       "      <td>0.0</td>\n",
       "      <td>1.0</td>\n",
       "      <td>16.40</td>\n",
       "      <td>2.5</td>\n",
       "      <td>0.00</td>\n",
       "      <td>2023-01-01</td>\n",
       "      <td>0</td>\n",
       "      <td>NaN</td>\n",
       "    </tr>\n",
       "    <tr>\n",
       "      <th>3</th>\n",
       "      <td>2</td>\n",
       "      <td>2023-01-01 00:24:30</td>\n",
       "      <td>2023-01-01 00:29:55</td>\n",
       "      <td>1.0</td>\n",
       "      <td>0.54</td>\n",
       "      <td>1.0</td>\n",
       "      <td>N</td>\n",
       "      <td>143</td>\n",
       "      <td>142</td>\n",
       "      <td>2</td>\n",
       "      <td>...</td>\n",
       "      <td>0.5</td>\n",
       "      <td>0.00</td>\n",
       "      <td>0.0</td>\n",
       "      <td>1.0</td>\n",
       "      <td>11.50</td>\n",
       "      <td>2.5</td>\n",
       "      <td>0.00</td>\n",
       "      <td>2023-01-01</td>\n",
       "      <td>0</td>\n",
       "      <td>NaN</td>\n",
       "    </tr>\n",
       "    <tr>\n",
       "      <th>4</th>\n",
       "      <td>2</td>\n",
       "      <td>2023-01-01 00:43:00</td>\n",
       "      <td>2023-01-01 01:01:00</td>\n",
       "      <td>NaN</td>\n",
       "      <td>19.24</td>\n",
       "      <td>NaN</td>\n",
       "      <td>None</td>\n",
       "      <td>66</td>\n",
       "      <td>107</td>\n",
       "      <td>0</td>\n",
       "      <td>...</td>\n",
       "      <td>0.5</td>\n",
       "      <td>5.93</td>\n",
       "      <td>0.0</td>\n",
       "      <td>1.0</td>\n",
       "      <td>35.57</td>\n",
       "      <td>NaN</td>\n",
       "      <td>NaN</td>\n",
       "      <td>2023-01-01</td>\n",
       "      <td>0</td>\n",
       "      <td>NaN</td>\n",
       "    </tr>\n",
       "  </tbody>\n",
       "</table>\n",
       "<p>5 rows × 22 columns</p>\n",
       "</div>"
      ],
      "text/plain": [
       "   VendorID tpep_pickup_datetime tpep_dropoff_datetime  passenger_count  \\\n",
       "0         2  2023-01-01 00:07:18   2023-01-01 00:23:15              1.0   \n",
       "1         2  2023-01-01 00:16:41   2023-01-01 00:21:46              2.0   \n",
       "2         2  2023-01-01 00:14:03   2023-01-01 00:24:36              3.0   \n",
       "3         2  2023-01-01 00:24:30   2023-01-01 00:29:55              1.0   \n",
       "4         2  2023-01-01 00:43:00   2023-01-01 01:01:00              NaN   \n",
       "\n",
       "   trip_distance  RatecodeID store_and_fwd_flag  PULocationID  DOLocationID  \\\n",
       "0           7.74         1.0                  N           138           256   \n",
       "1           1.24         1.0                  N           161           237   \n",
       "2           1.44         1.0                  N           237           141   \n",
       "3           0.54         1.0                  N           143           142   \n",
       "4          19.24         NaN               None            66           107   \n",
       "\n",
       "   payment_type  ...  mta_tax  tip_amount  tolls_amount  \\\n",
       "0             2  ...      0.5        0.00           0.0   \n",
       "1             1  ...      0.5        2.58           0.0   \n",
       "2             2  ...      0.5        0.00           0.0   \n",
       "3             2  ...      0.5        0.00           0.0   \n",
       "4             0  ...      0.5        5.93           0.0   \n",
       "\n",
       "   improvement_surcharge  total_amount  congestion_surcharge  airport_fee  \\\n",
       "0                    1.0         41.15                   0.0         1.25   \n",
       "1                    1.0         15.48                   2.5         0.00   \n",
       "2                    1.0         16.40                   2.5         0.00   \n",
       "3                    1.0         11.50                   2.5         0.00   \n",
       "4                    1.0         35.57                   NaN          NaN   \n",
       "\n",
       "   pickup_date  pickup_hour Airport_fee  \n",
       "0   2023-01-01            0         NaN  \n",
       "1   2023-01-01            0         NaN  \n",
       "2   2023-01-01            0         NaN  \n",
       "3   2023-01-01            0         NaN  \n",
       "4   2023-01-01            0         NaN  \n",
       "\n",
       "[5 rows x 22 columns]"
      ]
     },
     "execution_count": 303,
     "metadata": {},
     "output_type": "execute_result"
    }
   ],
   "source": [
    "# df.head()\n",
    "df.head()\n"
   ]
  },
  {
   "cell_type": "code",
   "execution_count": 305,
   "metadata": {
    "id": "FH83U4A49ErC"
   },
   "outputs": [
    {
     "name": "stdout",
     "output_type": "stream",
     "text": [
      "<class 'pandas.core.frame.DataFrame'>\n",
      "RangeIndex: 1896400 entries, 0 to 1896399\n",
      "Data columns (total 22 columns):\n",
      " #   Column                 Dtype         \n",
      "---  ------                 -----         \n",
      " 0   VendorID               int64         \n",
      " 1   tpep_pickup_datetime   datetime64[us]\n",
      " 2   tpep_dropoff_datetime  datetime64[us]\n",
      " 3   passenger_count        float64       \n",
      " 4   trip_distance          float64       \n",
      " 5   RatecodeID             float64       \n",
      " 6   store_and_fwd_flag     object        \n",
      " 7   PULocationID           int64         \n",
      " 8   DOLocationID           int64         \n",
      " 9   payment_type           int64         \n",
      " 10  fare_amount            float64       \n",
      " 11  extra                  float64       \n",
      " 12  mta_tax                float64       \n",
      " 13  tip_amount             float64       \n",
      " 14  tolls_amount           float64       \n",
      " 15  improvement_surcharge  float64       \n",
      " 16  total_amount           float64       \n",
      " 17  congestion_surcharge   float64       \n",
      " 18  airport_fee            float64       \n",
      " 19  pickup_date            object        \n",
      " 20  pickup_hour            int32         \n",
      " 21  Airport_fee            float64       \n",
      "dtypes: datetime64[us](2), float64(13), int32(1), int64(4), object(2)\n",
      "memory usage: 311.1+ MB\n"
     ]
    }
   ],
   "source": [
    "# df.info()\n",
    "df.info()"
   ]
  },
  {
   "cell_type": "markdown",
   "metadata": {
    "id": "HZvPSwJx0S3K"
   },
   "source": [
    "#### **2.1** Fixing Columns\n",
    "<font color = red>[10 marks]</font> <br>\n",
    "\n",
    "Fix/drop any columns as you seem necessary in the below sections\n"
   ]
  },
  {
   "cell_type": "markdown",
   "metadata": {
    "id": "358takCd2FiM"
   },
   "source": [
    "**2.1.1** <font color = red>[2 marks]</font> <br>\n",
    "\n",
    "Fix the index and drop unnecessary columns"
   ]
  },
  {
   "cell_type": "code",
   "execution_count": 312,
   "metadata": {
    "id": "KHHFyZxa2PEM"
   },
   "outputs": [
    {
     "name": "stdout",
     "output_type": "stream",
     "text": [
      "<class 'pandas.core.frame.DataFrame'>\n",
      "RangeIndex: 1896400 entries, 0 to 1896399\n",
      "Data columns (total 21 columns):\n",
      " #   Column                 Dtype         \n",
      "---  ------                 -----         \n",
      " 0   VendorID               int64         \n",
      " 1   tpep_pickup_datetime   datetime64[us]\n",
      " 2   tpep_dropoff_datetime  datetime64[us]\n",
      " 3   passenger_count        float64       \n",
      " 4   trip_distance          float64       \n",
      " 5   RatecodeID             float64       \n",
      " 6   PULocationID           int64         \n",
      " 7   DOLocationID           int64         \n",
      " 8   payment_type           int64         \n",
      " 9   fare_amount            float64       \n",
      " 10  extra                  float64       \n",
      " 11  mta_tax                float64       \n",
      " 12  tip_amount             float64       \n",
      " 13  tolls_amount           float64       \n",
      " 14  improvement_surcharge  float64       \n",
      " 15  total_amount           float64       \n",
      " 16  congestion_surcharge   float64       \n",
      " 17  airport_fee            float64       \n",
      " 18  pickup_date            object        \n",
      " 19  pickup_hour            int32         \n",
      " 20  Airport_fee            float64       \n",
      "dtypes: datetime64[us](2), float64(13), int32(1), int64(4), object(1)\n",
      "memory usage: 296.6+ MB\n"
     ]
    },
    {
     "data": {
      "text/html": [
       "<div>\n",
       "<style scoped>\n",
       "    .dataframe tbody tr th:only-of-type {\n",
       "        vertical-align: middle;\n",
       "    }\n",
       "\n",
       "    .dataframe tbody tr th {\n",
       "        vertical-align: top;\n",
       "    }\n",
       "\n",
       "    .dataframe thead th {\n",
       "        text-align: right;\n",
       "    }\n",
       "</style>\n",
       "<table border=\"1\" class=\"dataframe\">\n",
       "  <thead>\n",
       "    <tr style=\"text-align: right;\">\n",
       "      <th></th>\n",
       "      <th>VendorID</th>\n",
       "      <th>tpep_pickup_datetime</th>\n",
       "      <th>tpep_dropoff_datetime</th>\n",
       "      <th>passenger_count</th>\n",
       "      <th>trip_distance</th>\n",
       "      <th>RatecodeID</th>\n",
       "      <th>PULocationID</th>\n",
       "      <th>DOLocationID</th>\n",
       "      <th>payment_type</th>\n",
       "      <th>fare_amount</th>\n",
       "      <th>extra</th>\n",
       "      <th>mta_tax</th>\n",
       "      <th>tip_amount</th>\n",
       "      <th>tolls_amount</th>\n",
       "      <th>improvement_surcharge</th>\n",
       "      <th>total_amount</th>\n",
       "      <th>congestion_surcharge</th>\n",
       "      <th>airport_fee</th>\n",
       "      <th>pickup_hour</th>\n",
       "      <th>Airport_fee</th>\n",
       "    </tr>\n",
       "  </thead>\n",
       "  <tbody>\n",
       "    <tr>\n",
       "      <th>count</th>\n",
       "      <td>1.896400e+06</td>\n",
       "      <td>1896400</td>\n",
       "      <td>1896400</td>\n",
       "      <td>1.831526e+06</td>\n",
       "      <td>1.896400e+06</td>\n",
       "      <td>1.831526e+06</td>\n",
       "      <td>1.896400e+06</td>\n",
       "      <td>1.896400e+06</td>\n",
       "      <td>1.896400e+06</td>\n",
       "      <td>1.896400e+06</td>\n",
       "      <td>1.896400e+06</td>\n",
       "      <td>1.896400e+06</td>\n",
       "      <td>1.896400e+06</td>\n",
       "      <td>1.896400e+06</td>\n",
       "      <td>1.896400e+06</td>\n",
       "      <td>1.896400e+06</td>\n",
       "      <td>1.831526e+06</td>\n",
       "      <td>148483.000000</td>\n",
       "      <td>1.896400e+06</td>\n",
       "      <td>1.683043e+06</td>\n",
       "    </tr>\n",
       "    <tr>\n",
       "      <th>mean</th>\n",
       "      <td>1.733026e+00</td>\n",
       "      <td>2023-07-02 19:59:52.930795</td>\n",
       "      <td>2023-07-02 20:17:18.919563</td>\n",
       "      <td>1.369215e+00</td>\n",
       "      <td>3.858293e+00</td>\n",
       "      <td>1.634694e+00</td>\n",
       "      <td>1.652814e+02</td>\n",
       "      <td>1.640515e+02</td>\n",
       "      <td>1.163817e+00</td>\n",
       "      <td>1.991935e+01</td>\n",
       "      <td>1.588018e+00</td>\n",
       "      <td>4.952796e-01</td>\n",
       "      <td>3.547011e+00</td>\n",
       "      <td>5.965338e-01</td>\n",
       "      <td>9.989706e-01</td>\n",
       "      <td>2.898186e+01</td>\n",
       "      <td>2.307524e+00</td>\n",
       "      <td>0.109036</td>\n",
       "      <td>1.426504e+01</td>\n",
       "      <td>1.458850e-01</td>\n",
       "    </tr>\n",
       "    <tr>\n",
       "      <th>min</th>\n",
       "      <td>1.000000e+00</td>\n",
       "      <td>2022-12-31 23:51:30</td>\n",
       "      <td>2022-12-31 23:56:06</td>\n",
       "      <td>0.000000e+00</td>\n",
       "      <td>0.000000e+00</td>\n",
       "      <td>1.000000e+00</td>\n",
       "      <td>1.000000e+00</td>\n",
       "      <td>1.000000e+00</td>\n",
       "      <td>0.000000e+00</td>\n",
       "      <td>0.000000e+00</td>\n",
       "      <td>-2.500000e+00</td>\n",
       "      <td>-5.000000e-01</td>\n",
       "      <td>0.000000e+00</td>\n",
       "      <td>0.000000e+00</td>\n",
       "      <td>-1.000000e+00</td>\n",
       "      <td>-5.750000e+00</td>\n",
       "      <td>-2.500000e+00</td>\n",
       "      <td>-1.250000</td>\n",
       "      <td>0.000000e+00</td>\n",
       "      <td>-1.750000e+00</td>\n",
       "    </tr>\n",
       "    <tr>\n",
       "      <th>25%</th>\n",
       "      <td>1.000000e+00</td>\n",
       "      <td>2023-04-02 16:10:08.750000</td>\n",
       "      <td>2023-04-02 16:27:43.500000</td>\n",
       "      <td>1.000000e+00</td>\n",
       "      <td>1.050000e+00</td>\n",
       "      <td>1.000000e+00</td>\n",
       "      <td>1.320000e+02</td>\n",
       "      <td>1.140000e+02</td>\n",
       "      <td>1.000000e+00</td>\n",
       "      <td>9.300000e+00</td>\n",
       "      <td>0.000000e+00</td>\n",
       "      <td>5.000000e-01</td>\n",
       "      <td>1.000000e+00</td>\n",
       "      <td>0.000000e+00</td>\n",
       "      <td>1.000000e+00</td>\n",
       "      <td>1.596000e+01</td>\n",
       "      <td>2.500000e+00</td>\n",
       "      <td>0.000000</td>\n",
       "      <td>1.100000e+01</td>\n",
       "      <td>0.000000e+00</td>\n",
       "    </tr>\n",
       "    <tr>\n",
       "      <th>50%</th>\n",
       "      <td>2.000000e+00</td>\n",
       "      <td>2023-06-27 15:44:22.500000</td>\n",
       "      <td>2023-06-27 16:01:15</td>\n",
       "      <td>1.000000e+00</td>\n",
       "      <td>1.790000e+00</td>\n",
       "      <td>1.000000e+00</td>\n",
       "      <td>1.620000e+02</td>\n",
       "      <td>1.620000e+02</td>\n",
       "      <td>1.000000e+00</td>\n",
       "      <td>1.350000e+01</td>\n",
       "      <td>1.000000e+00</td>\n",
       "      <td>5.000000e-01</td>\n",
       "      <td>2.850000e+00</td>\n",
       "      <td>0.000000e+00</td>\n",
       "      <td>1.000000e+00</td>\n",
       "      <td>2.100000e+01</td>\n",
       "      <td>2.500000e+00</td>\n",
       "      <td>0.000000</td>\n",
       "      <td>1.500000e+01</td>\n",
       "      <td>0.000000e+00</td>\n",
       "    </tr>\n",
       "    <tr>\n",
       "      <th>75%</th>\n",
       "      <td>2.000000e+00</td>\n",
       "      <td>2023-10-06 19:37:45</td>\n",
       "      <td>2023-10-06 19:53:39</td>\n",
       "      <td>1.000000e+00</td>\n",
       "      <td>3.400000e+00</td>\n",
       "      <td>1.000000e+00</td>\n",
       "      <td>2.340000e+02</td>\n",
       "      <td>2.340000e+02</td>\n",
       "      <td>1.000000e+00</td>\n",
       "      <td>2.190000e+01</td>\n",
       "      <td>2.500000e+00</td>\n",
       "      <td>5.000000e-01</td>\n",
       "      <td>4.420000e+00</td>\n",
       "      <td>0.000000e+00</td>\n",
       "      <td>1.000000e+00</td>\n",
       "      <td>3.094000e+01</td>\n",
       "      <td>2.500000e+00</td>\n",
       "      <td>0.000000</td>\n",
       "      <td>1.900000e+01</td>\n",
       "      <td>0.000000e+00</td>\n",
       "    </tr>\n",
       "    <tr>\n",
       "      <th>max</th>\n",
       "      <td>6.000000e+00</td>\n",
       "      <td>2023-12-31 23:57:51</td>\n",
       "      <td>2024-01-01 20:50:55</td>\n",
       "      <td>9.000000e+00</td>\n",
       "      <td>1.263605e+05</td>\n",
       "      <td>9.900000e+01</td>\n",
       "      <td>2.650000e+02</td>\n",
       "      <td>2.650000e+02</td>\n",
       "      <td>4.000000e+00</td>\n",
       "      <td>1.431635e+05</td>\n",
       "      <td>2.080000e+01</td>\n",
       "      <td>4.000000e+00</td>\n",
       "      <td>2.230800e+02</td>\n",
       "      <td>1.430000e+02</td>\n",
       "      <td>1.000000e+00</td>\n",
       "      <td>1.431675e+05</td>\n",
       "      <td>2.500000e+00</td>\n",
       "      <td>1.250000</td>\n",
       "      <td>2.300000e+01</td>\n",
       "      <td>1.750000e+00</td>\n",
       "    </tr>\n",
       "    <tr>\n",
       "      <th>std</th>\n",
       "      <td>4.476401e-01</td>\n",
       "      <td>NaN</td>\n",
       "      <td>NaN</td>\n",
       "      <td>8.927560e-01</td>\n",
       "      <td>1.294085e+02</td>\n",
       "      <td>7.393915e+00</td>\n",
       "      <td>6.400038e+01</td>\n",
       "      <td>6.980207e+01</td>\n",
       "      <td>5.081384e-01</td>\n",
       "      <td>1.055371e+02</td>\n",
       "      <td>1.829200e+00</td>\n",
       "      <td>4.885128e-02</td>\n",
       "      <td>4.054882e+00</td>\n",
       "      <td>2.187878e+00</td>\n",
       "      <td>3.112072e-02</td>\n",
       "      <td>1.064162e+02</td>\n",
       "      <td>6.667267e-01</td>\n",
       "      <td>0.352744</td>\n",
       "      <td>5.807381e+00</td>\n",
       "      <td>4.733757e-01</td>\n",
       "    </tr>\n",
       "  </tbody>\n",
       "</table>\n",
       "</div>"
      ],
      "text/plain": [
       "           VendorID        tpep_pickup_datetime       tpep_dropoff_datetime  \\\n",
       "count  1.896400e+06                     1896400                     1896400   \n",
       "mean   1.733026e+00  2023-07-02 19:59:52.930795  2023-07-02 20:17:18.919563   \n",
       "min    1.000000e+00         2022-12-31 23:51:30         2022-12-31 23:56:06   \n",
       "25%    1.000000e+00  2023-04-02 16:10:08.750000  2023-04-02 16:27:43.500000   \n",
       "50%    2.000000e+00  2023-06-27 15:44:22.500000         2023-06-27 16:01:15   \n",
       "75%    2.000000e+00         2023-10-06 19:37:45         2023-10-06 19:53:39   \n",
       "max    6.000000e+00         2023-12-31 23:57:51         2024-01-01 20:50:55   \n",
       "std    4.476401e-01                         NaN                         NaN   \n",
       "\n",
       "       passenger_count  trip_distance    RatecodeID  PULocationID  \\\n",
       "count     1.831526e+06   1.896400e+06  1.831526e+06  1.896400e+06   \n",
       "mean      1.369215e+00   3.858293e+00  1.634694e+00  1.652814e+02   \n",
       "min       0.000000e+00   0.000000e+00  1.000000e+00  1.000000e+00   \n",
       "25%       1.000000e+00   1.050000e+00  1.000000e+00  1.320000e+02   \n",
       "50%       1.000000e+00   1.790000e+00  1.000000e+00  1.620000e+02   \n",
       "75%       1.000000e+00   3.400000e+00  1.000000e+00  2.340000e+02   \n",
       "max       9.000000e+00   1.263605e+05  9.900000e+01  2.650000e+02   \n",
       "std       8.927560e-01   1.294085e+02  7.393915e+00  6.400038e+01   \n",
       "\n",
       "       DOLocationID  payment_type   fare_amount         extra       mta_tax  \\\n",
       "count  1.896400e+06  1.896400e+06  1.896400e+06  1.896400e+06  1.896400e+06   \n",
       "mean   1.640515e+02  1.163817e+00  1.991935e+01  1.588018e+00  4.952796e-01   \n",
       "min    1.000000e+00  0.000000e+00  0.000000e+00 -2.500000e+00 -5.000000e-01   \n",
       "25%    1.140000e+02  1.000000e+00  9.300000e+00  0.000000e+00  5.000000e-01   \n",
       "50%    1.620000e+02  1.000000e+00  1.350000e+01  1.000000e+00  5.000000e-01   \n",
       "75%    2.340000e+02  1.000000e+00  2.190000e+01  2.500000e+00  5.000000e-01   \n",
       "max    2.650000e+02  4.000000e+00  1.431635e+05  2.080000e+01  4.000000e+00   \n",
       "std    6.980207e+01  5.081384e-01  1.055371e+02  1.829200e+00  4.885128e-02   \n",
       "\n",
       "         tip_amount  tolls_amount  improvement_surcharge  total_amount  \\\n",
       "count  1.896400e+06  1.896400e+06           1.896400e+06  1.896400e+06   \n",
       "mean   3.547011e+00  5.965338e-01           9.989706e-01  2.898186e+01   \n",
       "min    0.000000e+00  0.000000e+00          -1.000000e+00 -5.750000e+00   \n",
       "25%    1.000000e+00  0.000000e+00           1.000000e+00  1.596000e+01   \n",
       "50%    2.850000e+00  0.000000e+00           1.000000e+00  2.100000e+01   \n",
       "75%    4.420000e+00  0.000000e+00           1.000000e+00  3.094000e+01   \n",
       "max    2.230800e+02  1.430000e+02           1.000000e+00  1.431675e+05   \n",
       "std    4.054882e+00  2.187878e+00           3.112072e-02  1.064162e+02   \n",
       "\n",
       "       congestion_surcharge    airport_fee   pickup_hour   Airport_fee  \n",
       "count          1.831526e+06  148483.000000  1.896400e+06  1.683043e+06  \n",
       "mean           2.307524e+00       0.109036  1.426504e+01  1.458850e-01  \n",
       "min           -2.500000e+00      -1.250000  0.000000e+00 -1.750000e+00  \n",
       "25%            2.500000e+00       0.000000  1.100000e+01  0.000000e+00  \n",
       "50%            2.500000e+00       0.000000  1.500000e+01  0.000000e+00  \n",
       "75%            2.500000e+00       0.000000  1.900000e+01  0.000000e+00  \n",
       "max            2.500000e+00       1.250000  2.300000e+01  1.750000e+00  \n",
       "std            6.667267e-01       0.352744  5.807381e+00  4.733757e-01  "
      ]
     },
     "execution_count": 312,
     "metadata": {},
     "output_type": "execute_result"
    }
   ],
   "source": [
    "# Fix the index and drop any columns that are not needed\n",
    "df = df.reset_index(drop=True)\n",
    "df = df.drop(columns=['store_and_fwd_flag'], errors='ignore')\n",
    "df.info()\n",
    "df.describe()\n"
   ]
  },
  {
   "cell_type": "markdown",
   "metadata": {
    "id": "TIFmxvIT2wsn"
   },
   "source": [
    "**2.1.2** <font color = red>[3 marks]</font> <br>\n",
    "There are two airport fee columns. This is possibly an error in naming columns. Let's see whether these can be combined into a single column."
   ]
  },
  {
   "cell_type": "code",
   "execution_count": 316,
   "metadata": {
    "id": "rmtgnb1x6TrV"
   },
   "outputs": [
    {
     "data": {
      "text/html": [
       "<div>\n",
       "<style scoped>\n",
       "    .dataframe tbody tr th:only-of-type {\n",
       "        vertical-align: middle;\n",
       "    }\n",
       "\n",
       "    .dataframe tbody tr th {\n",
       "        vertical-align: top;\n",
       "    }\n",
       "\n",
       "    .dataframe thead th {\n",
       "        text-align: right;\n",
       "    }\n",
       "</style>\n",
       "<table border=\"1\" class=\"dataframe\">\n",
       "  <thead>\n",
       "    <tr style=\"text-align: right;\">\n",
       "      <th></th>\n",
       "      <th>VendorID</th>\n",
       "      <th>tpep_pickup_datetime</th>\n",
       "      <th>tpep_dropoff_datetime</th>\n",
       "      <th>passenger_count</th>\n",
       "      <th>trip_distance</th>\n",
       "      <th>RatecodeID</th>\n",
       "      <th>PULocationID</th>\n",
       "      <th>DOLocationID</th>\n",
       "      <th>payment_type</th>\n",
       "      <th>fare_amount</th>\n",
       "      <th>extra</th>\n",
       "      <th>mta_tax</th>\n",
       "      <th>tip_amount</th>\n",
       "      <th>tolls_amount</th>\n",
       "      <th>improvement_surcharge</th>\n",
       "      <th>total_amount</th>\n",
       "      <th>congestion_surcharge</th>\n",
       "      <th>pickup_hour</th>\n",
       "      <th>Airport_fee</th>\n",
       "    </tr>\n",
       "  </thead>\n",
       "  <tbody>\n",
       "    <tr>\n",
       "      <th>count</th>\n",
       "      <td>1.896400e+06</td>\n",
       "      <td>1896400</td>\n",
       "      <td>1896400</td>\n",
       "      <td>1.831526e+06</td>\n",
       "      <td>1.896400e+06</td>\n",
       "      <td>1.831526e+06</td>\n",
       "      <td>1.896400e+06</td>\n",
       "      <td>1.896400e+06</td>\n",
       "      <td>1.896400e+06</td>\n",
       "      <td>1.896400e+06</td>\n",
       "      <td>1.896400e+06</td>\n",
       "      <td>1.896400e+06</td>\n",
       "      <td>1.896400e+06</td>\n",
       "      <td>1.896400e+06</td>\n",
       "      <td>1.896400e+06</td>\n",
       "      <td>1.896400e+06</td>\n",
       "      <td>1.831526e+06</td>\n",
       "      <td>1.896400e+06</td>\n",
       "      <td>1.896400e+06</td>\n",
       "    </tr>\n",
       "    <tr>\n",
       "      <th>mean</th>\n",
       "      <td>1.733026e+00</td>\n",
       "      <td>2023-07-02 19:59:52.930795</td>\n",
       "      <td>2023-07-02 20:17:18.919563</td>\n",
       "      <td>1.369215e+00</td>\n",
       "      <td>3.858293e+00</td>\n",
       "      <td>1.634694e+00</td>\n",
       "      <td>1.652814e+02</td>\n",
       "      <td>1.640515e+02</td>\n",
       "      <td>1.163817e+00</td>\n",
       "      <td>1.991935e+01</td>\n",
       "      <td>1.588018e+00</td>\n",
       "      <td>4.952796e-01</td>\n",
       "      <td>3.547011e+00</td>\n",
       "      <td>5.965338e-01</td>\n",
       "      <td>9.989706e-01</td>\n",
       "      <td>2.898186e+01</td>\n",
       "      <td>2.307524e+00</td>\n",
       "      <td>1.426504e+01</td>\n",
       "      <td>1.380093e-01</td>\n",
       "    </tr>\n",
       "    <tr>\n",
       "      <th>min</th>\n",
       "      <td>1.000000e+00</td>\n",
       "      <td>2022-12-31 23:51:30</td>\n",
       "      <td>2022-12-31 23:56:06</td>\n",
       "      <td>0.000000e+00</td>\n",
       "      <td>0.000000e+00</td>\n",
       "      <td>1.000000e+00</td>\n",
       "      <td>1.000000e+00</td>\n",
       "      <td>1.000000e+00</td>\n",
       "      <td>0.000000e+00</td>\n",
       "      <td>0.000000e+00</td>\n",
       "      <td>-2.500000e+00</td>\n",
       "      <td>-5.000000e-01</td>\n",
       "      <td>0.000000e+00</td>\n",
       "      <td>0.000000e+00</td>\n",
       "      <td>-1.000000e+00</td>\n",
       "      <td>-5.750000e+00</td>\n",
       "      <td>-2.500000e+00</td>\n",
       "      <td>0.000000e+00</td>\n",
       "      <td>-1.750000e+00</td>\n",
       "    </tr>\n",
       "    <tr>\n",
       "      <th>25%</th>\n",
       "      <td>1.000000e+00</td>\n",
       "      <td>2023-04-02 16:10:08.750000</td>\n",
       "      <td>2023-04-02 16:27:43.500000</td>\n",
       "      <td>1.000000e+00</td>\n",
       "      <td>1.050000e+00</td>\n",
       "      <td>1.000000e+00</td>\n",
       "      <td>1.320000e+02</td>\n",
       "      <td>1.140000e+02</td>\n",
       "      <td>1.000000e+00</td>\n",
       "      <td>9.300000e+00</td>\n",
       "      <td>0.000000e+00</td>\n",
       "      <td>5.000000e-01</td>\n",
       "      <td>1.000000e+00</td>\n",
       "      <td>0.000000e+00</td>\n",
       "      <td>1.000000e+00</td>\n",
       "      <td>1.596000e+01</td>\n",
       "      <td>2.500000e+00</td>\n",
       "      <td>1.100000e+01</td>\n",
       "      <td>0.000000e+00</td>\n",
       "    </tr>\n",
       "    <tr>\n",
       "      <th>50%</th>\n",
       "      <td>2.000000e+00</td>\n",
       "      <td>2023-06-27 15:44:22.500000</td>\n",
       "      <td>2023-06-27 16:01:15</td>\n",
       "      <td>1.000000e+00</td>\n",
       "      <td>1.790000e+00</td>\n",
       "      <td>1.000000e+00</td>\n",
       "      <td>1.620000e+02</td>\n",
       "      <td>1.620000e+02</td>\n",
       "      <td>1.000000e+00</td>\n",
       "      <td>1.350000e+01</td>\n",
       "      <td>1.000000e+00</td>\n",
       "      <td>5.000000e-01</td>\n",
       "      <td>2.850000e+00</td>\n",
       "      <td>0.000000e+00</td>\n",
       "      <td>1.000000e+00</td>\n",
       "      <td>2.100000e+01</td>\n",
       "      <td>2.500000e+00</td>\n",
       "      <td>1.500000e+01</td>\n",
       "      <td>0.000000e+00</td>\n",
       "    </tr>\n",
       "    <tr>\n",
       "      <th>75%</th>\n",
       "      <td>2.000000e+00</td>\n",
       "      <td>2023-10-06 19:37:45</td>\n",
       "      <td>2023-10-06 19:53:39</td>\n",
       "      <td>1.000000e+00</td>\n",
       "      <td>3.400000e+00</td>\n",
       "      <td>1.000000e+00</td>\n",
       "      <td>2.340000e+02</td>\n",
       "      <td>2.340000e+02</td>\n",
       "      <td>1.000000e+00</td>\n",
       "      <td>2.190000e+01</td>\n",
       "      <td>2.500000e+00</td>\n",
       "      <td>5.000000e-01</td>\n",
       "      <td>4.420000e+00</td>\n",
       "      <td>0.000000e+00</td>\n",
       "      <td>1.000000e+00</td>\n",
       "      <td>3.094000e+01</td>\n",
       "      <td>2.500000e+00</td>\n",
       "      <td>1.900000e+01</td>\n",
       "      <td>0.000000e+00</td>\n",
       "    </tr>\n",
       "    <tr>\n",
       "      <th>max</th>\n",
       "      <td>6.000000e+00</td>\n",
       "      <td>2023-12-31 23:57:51</td>\n",
       "      <td>2024-01-01 20:50:55</td>\n",
       "      <td>9.000000e+00</td>\n",
       "      <td>1.263605e+05</td>\n",
       "      <td>9.900000e+01</td>\n",
       "      <td>2.650000e+02</td>\n",
       "      <td>2.650000e+02</td>\n",
       "      <td>4.000000e+00</td>\n",
       "      <td>1.431635e+05</td>\n",
       "      <td>2.080000e+01</td>\n",
       "      <td>4.000000e+00</td>\n",
       "      <td>2.230800e+02</td>\n",
       "      <td>1.430000e+02</td>\n",
       "      <td>1.000000e+00</td>\n",
       "      <td>1.431675e+05</td>\n",
       "      <td>2.500000e+00</td>\n",
       "      <td>2.300000e+01</td>\n",
       "      <td>1.750000e+00</td>\n",
       "    </tr>\n",
       "    <tr>\n",
       "      <th>std</th>\n",
       "      <td>4.476401e-01</td>\n",
       "      <td>NaN</td>\n",
       "      <td>NaN</td>\n",
       "      <td>8.927560e-01</td>\n",
       "      <td>1.294085e+02</td>\n",
       "      <td>7.393915e+00</td>\n",
       "      <td>6.400038e+01</td>\n",
       "      <td>6.980207e+01</td>\n",
       "      <td>5.081384e-01</td>\n",
       "      <td>1.055371e+02</td>\n",
       "      <td>1.829200e+00</td>\n",
       "      <td>4.885128e-02</td>\n",
       "      <td>4.054882e+00</td>\n",
       "      <td>2.187878e+00</td>\n",
       "      <td>3.112072e-02</td>\n",
       "      <td>1.064162e+02</td>\n",
       "      <td>6.667267e-01</td>\n",
       "      <td>5.807381e+00</td>\n",
       "      <td>4.575896e-01</td>\n",
       "    </tr>\n",
       "  </tbody>\n",
       "</table>\n",
       "</div>"
      ],
      "text/plain": [
       "           VendorID        tpep_pickup_datetime       tpep_dropoff_datetime  \\\n",
       "count  1.896400e+06                     1896400                     1896400   \n",
       "mean   1.733026e+00  2023-07-02 19:59:52.930795  2023-07-02 20:17:18.919563   \n",
       "min    1.000000e+00         2022-12-31 23:51:30         2022-12-31 23:56:06   \n",
       "25%    1.000000e+00  2023-04-02 16:10:08.750000  2023-04-02 16:27:43.500000   \n",
       "50%    2.000000e+00  2023-06-27 15:44:22.500000         2023-06-27 16:01:15   \n",
       "75%    2.000000e+00         2023-10-06 19:37:45         2023-10-06 19:53:39   \n",
       "max    6.000000e+00         2023-12-31 23:57:51         2024-01-01 20:50:55   \n",
       "std    4.476401e-01                         NaN                         NaN   \n",
       "\n",
       "       passenger_count  trip_distance    RatecodeID  PULocationID  \\\n",
       "count     1.831526e+06   1.896400e+06  1.831526e+06  1.896400e+06   \n",
       "mean      1.369215e+00   3.858293e+00  1.634694e+00  1.652814e+02   \n",
       "min       0.000000e+00   0.000000e+00  1.000000e+00  1.000000e+00   \n",
       "25%       1.000000e+00   1.050000e+00  1.000000e+00  1.320000e+02   \n",
       "50%       1.000000e+00   1.790000e+00  1.000000e+00  1.620000e+02   \n",
       "75%       1.000000e+00   3.400000e+00  1.000000e+00  2.340000e+02   \n",
       "max       9.000000e+00   1.263605e+05  9.900000e+01  2.650000e+02   \n",
       "std       8.927560e-01   1.294085e+02  7.393915e+00  6.400038e+01   \n",
       "\n",
       "       DOLocationID  payment_type   fare_amount         extra       mta_tax  \\\n",
       "count  1.896400e+06  1.896400e+06  1.896400e+06  1.896400e+06  1.896400e+06   \n",
       "mean   1.640515e+02  1.163817e+00  1.991935e+01  1.588018e+00  4.952796e-01   \n",
       "min    1.000000e+00  0.000000e+00  0.000000e+00 -2.500000e+00 -5.000000e-01   \n",
       "25%    1.140000e+02  1.000000e+00  9.300000e+00  0.000000e+00  5.000000e-01   \n",
       "50%    1.620000e+02  1.000000e+00  1.350000e+01  1.000000e+00  5.000000e-01   \n",
       "75%    2.340000e+02  1.000000e+00  2.190000e+01  2.500000e+00  5.000000e-01   \n",
       "max    2.650000e+02  4.000000e+00  1.431635e+05  2.080000e+01  4.000000e+00   \n",
       "std    6.980207e+01  5.081384e-01  1.055371e+02  1.829200e+00  4.885128e-02   \n",
       "\n",
       "         tip_amount  tolls_amount  improvement_surcharge  total_amount  \\\n",
       "count  1.896400e+06  1.896400e+06           1.896400e+06  1.896400e+06   \n",
       "mean   3.547011e+00  5.965338e-01           9.989706e-01  2.898186e+01   \n",
       "min    0.000000e+00  0.000000e+00          -1.000000e+00 -5.750000e+00   \n",
       "25%    1.000000e+00  0.000000e+00           1.000000e+00  1.596000e+01   \n",
       "50%    2.850000e+00  0.000000e+00           1.000000e+00  2.100000e+01   \n",
       "75%    4.420000e+00  0.000000e+00           1.000000e+00  3.094000e+01   \n",
       "max    2.230800e+02  1.430000e+02           1.000000e+00  1.431675e+05   \n",
       "std    4.054882e+00  2.187878e+00           3.112072e-02  1.064162e+02   \n",
       "\n",
       "       congestion_surcharge   pickup_hour   Airport_fee  \n",
       "count          1.831526e+06  1.896400e+06  1.896400e+06  \n",
       "mean           2.307524e+00  1.426504e+01  1.380093e-01  \n",
       "min           -2.500000e+00  0.000000e+00 -1.750000e+00  \n",
       "25%            2.500000e+00  1.100000e+01  0.000000e+00  \n",
       "50%            2.500000e+00  1.500000e+01  0.000000e+00  \n",
       "75%            2.500000e+00  1.900000e+01  0.000000e+00  \n",
       "max            2.500000e+00  2.300000e+01  1.750000e+00  \n",
       "std            6.667267e-01  5.807381e+00  4.575896e-01  "
      ]
     },
     "execution_count": 316,
     "metadata": {},
     "output_type": "execute_result"
    }
   ],
   "source": [
    "# Combine the two airport fee columns\n",
    "cols = ['airport_fee', 'Airport_fee']\n",
    "df['Airport_fee'] = df[cols].fillna(0).sum(axis=1) if all(c in df.columns for c in cols) else df.get('airport_fee') or df.get('Airport_fee')\n",
    "df.drop(columns=[c for c in cols if c in df.columns and c != 'Airport_fee'], inplace=True)\n",
    "df.describe()\n"
   ]
  },
  {
   "cell_type": "markdown",
   "metadata": {
    "id": "1g4AHG7mOYgP"
   },
   "source": [
    "**2.1.3** <font color = red>[5 marks]</font> <br>\n",
    "Fix columns with negative (monetary) values"
   ]
  },
  {
   "cell_type": "code",
   "execution_count": 322,
   "metadata": {
    "id": "nBsMT2MII1Hv"
   },
   "outputs": [
    {
     "data": {
      "text/html": [
       "<div>\n",
       "<style scoped>\n",
       "    .dataframe tbody tr th:only-of-type {\n",
       "        vertical-align: middle;\n",
       "    }\n",
       "\n",
       "    .dataframe tbody tr th {\n",
       "        vertical-align: top;\n",
       "    }\n",
       "\n",
       "    .dataframe thead th {\n",
       "        text-align: right;\n",
       "    }\n",
       "</style>\n",
       "<table border=\"1\" class=\"dataframe\">\n",
       "  <thead>\n",
       "    <tr style=\"text-align: right;\">\n",
       "      <th></th>\n",
       "      <th>VendorID</th>\n",
       "      <th>tpep_pickup_datetime</th>\n",
       "      <th>tpep_dropoff_datetime</th>\n",
       "      <th>passenger_count</th>\n",
       "      <th>trip_distance</th>\n",
       "      <th>RatecodeID</th>\n",
       "      <th>PULocationID</th>\n",
       "      <th>DOLocationID</th>\n",
       "      <th>payment_type</th>\n",
       "      <th>fare_amount</th>\n",
       "      <th>extra</th>\n",
       "      <th>mta_tax</th>\n",
       "      <th>tip_amount</th>\n",
       "      <th>tolls_amount</th>\n",
       "      <th>improvement_surcharge</th>\n",
       "      <th>total_amount</th>\n",
       "      <th>congestion_surcharge</th>\n",
       "      <th>pickup_date</th>\n",
       "      <th>pickup_hour</th>\n",
       "      <th>Airport_fee</th>\n",
       "    </tr>\n",
       "  </thead>\n",
       "  <tbody>\n",
       "  </tbody>\n",
       "</table>\n",
       "</div>"
      ],
      "text/plain": [
       "Empty DataFrame\n",
       "Columns: [VendorID, tpep_pickup_datetime, tpep_dropoff_datetime, passenger_count, trip_distance, RatecodeID, PULocationID, DOLocationID, payment_type, fare_amount, extra, mta_tax, tip_amount, tolls_amount, improvement_surcharge, total_amount, congestion_surcharge, pickup_date, pickup_hour, Airport_fee]\n",
       "Index: []"
      ]
     },
     "execution_count": 322,
     "metadata": {},
     "output_type": "execute_result"
    }
   ],
   "source": [
    "# check where values of fare amount are negative\n",
    "df[df[ \"fare_amount\" ] < 0.0] "
   ]
  },
  {
   "cell_type": "markdown",
   "metadata": {
    "id": "JNKpDtTh8awi"
   },
   "source": [
    "Did you notice something different in the `RatecodeID` column for above records?"
   ]
  },
  {
   "cell_type": "code",
   "execution_count": 324,
   "metadata": {
    "id": "9eVrrj7c3kjq"
   },
   "outputs": [
    {
     "data": {
      "text/plain": [
       "Series([], Name: count, dtype: int64)"
      ]
     },
     "execution_count": 324,
     "metadata": {},
     "output_type": "execute_result"
    }
   ],
   "source": [
    "# Analyse RatecodeID for the negative fare amounts\n",
    "df[df[\"fare_amount\"] < 0.0][\"RatecodeID\"].value_counts() \n"
   ]
  },
  {
   "cell_type": "code",
   "execution_count": 328,
   "metadata": {
    "id": "Ruyh2vaCRNxr"
   },
   "outputs": [
    {
     "name": "stdout",
     "output_type": "stream",
     "text": [
      "Columns with negative values: ['extra', 'mta_tax', 'improvement_surcharge', 'total_amount', 'congestion_surcharge', 'Airport_fee']\n"
     ]
    }
   ],
   "source": [
    "# Find which columns have negative values\n",
    "print(\"Columns with negative values:\", [col for col in df.select_dtypes(include='number') if (df[col] < 0).any()])"
   ]
  },
  {
   "cell_type": "code",
   "execution_count": 332,
   "metadata": {
    "id": "mPehZ6PJg3_J"
   },
   "outputs": [
    {
     "data": {
      "text/html": [
       "<div>\n",
       "<style scoped>\n",
       "    .dataframe tbody tr th:only-of-type {\n",
       "        vertical-align: middle;\n",
       "    }\n",
       "\n",
       "    .dataframe tbody tr th {\n",
       "        vertical-align: top;\n",
       "    }\n",
       "\n",
       "    .dataframe thead th {\n",
       "        text-align: right;\n",
       "    }\n",
       "</style>\n",
       "<table border=\"1\" class=\"dataframe\">\n",
       "  <thead>\n",
       "    <tr style=\"text-align: right;\">\n",
       "      <th></th>\n",
       "      <th>VendorID</th>\n",
       "      <th>tpep_pickup_datetime</th>\n",
       "      <th>tpep_dropoff_datetime</th>\n",
       "      <th>passenger_count</th>\n",
       "      <th>trip_distance</th>\n",
       "      <th>RatecodeID</th>\n",
       "      <th>PULocationID</th>\n",
       "      <th>DOLocationID</th>\n",
       "      <th>payment_type</th>\n",
       "      <th>fare_amount</th>\n",
       "      <th>extra</th>\n",
       "      <th>mta_tax</th>\n",
       "      <th>tip_amount</th>\n",
       "      <th>tolls_amount</th>\n",
       "      <th>improvement_surcharge</th>\n",
       "      <th>total_amount</th>\n",
       "      <th>congestion_surcharge</th>\n",
       "      <th>pickup_hour</th>\n",
       "      <th>Airport_fee</th>\n",
       "    </tr>\n",
       "  </thead>\n",
       "  <tbody>\n",
       "    <tr>\n",
       "      <th>count</th>\n",
       "      <td>1.896400e+06</td>\n",
       "      <td>1896400</td>\n",
       "      <td>1896400</td>\n",
       "      <td>1.831526e+06</td>\n",
       "      <td>1.896400e+06</td>\n",
       "      <td>1.831526e+06</td>\n",
       "      <td>1.896400e+06</td>\n",
       "      <td>1.896400e+06</td>\n",
       "      <td>1.896400e+06</td>\n",
       "      <td>1.896400e+06</td>\n",
       "      <td>1.896400e+06</td>\n",
       "      <td>1.896400e+06</td>\n",
       "      <td>1.896400e+06</td>\n",
       "      <td>1.896400e+06</td>\n",
       "      <td>1.896400e+06</td>\n",
       "      <td>1.896400e+06</td>\n",
       "      <td>1.831526e+06</td>\n",
       "      <td>1.896400e+06</td>\n",
       "      <td>1.896400e+06</td>\n",
       "    </tr>\n",
       "    <tr>\n",
       "      <th>mean</th>\n",
       "      <td>1.733026e+00</td>\n",
       "      <td>2023-07-02 19:59:52.930795</td>\n",
       "      <td>2023-07-02 20:17:18.919563</td>\n",
       "      <td>1.369215e+00</td>\n",
       "      <td>3.858293e+00</td>\n",
       "      <td>1.634694e+00</td>\n",
       "      <td>1.652814e+02</td>\n",
       "      <td>1.640515e+02</td>\n",
       "      <td>1.163817e+00</td>\n",
       "      <td>1.991935e+01</td>\n",
       "      <td>1.588022e+00</td>\n",
       "      <td>4.953181e-01</td>\n",
       "      <td>3.547011e+00</td>\n",
       "      <td>5.965338e-01</td>\n",
       "      <td>9.990529e-01</td>\n",
       "      <td>2.898216e+01</td>\n",
       "      <td>2.307677e+00</td>\n",
       "      <td>1.426504e+01</td>\n",
       "      <td>1.380348e-01</td>\n",
       "    </tr>\n",
       "    <tr>\n",
       "      <th>min</th>\n",
       "      <td>1.000000e+00</td>\n",
       "      <td>2022-12-31 23:51:30</td>\n",
       "      <td>2022-12-31 23:56:06</td>\n",
       "      <td>0.000000e+00</td>\n",
       "      <td>0.000000e+00</td>\n",
       "      <td>1.000000e+00</td>\n",
       "      <td>1.000000e+00</td>\n",
       "      <td>1.000000e+00</td>\n",
       "      <td>0.000000e+00</td>\n",
       "      <td>0.000000e+00</td>\n",
       "      <td>0.000000e+00</td>\n",
       "      <td>0.000000e+00</td>\n",
       "      <td>0.000000e+00</td>\n",
       "      <td>0.000000e+00</td>\n",
       "      <td>0.000000e+00</td>\n",
       "      <td>0.000000e+00</td>\n",
       "      <td>0.000000e+00</td>\n",
       "      <td>0.000000e+00</td>\n",
       "      <td>0.000000e+00</td>\n",
       "    </tr>\n",
       "    <tr>\n",
       "      <th>25%</th>\n",
       "      <td>1.000000e+00</td>\n",
       "      <td>2023-04-02 16:10:08.750000</td>\n",
       "      <td>2023-04-02 16:27:43.500000</td>\n",
       "      <td>1.000000e+00</td>\n",
       "      <td>1.050000e+00</td>\n",
       "      <td>1.000000e+00</td>\n",
       "      <td>1.320000e+02</td>\n",
       "      <td>1.140000e+02</td>\n",
       "      <td>1.000000e+00</td>\n",
       "      <td>9.300000e+00</td>\n",
       "      <td>0.000000e+00</td>\n",
       "      <td>5.000000e-01</td>\n",
       "      <td>1.000000e+00</td>\n",
       "      <td>0.000000e+00</td>\n",
       "      <td>1.000000e+00</td>\n",
       "      <td>1.596000e+01</td>\n",
       "      <td>2.500000e+00</td>\n",
       "      <td>1.100000e+01</td>\n",
       "      <td>0.000000e+00</td>\n",
       "    </tr>\n",
       "    <tr>\n",
       "      <th>50%</th>\n",
       "      <td>2.000000e+00</td>\n",
       "      <td>2023-06-27 15:44:22.500000</td>\n",
       "      <td>2023-06-27 16:01:15</td>\n",
       "      <td>1.000000e+00</td>\n",
       "      <td>1.790000e+00</td>\n",
       "      <td>1.000000e+00</td>\n",
       "      <td>1.620000e+02</td>\n",
       "      <td>1.620000e+02</td>\n",
       "      <td>1.000000e+00</td>\n",
       "      <td>1.350000e+01</td>\n",
       "      <td>1.000000e+00</td>\n",
       "      <td>5.000000e-01</td>\n",
       "      <td>2.850000e+00</td>\n",
       "      <td>0.000000e+00</td>\n",
       "      <td>1.000000e+00</td>\n",
       "      <td>2.100000e+01</td>\n",
       "      <td>2.500000e+00</td>\n",
       "      <td>1.500000e+01</td>\n",
       "      <td>0.000000e+00</td>\n",
       "    </tr>\n",
       "    <tr>\n",
       "      <th>75%</th>\n",
       "      <td>2.000000e+00</td>\n",
       "      <td>2023-10-06 19:37:45</td>\n",
       "      <td>2023-10-06 19:53:39</td>\n",
       "      <td>1.000000e+00</td>\n",
       "      <td>3.400000e+00</td>\n",
       "      <td>1.000000e+00</td>\n",
       "      <td>2.340000e+02</td>\n",
       "      <td>2.340000e+02</td>\n",
       "      <td>1.000000e+00</td>\n",
       "      <td>2.190000e+01</td>\n",
       "      <td>2.500000e+00</td>\n",
       "      <td>5.000000e-01</td>\n",
       "      <td>4.420000e+00</td>\n",
       "      <td>0.000000e+00</td>\n",
       "      <td>1.000000e+00</td>\n",
       "      <td>3.094000e+01</td>\n",
       "      <td>2.500000e+00</td>\n",
       "      <td>1.900000e+01</td>\n",
       "      <td>0.000000e+00</td>\n",
       "    </tr>\n",
       "    <tr>\n",
       "      <th>max</th>\n",
       "      <td>6.000000e+00</td>\n",
       "      <td>2023-12-31 23:57:51</td>\n",
       "      <td>2024-01-01 20:50:55</td>\n",
       "      <td>9.000000e+00</td>\n",
       "      <td>1.263605e+05</td>\n",
       "      <td>9.900000e+01</td>\n",
       "      <td>2.650000e+02</td>\n",
       "      <td>2.650000e+02</td>\n",
       "      <td>4.000000e+00</td>\n",
       "      <td>1.431635e+05</td>\n",
       "      <td>2.080000e+01</td>\n",
       "      <td>4.000000e+00</td>\n",
       "      <td>2.230800e+02</td>\n",
       "      <td>1.430000e+02</td>\n",
       "      <td>1.000000e+00</td>\n",
       "      <td>1.431675e+05</td>\n",
       "      <td>2.500000e+00</td>\n",
       "      <td>2.300000e+01</td>\n",
       "      <td>1.750000e+00</td>\n",
       "    </tr>\n",
       "    <tr>\n",
       "      <th>std</th>\n",
       "      <td>4.476401e-01</td>\n",
       "      <td>NaN</td>\n",
       "      <td>NaN</td>\n",
       "      <td>8.927560e-01</td>\n",
       "      <td>1.294085e+02</td>\n",
       "      <td>7.393915e+00</td>\n",
       "      <td>6.400038e+01</td>\n",
       "      <td>6.980207e+01</td>\n",
       "      <td>5.081384e-01</td>\n",
       "      <td>1.055371e+02</td>\n",
       "      <td>1.829196e+00</td>\n",
       "      <td>4.845942e-02</td>\n",
       "      <td>4.054882e+00</td>\n",
       "      <td>2.187878e+00</td>\n",
       "      <td>2.835735e-02</td>\n",
       "      <td>1.064161e+02</td>\n",
       "      <td>6.661974e-01</td>\n",
       "      <td>5.807381e+00</td>\n",
       "      <td>4.575819e-01</td>\n",
       "    </tr>\n",
       "  </tbody>\n",
       "</table>\n",
       "</div>"
      ],
      "text/plain": [
       "           VendorID        tpep_pickup_datetime       tpep_dropoff_datetime  \\\n",
       "count  1.896400e+06                     1896400                     1896400   \n",
       "mean   1.733026e+00  2023-07-02 19:59:52.930795  2023-07-02 20:17:18.919563   \n",
       "min    1.000000e+00         2022-12-31 23:51:30         2022-12-31 23:56:06   \n",
       "25%    1.000000e+00  2023-04-02 16:10:08.750000  2023-04-02 16:27:43.500000   \n",
       "50%    2.000000e+00  2023-06-27 15:44:22.500000         2023-06-27 16:01:15   \n",
       "75%    2.000000e+00         2023-10-06 19:37:45         2023-10-06 19:53:39   \n",
       "max    6.000000e+00         2023-12-31 23:57:51         2024-01-01 20:50:55   \n",
       "std    4.476401e-01                         NaN                         NaN   \n",
       "\n",
       "       passenger_count  trip_distance    RatecodeID  PULocationID  \\\n",
       "count     1.831526e+06   1.896400e+06  1.831526e+06  1.896400e+06   \n",
       "mean      1.369215e+00   3.858293e+00  1.634694e+00  1.652814e+02   \n",
       "min       0.000000e+00   0.000000e+00  1.000000e+00  1.000000e+00   \n",
       "25%       1.000000e+00   1.050000e+00  1.000000e+00  1.320000e+02   \n",
       "50%       1.000000e+00   1.790000e+00  1.000000e+00  1.620000e+02   \n",
       "75%       1.000000e+00   3.400000e+00  1.000000e+00  2.340000e+02   \n",
       "max       9.000000e+00   1.263605e+05  9.900000e+01  2.650000e+02   \n",
       "std       8.927560e-01   1.294085e+02  7.393915e+00  6.400038e+01   \n",
       "\n",
       "       DOLocationID  payment_type   fare_amount         extra       mta_tax  \\\n",
       "count  1.896400e+06  1.896400e+06  1.896400e+06  1.896400e+06  1.896400e+06   \n",
       "mean   1.640515e+02  1.163817e+00  1.991935e+01  1.588022e+00  4.953181e-01   \n",
       "min    1.000000e+00  0.000000e+00  0.000000e+00  0.000000e+00  0.000000e+00   \n",
       "25%    1.140000e+02  1.000000e+00  9.300000e+00  0.000000e+00  5.000000e-01   \n",
       "50%    1.620000e+02  1.000000e+00  1.350000e+01  1.000000e+00  5.000000e-01   \n",
       "75%    2.340000e+02  1.000000e+00  2.190000e+01  2.500000e+00  5.000000e-01   \n",
       "max    2.650000e+02  4.000000e+00  1.431635e+05  2.080000e+01  4.000000e+00   \n",
       "std    6.980207e+01  5.081384e-01  1.055371e+02  1.829196e+00  4.845942e-02   \n",
       "\n",
       "         tip_amount  tolls_amount  improvement_surcharge  total_amount  \\\n",
       "count  1.896400e+06  1.896400e+06           1.896400e+06  1.896400e+06   \n",
       "mean   3.547011e+00  5.965338e-01           9.990529e-01  2.898216e+01   \n",
       "min    0.000000e+00  0.000000e+00           0.000000e+00  0.000000e+00   \n",
       "25%    1.000000e+00  0.000000e+00           1.000000e+00  1.596000e+01   \n",
       "50%    2.850000e+00  0.000000e+00           1.000000e+00  2.100000e+01   \n",
       "75%    4.420000e+00  0.000000e+00           1.000000e+00  3.094000e+01   \n",
       "max    2.230800e+02  1.430000e+02           1.000000e+00  1.431675e+05   \n",
       "std    4.054882e+00  2.187878e+00           2.835735e-02  1.064161e+02   \n",
       "\n",
       "       congestion_surcharge   pickup_hour   Airport_fee  \n",
       "count          1.831526e+06  1.896400e+06  1.896400e+06  \n",
       "mean           2.307677e+00  1.426504e+01  1.380348e-01  \n",
       "min            0.000000e+00  0.000000e+00  0.000000e+00  \n",
       "25%            2.500000e+00  1.100000e+01  0.000000e+00  \n",
       "50%            2.500000e+00  1.500000e+01  0.000000e+00  \n",
       "75%            2.500000e+00  1.900000e+01  0.000000e+00  \n",
       "max            2.500000e+00  2.300000e+01  1.750000e+00  \n",
       "std            6.661974e-01  5.807381e+00  4.575819e-01  "
      ]
     },
     "execution_count": 332,
     "metadata": {},
     "output_type": "execute_result"
    }
   ],
   "source": [
    "# fix these negative values\n",
    "# Negative values to abs() or positive values.\n",
    "df[df.select_dtypes(include='number').columns] = df.select_dtypes(include='number').apply(lambda x: x.abs())\n",
    "df.describe()"
   ]
  },
  {
   "cell_type": "markdown",
   "metadata": {
    "id": "x2hakCCy6wXI"
   },
   "source": [
    "### **2.2** Handling Missing Values\n",
    "<font color = red>[10 marks]</font> <br>"
   ]
  },
  {
   "cell_type": "markdown",
   "metadata": {
    "id": "-K-QNPDVVhzR"
   },
   "source": [
    "**2.2.1**  <font color = red>[2 marks]</font> <br>\n",
    "Find the proportion of missing values in each column\n",
    "\n",
    "\n"
   ]
  },
  {
   "cell_type": "code",
   "execution_count": 335,
   "metadata": {
    "id": "tfTa9cct6Gec"
   },
   "outputs": [
    {
     "data": {
      "text/plain": [
       "VendorID                 0.000000\n",
       "tpep_pickup_datetime     0.000000\n",
       "tpep_dropoff_datetime    0.000000\n",
       "passenger_count          0.034209\n",
       "trip_distance            0.000000\n",
       "RatecodeID               0.034209\n",
       "PULocationID             0.000000\n",
       "DOLocationID             0.000000\n",
       "payment_type             0.000000\n",
       "fare_amount              0.000000\n",
       "extra                    0.000000\n",
       "mta_tax                  0.000000\n",
       "tip_amount               0.000000\n",
       "tolls_amount             0.000000\n",
       "improvement_surcharge    0.000000\n",
       "total_amount             0.000000\n",
       "congestion_surcharge     0.034209\n",
       "pickup_date              0.000000\n",
       "pickup_hour              0.000000\n",
       "Airport_fee              0.000000\n",
       "dtype: float64"
      ]
     },
     "execution_count": 335,
     "metadata": {},
     "output_type": "execute_result"
    }
   ],
   "source": [
    "# Find the proportion of missing values in each column\n",
    "df.isnull().mean()"
   ]
  },
  {
   "cell_type": "markdown",
   "metadata": {
    "id": "-UdUl6AL_-E_"
   },
   "source": [
    "**2.2.2**  <font color = red>[3 marks]</font> <br>\n",
    "Handling missing values in `passenger_count`"
   ]
  },
  {
   "cell_type": "code",
   "execution_count": 339,
   "metadata": {
    "id": "JmNmhr4q8Xys"
   },
   "outputs": [
    {
     "data": {
      "text/html": [
       "<div>\n",
       "<style scoped>\n",
       "    .dataframe tbody tr th:only-of-type {\n",
       "        vertical-align: middle;\n",
       "    }\n",
       "\n",
       "    .dataframe tbody tr th {\n",
       "        vertical-align: top;\n",
       "    }\n",
       "\n",
       "    .dataframe thead th {\n",
       "        text-align: right;\n",
       "    }\n",
       "</style>\n",
       "<table border=\"1\" class=\"dataframe\">\n",
       "  <thead>\n",
       "    <tr style=\"text-align: right;\">\n",
       "      <th></th>\n",
       "      <th>VendorID</th>\n",
       "      <th>tpep_pickup_datetime</th>\n",
       "      <th>tpep_dropoff_datetime</th>\n",
       "      <th>passenger_count</th>\n",
       "      <th>trip_distance</th>\n",
       "      <th>RatecodeID</th>\n",
       "      <th>PULocationID</th>\n",
       "      <th>DOLocationID</th>\n",
       "      <th>payment_type</th>\n",
       "      <th>fare_amount</th>\n",
       "      <th>extra</th>\n",
       "      <th>mta_tax</th>\n",
       "      <th>tip_amount</th>\n",
       "      <th>tolls_amount</th>\n",
       "      <th>improvement_surcharge</th>\n",
       "      <th>total_amount</th>\n",
       "      <th>congestion_surcharge</th>\n",
       "      <th>pickup_hour</th>\n",
       "      <th>Airport_fee</th>\n",
       "    </tr>\n",
       "  </thead>\n",
       "  <tbody>\n",
       "    <tr>\n",
       "      <th>count</th>\n",
       "      <td>1.896400e+06</td>\n",
       "      <td>1896400</td>\n",
       "      <td>1896400</td>\n",
       "      <td>1.896400e+06</td>\n",
       "      <td>1.896400e+06</td>\n",
       "      <td>1.831526e+06</td>\n",
       "      <td>1.896400e+06</td>\n",
       "      <td>1.896400e+06</td>\n",
       "      <td>1.896400e+06</td>\n",
       "      <td>1.896400e+06</td>\n",
       "      <td>1.896400e+06</td>\n",
       "      <td>1.896400e+06</td>\n",
       "      <td>1.896400e+06</td>\n",
       "      <td>1.896400e+06</td>\n",
       "      <td>1.896400e+06</td>\n",
       "      <td>1.896400e+06</td>\n",
       "      <td>1.831526e+06</td>\n",
       "      <td>1.896400e+06</td>\n",
       "      <td>1.896400e+06</td>\n",
       "    </tr>\n",
       "    <tr>\n",
       "      <th>mean</th>\n",
       "      <td>1.733026e+00</td>\n",
       "      <td>2023-07-02 19:59:52.930795</td>\n",
       "      <td>2023-07-02 20:17:18.919563</td>\n",
       "      <td>1.369215e+00</td>\n",
       "      <td>3.858293e+00</td>\n",
       "      <td>1.634694e+00</td>\n",
       "      <td>1.652814e+02</td>\n",
       "      <td>1.640515e+02</td>\n",
       "      <td>1.163817e+00</td>\n",
       "      <td>1.991935e+01</td>\n",
       "      <td>1.588022e+00</td>\n",
       "      <td>4.953181e-01</td>\n",
       "      <td>3.547011e+00</td>\n",
       "      <td>5.965338e-01</td>\n",
       "      <td>9.990529e-01</td>\n",
       "      <td>2.898216e+01</td>\n",
       "      <td>2.307677e+00</td>\n",
       "      <td>1.426504e+01</td>\n",
       "      <td>1.380348e-01</td>\n",
       "    </tr>\n",
       "    <tr>\n",
       "      <th>min</th>\n",
       "      <td>1.000000e+00</td>\n",
       "      <td>2022-12-31 23:51:30</td>\n",
       "      <td>2022-12-31 23:56:06</td>\n",
       "      <td>0.000000e+00</td>\n",
       "      <td>0.000000e+00</td>\n",
       "      <td>1.000000e+00</td>\n",
       "      <td>1.000000e+00</td>\n",
       "      <td>1.000000e+00</td>\n",
       "      <td>0.000000e+00</td>\n",
       "      <td>0.000000e+00</td>\n",
       "      <td>0.000000e+00</td>\n",
       "      <td>0.000000e+00</td>\n",
       "      <td>0.000000e+00</td>\n",
       "      <td>0.000000e+00</td>\n",
       "      <td>0.000000e+00</td>\n",
       "      <td>0.000000e+00</td>\n",
       "      <td>0.000000e+00</td>\n",
       "      <td>0.000000e+00</td>\n",
       "      <td>0.000000e+00</td>\n",
       "    </tr>\n",
       "    <tr>\n",
       "      <th>25%</th>\n",
       "      <td>1.000000e+00</td>\n",
       "      <td>2023-04-02 16:10:08.750000</td>\n",
       "      <td>2023-04-02 16:27:43.500000</td>\n",
       "      <td>1.000000e+00</td>\n",
       "      <td>1.050000e+00</td>\n",
       "      <td>1.000000e+00</td>\n",
       "      <td>1.320000e+02</td>\n",
       "      <td>1.140000e+02</td>\n",
       "      <td>1.000000e+00</td>\n",
       "      <td>9.300000e+00</td>\n",
       "      <td>0.000000e+00</td>\n",
       "      <td>5.000000e-01</td>\n",
       "      <td>1.000000e+00</td>\n",
       "      <td>0.000000e+00</td>\n",
       "      <td>1.000000e+00</td>\n",
       "      <td>1.596000e+01</td>\n",
       "      <td>2.500000e+00</td>\n",
       "      <td>1.100000e+01</td>\n",
       "      <td>0.000000e+00</td>\n",
       "    </tr>\n",
       "    <tr>\n",
       "      <th>50%</th>\n",
       "      <td>2.000000e+00</td>\n",
       "      <td>2023-06-27 15:44:22.500000</td>\n",
       "      <td>2023-06-27 16:01:15</td>\n",
       "      <td>1.000000e+00</td>\n",
       "      <td>1.790000e+00</td>\n",
       "      <td>1.000000e+00</td>\n",
       "      <td>1.620000e+02</td>\n",
       "      <td>1.620000e+02</td>\n",
       "      <td>1.000000e+00</td>\n",
       "      <td>1.350000e+01</td>\n",
       "      <td>1.000000e+00</td>\n",
       "      <td>5.000000e-01</td>\n",
       "      <td>2.850000e+00</td>\n",
       "      <td>0.000000e+00</td>\n",
       "      <td>1.000000e+00</td>\n",
       "      <td>2.100000e+01</td>\n",
       "      <td>2.500000e+00</td>\n",
       "      <td>1.500000e+01</td>\n",
       "      <td>0.000000e+00</td>\n",
       "    </tr>\n",
       "    <tr>\n",
       "      <th>75%</th>\n",
       "      <td>2.000000e+00</td>\n",
       "      <td>2023-10-06 19:37:45</td>\n",
       "      <td>2023-10-06 19:53:39</td>\n",
       "      <td>1.369215e+00</td>\n",
       "      <td>3.400000e+00</td>\n",
       "      <td>1.000000e+00</td>\n",
       "      <td>2.340000e+02</td>\n",
       "      <td>2.340000e+02</td>\n",
       "      <td>1.000000e+00</td>\n",
       "      <td>2.190000e+01</td>\n",
       "      <td>2.500000e+00</td>\n",
       "      <td>5.000000e-01</td>\n",
       "      <td>4.420000e+00</td>\n",
       "      <td>0.000000e+00</td>\n",
       "      <td>1.000000e+00</td>\n",
       "      <td>3.094000e+01</td>\n",
       "      <td>2.500000e+00</td>\n",
       "      <td>1.900000e+01</td>\n",
       "      <td>0.000000e+00</td>\n",
       "    </tr>\n",
       "    <tr>\n",
       "      <th>max</th>\n",
       "      <td>6.000000e+00</td>\n",
       "      <td>2023-12-31 23:57:51</td>\n",
       "      <td>2024-01-01 20:50:55</td>\n",
       "      <td>9.000000e+00</td>\n",
       "      <td>1.263605e+05</td>\n",
       "      <td>9.900000e+01</td>\n",
       "      <td>2.650000e+02</td>\n",
       "      <td>2.650000e+02</td>\n",
       "      <td>4.000000e+00</td>\n",
       "      <td>1.431635e+05</td>\n",
       "      <td>2.080000e+01</td>\n",
       "      <td>4.000000e+00</td>\n",
       "      <td>2.230800e+02</td>\n",
       "      <td>1.430000e+02</td>\n",
       "      <td>1.000000e+00</td>\n",
       "      <td>1.431675e+05</td>\n",
       "      <td>2.500000e+00</td>\n",
       "      <td>2.300000e+01</td>\n",
       "      <td>1.750000e+00</td>\n",
       "    </tr>\n",
       "    <tr>\n",
       "      <th>std</th>\n",
       "      <td>4.476401e-01</td>\n",
       "      <td>NaN</td>\n",
       "      <td>NaN</td>\n",
       "      <td>8.773530e-01</td>\n",
       "      <td>1.294085e+02</td>\n",
       "      <td>7.393915e+00</td>\n",
       "      <td>6.400038e+01</td>\n",
       "      <td>6.980207e+01</td>\n",
       "      <td>5.081384e-01</td>\n",
       "      <td>1.055371e+02</td>\n",
       "      <td>1.829196e+00</td>\n",
       "      <td>4.845942e-02</td>\n",
       "      <td>4.054882e+00</td>\n",
       "      <td>2.187878e+00</td>\n",
       "      <td>2.835735e-02</td>\n",
       "      <td>1.064161e+02</td>\n",
       "      <td>6.661974e-01</td>\n",
       "      <td>5.807381e+00</td>\n",
       "      <td>4.575819e-01</td>\n",
       "    </tr>\n",
       "  </tbody>\n",
       "</table>\n",
       "</div>"
      ],
      "text/plain": [
       "           VendorID        tpep_pickup_datetime       tpep_dropoff_datetime  \\\n",
       "count  1.896400e+06                     1896400                     1896400   \n",
       "mean   1.733026e+00  2023-07-02 19:59:52.930795  2023-07-02 20:17:18.919563   \n",
       "min    1.000000e+00         2022-12-31 23:51:30         2022-12-31 23:56:06   \n",
       "25%    1.000000e+00  2023-04-02 16:10:08.750000  2023-04-02 16:27:43.500000   \n",
       "50%    2.000000e+00  2023-06-27 15:44:22.500000         2023-06-27 16:01:15   \n",
       "75%    2.000000e+00         2023-10-06 19:37:45         2023-10-06 19:53:39   \n",
       "max    6.000000e+00         2023-12-31 23:57:51         2024-01-01 20:50:55   \n",
       "std    4.476401e-01                         NaN                         NaN   \n",
       "\n",
       "       passenger_count  trip_distance    RatecodeID  PULocationID  \\\n",
       "count     1.896400e+06   1.896400e+06  1.831526e+06  1.896400e+06   \n",
       "mean      1.369215e+00   3.858293e+00  1.634694e+00  1.652814e+02   \n",
       "min       0.000000e+00   0.000000e+00  1.000000e+00  1.000000e+00   \n",
       "25%       1.000000e+00   1.050000e+00  1.000000e+00  1.320000e+02   \n",
       "50%       1.000000e+00   1.790000e+00  1.000000e+00  1.620000e+02   \n",
       "75%       1.369215e+00   3.400000e+00  1.000000e+00  2.340000e+02   \n",
       "max       9.000000e+00   1.263605e+05  9.900000e+01  2.650000e+02   \n",
       "std       8.773530e-01   1.294085e+02  7.393915e+00  6.400038e+01   \n",
       "\n",
       "       DOLocationID  payment_type   fare_amount         extra       mta_tax  \\\n",
       "count  1.896400e+06  1.896400e+06  1.896400e+06  1.896400e+06  1.896400e+06   \n",
       "mean   1.640515e+02  1.163817e+00  1.991935e+01  1.588022e+00  4.953181e-01   \n",
       "min    1.000000e+00  0.000000e+00  0.000000e+00  0.000000e+00  0.000000e+00   \n",
       "25%    1.140000e+02  1.000000e+00  9.300000e+00  0.000000e+00  5.000000e-01   \n",
       "50%    1.620000e+02  1.000000e+00  1.350000e+01  1.000000e+00  5.000000e-01   \n",
       "75%    2.340000e+02  1.000000e+00  2.190000e+01  2.500000e+00  5.000000e-01   \n",
       "max    2.650000e+02  4.000000e+00  1.431635e+05  2.080000e+01  4.000000e+00   \n",
       "std    6.980207e+01  5.081384e-01  1.055371e+02  1.829196e+00  4.845942e-02   \n",
       "\n",
       "         tip_amount  tolls_amount  improvement_surcharge  total_amount  \\\n",
       "count  1.896400e+06  1.896400e+06           1.896400e+06  1.896400e+06   \n",
       "mean   3.547011e+00  5.965338e-01           9.990529e-01  2.898216e+01   \n",
       "min    0.000000e+00  0.000000e+00           0.000000e+00  0.000000e+00   \n",
       "25%    1.000000e+00  0.000000e+00           1.000000e+00  1.596000e+01   \n",
       "50%    2.850000e+00  0.000000e+00           1.000000e+00  2.100000e+01   \n",
       "75%    4.420000e+00  0.000000e+00           1.000000e+00  3.094000e+01   \n",
       "max    2.230800e+02  1.430000e+02           1.000000e+00  1.431675e+05   \n",
       "std    4.054882e+00  2.187878e+00           2.835735e-02  1.064161e+02   \n",
       "\n",
       "       congestion_surcharge   pickup_hour   Airport_fee  \n",
       "count          1.831526e+06  1.896400e+06  1.896400e+06  \n",
       "mean           2.307677e+00  1.426504e+01  1.380348e-01  \n",
       "min            0.000000e+00  0.000000e+00  0.000000e+00  \n",
       "25%            2.500000e+00  1.100000e+01  0.000000e+00  \n",
       "50%            2.500000e+00  1.500000e+01  0.000000e+00  \n",
       "75%            2.500000e+00  1.900000e+01  0.000000e+00  \n",
       "max            2.500000e+00  2.300000e+01  1.750000e+00  \n",
       "std            6.661974e-01  5.807381e+00  4.575819e-01  "
      ]
     },
     "execution_count": 339,
     "metadata": {},
     "output_type": "execute_result"
    }
   ],
   "source": [
    "# Display the rows with null values\n",
    "df[df.isnull().any(axis=1)]\n",
    "\n",
    "# Impute NaN values in 'passenger_count'\n",
    "# Replacing the  NaN in 'passenger_count' with its mean value\n",
    "df['passenger_count'] = df['passenger_count'].fillna(df['passenger_count'].mean())\n",
    "df. describe()\n"
   ]
  },
  {
   "cell_type": "markdown",
   "metadata": {
    "id": "hIPCyR6UCw0c"
   },
   "source": [
    "Did you find zeroes in passenger_count? Handle these."
   ]
  },
  {
   "cell_type": "markdown",
   "metadata": {
    "id": "IUr4fwkjBUTQ"
   },
   "source": [
    "**2.2.3**  <font color = red>[2 marks]</font> <br>\n",
    "Handle missing values in `RatecodeID`"
   ]
  },
  {
   "cell_type": "code",
   "execution_count": 341,
   "metadata": {
    "id": "qEgFxytzBkrB"
   },
   "outputs": [
    {
     "data": {
      "text/html": [
       "<div>\n",
       "<style scoped>\n",
       "    .dataframe tbody tr th:only-of-type {\n",
       "        vertical-align: middle;\n",
       "    }\n",
       "\n",
       "    .dataframe tbody tr th {\n",
       "        vertical-align: top;\n",
       "    }\n",
       "\n",
       "    .dataframe thead th {\n",
       "        text-align: right;\n",
       "    }\n",
       "</style>\n",
       "<table border=\"1\" class=\"dataframe\">\n",
       "  <thead>\n",
       "    <tr style=\"text-align: right;\">\n",
       "      <th></th>\n",
       "      <th>VendorID</th>\n",
       "      <th>tpep_pickup_datetime</th>\n",
       "      <th>tpep_dropoff_datetime</th>\n",
       "      <th>passenger_count</th>\n",
       "      <th>trip_distance</th>\n",
       "      <th>RatecodeID</th>\n",
       "      <th>PULocationID</th>\n",
       "      <th>DOLocationID</th>\n",
       "      <th>payment_type</th>\n",
       "      <th>fare_amount</th>\n",
       "      <th>extra</th>\n",
       "      <th>mta_tax</th>\n",
       "      <th>tip_amount</th>\n",
       "      <th>tolls_amount</th>\n",
       "      <th>improvement_surcharge</th>\n",
       "      <th>total_amount</th>\n",
       "      <th>congestion_surcharge</th>\n",
       "      <th>pickup_hour</th>\n",
       "      <th>Airport_fee</th>\n",
       "    </tr>\n",
       "  </thead>\n",
       "  <tbody>\n",
       "    <tr>\n",
       "      <th>count</th>\n",
       "      <td>1.896400e+06</td>\n",
       "      <td>1896400</td>\n",
       "      <td>1896400</td>\n",
       "      <td>1.896400e+06</td>\n",
       "      <td>1.896400e+06</td>\n",
       "      <td>1.831526e+06</td>\n",
       "      <td>1.896400e+06</td>\n",
       "      <td>1.896400e+06</td>\n",
       "      <td>1.896400e+06</td>\n",
       "      <td>1.896400e+06</td>\n",
       "      <td>1.896400e+06</td>\n",
       "      <td>1.896400e+06</td>\n",
       "      <td>1.896400e+06</td>\n",
       "      <td>1.896400e+06</td>\n",
       "      <td>1.896400e+06</td>\n",
       "      <td>1.896400e+06</td>\n",
       "      <td>1.831526e+06</td>\n",
       "      <td>1.896400e+06</td>\n",
       "      <td>1.896400e+06</td>\n",
       "    </tr>\n",
       "    <tr>\n",
       "      <th>mean</th>\n",
       "      <td>1.733026e+00</td>\n",
       "      <td>2023-07-02 19:59:52.930795</td>\n",
       "      <td>2023-07-02 20:17:18.919563</td>\n",
       "      <td>1.390645e+00</td>\n",
       "      <td>3.858293e+00</td>\n",
       "      <td>1.634694e+00</td>\n",
       "      <td>1.652814e+02</td>\n",
       "      <td>1.640515e+02</td>\n",
       "      <td>1.163817e+00</td>\n",
       "      <td>1.991935e+01</td>\n",
       "      <td>1.588022e+00</td>\n",
       "      <td>4.953181e-01</td>\n",
       "      <td>3.547011e+00</td>\n",
       "      <td>5.965338e-01</td>\n",
       "      <td>9.990529e-01</td>\n",
       "      <td>2.898216e+01</td>\n",
       "      <td>2.307677e+00</td>\n",
       "      <td>1.426504e+01</td>\n",
       "      <td>1.380348e-01</td>\n",
       "    </tr>\n",
       "    <tr>\n",
       "      <th>min</th>\n",
       "      <td>1.000000e+00</td>\n",
       "      <td>2022-12-31 23:51:30</td>\n",
       "      <td>2022-12-31 23:56:06</td>\n",
       "      <td>1.000000e+00</td>\n",
       "      <td>0.000000e+00</td>\n",
       "      <td>1.000000e+00</td>\n",
       "      <td>1.000000e+00</td>\n",
       "      <td>1.000000e+00</td>\n",
       "      <td>0.000000e+00</td>\n",
       "      <td>0.000000e+00</td>\n",
       "      <td>0.000000e+00</td>\n",
       "      <td>0.000000e+00</td>\n",
       "      <td>0.000000e+00</td>\n",
       "      <td>0.000000e+00</td>\n",
       "      <td>0.000000e+00</td>\n",
       "      <td>0.000000e+00</td>\n",
       "      <td>0.000000e+00</td>\n",
       "      <td>0.000000e+00</td>\n",
       "      <td>0.000000e+00</td>\n",
       "    </tr>\n",
       "    <tr>\n",
       "      <th>25%</th>\n",
       "      <td>1.000000e+00</td>\n",
       "      <td>2023-04-02 16:10:08.750000</td>\n",
       "      <td>2023-04-02 16:27:43.500000</td>\n",
       "      <td>1.000000e+00</td>\n",
       "      <td>1.050000e+00</td>\n",
       "      <td>1.000000e+00</td>\n",
       "      <td>1.320000e+02</td>\n",
       "      <td>1.140000e+02</td>\n",
       "      <td>1.000000e+00</td>\n",
       "      <td>9.300000e+00</td>\n",
       "      <td>0.000000e+00</td>\n",
       "      <td>5.000000e-01</td>\n",
       "      <td>1.000000e+00</td>\n",
       "      <td>0.000000e+00</td>\n",
       "      <td>1.000000e+00</td>\n",
       "      <td>1.596000e+01</td>\n",
       "      <td>2.500000e+00</td>\n",
       "      <td>1.100000e+01</td>\n",
       "      <td>0.000000e+00</td>\n",
       "    </tr>\n",
       "    <tr>\n",
       "      <th>50%</th>\n",
       "      <td>2.000000e+00</td>\n",
       "      <td>2023-06-27 15:44:22.500000</td>\n",
       "      <td>2023-06-27 16:01:15</td>\n",
       "      <td>1.000000e+00</td>\n",
       "      <td>1.790000e+00</td>\n",
       "      <td>1.000000e+00</td>\n",
       "      <td>1.620000e+02</td>\n",
       "      <td>1.620000e+02</td>\n",
       "      <td>1.000000e+00</td>\n",
       "      <td>1.350000e+01</td>\n",
       "      <td>1.000000e+00</td>\n",
       "      <td>5.000000e-01</td>\n",
       "      <td>2.850000e+00</td>\n",
       "      <td>0.000000e+00</td>\n",
       "      <td>1.000000e+00</td>\n",
       "      <td>2.100000e+01</td>\n",
       "      <td>2.500000e+00</td>\n",
       "      <td>1.500000e+01</td>\n",
       "      <td>0.000000e+00</td>\n",
       "    </tr>\n",
       "    <tr>\n",
       "      <th>75%</th>\n",
       "      <td>2.000000e+00</td>\n",
       "      <td>2023-10-06 19:37:45</td>\n",
       "      <td>2023-10-06 19:53:39</td>\n",
       "      <td>1.369215e+00</td>\n",
       "      <td>3.400000e+00</td>\n",
       "      <td>1.000000e+00</td>\n",
       "      <td>2.340000e+02</td>\n",
       "      <td>2.340000e+02</td>\n",
       "      <td>1.000000e+00</td>\n",
       "      <td>2.190000e+01</td>\n",
       "      <td>2.500000e+00</td>\n",
       "      <td>5.000000e-01</td>\n",
       "      <td>4.420000e+00</td>\n",
       "      <td>0.000000e+00</td>\n",
       "      <td>1.000000e+00</td>\n",
       "      <td>3.094000e+01</td>\n",
       "      <td>2.500000e+00</td>\n",
       "      <td>1.900000e+01</td>\n",
       "      <td>0.000000e+00</td>\n",
       "    </tr>\n",
       "    <tr>\n",
       "      <th>max</th>\n",
       "      <td>6.000000e+00</td>\n",
       "      <td>2023-12-31 23:57:51</td>\n",
       "      <td>2024-01-01 20:50:55</td>\n",
       "      <td>9.000000e+00</td>\n",
       "      <td>1.263605e+05</td>\n",
       "      <td>9.900000e+01</td>\n",
       "      <td>2.650000e+02</td>\n",
       "      <td>2.650000e+02</td>\n",
       "      <td>4.000000e+00</td>\n",
       "      <td>1.431635e+05</td>\n",
       "      <td>2.080000e+01</td>\n",
       "      <td>4.000000e+00</td>\n",
       "      <td>2.230800e+02</td>\n",
       "      <td>1.430000e+02</td>\n",
       "      <td>1.000000e+00</td>\n",
       "      <td>1.431675e+05</td>\n",
       "      <td>2.500000e+00</td>\n",
       "      <td>2.300000e+01</td>\n",
       "      <td>1.750000e+00</td>\n",
       "    </tr>\n",
       "    <tr>\n",
       "      <th>std</th>\n",
       "      <td>4.476401e-01</td>\n",
       "      <td>NaN</td>\n",
       "      <td>NaN</td>\n",
       "      <td>8.602016e-01</td>\n",
       "      <td>1.294085e+02</td>\n",
       "      <td>7.393915e+00</td>\n",
       "      <td>6.400038e+01</td>\n",
       "      <td>6.980207e+01</td>\n",
       "      <td>5.081384e-01</td>\n",
       "      <td>1.055371e+02</td>\n",
       "      <td>1.829196e+00</td>\n",
       "      <td>4.845942e-02</td>\n",
       "      <td>4.054882e+00</td>\n",
       "      <td>2.187878e+00</td>\n",
       "      <td>2.835735e-02</td>\n",
       "      <td>1.064161e+02</td>\n",
       "      <td>6.661974e-01</td>\n",
       "      <td>5.807381e+00</td>\n",
       "      <td>4.575819e-01</td>\n",
       "    </tr>\n",
       "  </tbody>\n",
       "</table>\n",
       "</div>"
      ],
      "text/plain": [
       "           VendorID        tpep_pickup_datetime       tpep_dropoff_datetime  \\\n",
       "count  1.896400e+06                     1896400                     1896400   \n",
       "mean   1.733026e+00  2023-07-02 19:59:52.930795  2023-07-02 20:17:18.919563   \n",
       "min    1.000000e+00         2022-12-31 23:51:30         2022-12-31 23:56:06   \n",
       "25%    1.000000e+00  2023-04-02 16:10:08.750000  2023-04-02 16:27:43.500000   \n",
       "50%    2.000000e+00  2023-06-27 15:44:22.500000         2023-06-27 16:01:15   \n",
       "75%    2.000000e+00         2023-10-06 19:37:45         2023-10-06 19:53:39   \n",
       "max    6.000000e+00         2023-12-31 23:57:51         2024-01-01 20:50:55   \n",
       "std    4.476401e-01                         NaN                         NaN   \n",
       "\n",
       "       passenger_count  trip_distance    RatecodeID  PULocationID  \\\n",
       "count     1.896400e+06   1.896400e+06  1.831526e+06  1.896400e+06   \n",
       "mean      1.390645e+00   3.858293e+00  1.634694e+00  1.652814e+02   \n",
       "min       1.000000e+00   0.000000e+00  1.000000e+00  1.000000e+00   \n",
       "25%       1.000000e+00   1.050000e+00  1.000000e+00  1.320000e+02   \n",
       "50%       1.000000e+00   1.790000e+00  1.000000e+00  1.620000e+02   \n",
       "75%       1.369215e+00   3.400000e+00  1.000000e+00  2.340000e+02   \n",
       "max       9.000000e+00   1.263605e+05  9.900000e+01  2.650000e+02   \n",
       "std       8.602016e-01   1.294085e+02  7.393915e+00  6.400038e+01   \n",
       "\n",
       "       DOLocationID  payment_type   fare_amount         extra       mta_tax  \\\n",
       "count  1.896400e+06  1.896400e+06  1.896400e+06  1.896400e+06  1.896400e+06   \n",
       "mean   1.640515e+02  1.163817e+00  1.991935e+01  1.588022e+00  4.953181e-01   \n",
       "min    1.000000e+00  0.000000e+00  0.000000e+00  0.000000e+00  0.000000e+00   \n",
       "25%    1.140000e+02  1.000000e+00  9.300000e+00  0.000000e+00  5.000000e-01   \n",
       "50%    1.620000e+02  1.000000e+00  1.350000e+01  1.000000e+00  5.000000e-01   \n",
       "75%    2.340000e+02  1.000000e+00  2.190000e+01  2.500000e+00  5.000000e-01   \n",
       "max    2.650000e+02  4.000000e+00  1.431635e+05  2.080000e+01  4.000000e+00   \n",
       "std    6.980207e+01  5.081384e-01  1.055371e+02  1.829196e+00  4.845942e-02   \n",
       "\n",
       "         tip_amount  tolls_amount  improvement_surcharge  total_amount  \\\n",
       "count  1.896400e+06  1.896400e+06           1.896400e+06  1.896400e+06   \n",
       "mean   3.547011e+00  5.965338e-01           9.990529e-01  2.898216e+01   \n",
       "min    0.000000e+00  0.000000e+00           0.000000e+00  0.000000e+00   \n",
       "25%    1.000000e+00  0.000000e+00           1.000000e+00  1.596000e+01   \n",
       "50%    2.850000e+00  0.000000e+00           1.000000e+00  2.100000e+01   \n",
       "75%    4.420000e+00  0.000000e+00           1.000000e+00  3.094000e+01   \n",
       "max    2.230800e+02  1.430000e+02           1.000000e+00  1.431675e+05   \n",
       "std    4.054882e+00  2.187878e+00           2.835735e-02  1.064161e+02   \n",
       "\n",
       "       congestion_surcharge   pickup_hour   Airport_fee  \n",
       "count          1.831526e+06  1.896400e+06  1.896400e+06  \n",
       "mean           2.307677e+00  1.426504e+01  1.380348e-01  \n",
       "min            0.000000e+00  0.000000e+00  0.000000e+00  \n",
       "25%            2.500000e+00  1.100000e+01  0.000000e+00  \n",
       "50%            2.500000e+00  1.500000e+01  0.000000e+00  \n",
       "75%            2.500000e+00  1.900000e+01  0.000000e+00  \n",
       "max            2.500000e+00  2.300000e+01  1.750000e+00  \n",
       "std            6.661974e-01  5.807381e+00  4.575819e-01  "
      ]
     },
     "execution_count": 341,
     "metadata": {},
     "output_type": "execute_result"
    }
   ],
   "source": [
    "# Zeros in passenger count?\n",
    "# Replacing the zeros in passenger_count with the mean of the column.\n",
    "df['passenger_count'] = df['passenger_count'].replace(0, df['passenger_count'].mean())\n",
    "df.describe()\n",
    "\n"
   ]
  },
  {
   "cell_type": "markdown",
   "metadata": {
    "id": "0TjHXzuODCUW"
   },
   "source": [
    "**2.2.4**  <font color = red>[3 marks]</font> <br>\n",
    "Impute NaN in `congestion_surcharge`"
   ]
  },
  {
   "cell_type": "code",
   "execution_count": 359,
   "metadata": {
    "id": "HqnabUGC3xOA"
   },
   "outputs": [
    {
     "name": "stdout",
     "output_type": "stream",
     "text": [
      "\n",
      "Mean of congestion_surcharge: 2.3076770408937683\n"
     ]
    }
   ],
   "source": [
    "# handle null values in congestion_surcharge\n",
    "print(\"\\nMean of congestion_surcharge:\", df['congestion_surcharge'].mean())"
   ]
  },
  {
   "cell_type": "markdown",
   "metadata": {
    "id": "4FZEdgAgUbPl"
   },
   "source": [
    "Are there missing values in other columns? Did you find NaN values in some other set of columns? Handle those missing values below."
   ]
  },
  {
   "cell_type": "code",
   "execution_count": 365,
   "metadata": {
    "id": "iDLpyqCRXa3K"
   },
   "outputs": [
    {
     "data": {
      "text/plain": [
       "VendorID                     0\n",
       "tpep_pickup_datetime         0\n",
       "tpep_dropoff_datetime        0\n",
       "passenger_count              0\n",
       "trip_distance                0\n",
       "RatecodeID               64874\n",
       "PULocationID                 0\n",
       "DOLocationID                 0\n",
       "payment_type                 0\n",
       "fare_amount                  0\n",
       "extra                        0\n",
       "mta_tax                      0\n",
       "tip_amount                   0\n",
       "tolls_amount                 0\n",
       "improvement_surcharge        0\n",
       "total_amount                 0\n",
       "congestion_surcharge     64874\n",
       "pickup_date                  0\n",
       "pickup_hour                  0\n",
       "Airport_fee                  0\n",
       "dtype: int64"
      ]
     },
     "execution_count": 365,
     "metadata": {},
     "output_type": "execute_result"
    }
   ],
   "source": [
    "# Handle any remaining missing values\n",
    "df.isnull().sum()\n"
   ]
  },
  {
   "cell_type": "markdown",
   "metadata": {
    "id": "2jyQyYIpCztl"
   },
   "source": [
    "### **2.3** Handling Outliers\n",
    "<font color = red>[10 marks]</font> <br>"
   ]
  },
  {
   "cell_type": "markdown",
   "metadata": {
    "id": "ZoVwZzuEMTHB"
   },
   "source": [
    "Before we start fixing outliers, let's perform outlier analysis."
   ]
  },
  {
   "cell_type": "code",
   "execution_count": 368,
   "metadata": {
    "id": "zHK5K6uV8XpU"
   },
   "outputs": [
    {
     "data": {
      "text/html": [
       "<div>\n",
       "<style scoped>\n",
       "    .dataframe tbody tr th:only-of-type {\n",
       "        vertical-align: middle;\n",
       "    }\n",
       "\n",
       "    .dataframe tbody tr th {\n",
       "        vertical-align: top;\n",
       "    }\n",
       "\n",
       "    .dataframe thead th {\n",
       "        text-align: right;\n",
       "    }\n",
       "</style>\n",
       "<table border=\"1\" class=\"dataframe\">\n",
       "  <thead>\n",
       "    <tr style=\"text-align: right;\">\n",
       "      <th></th>\n",
       "      <th>VendorID</th>\n",
       "      <th>tpep_pickup_datetime</th>\n",
       "      <th>tpep_dropoff_datetime</th>\n",
       "      <th>passenger_count</th>\n",
       "      <th>trip_distance</th>\n",
       "      <th>RatecodeID</th>\n",
       "      <th>PULocationID</th>\n",
       "      <th>DOLocationID</th>\n",
       "      <th>payment_type</th>\n",
       "      <th>fare_amount</th>\n",
       "      <th>extra</th>\n",
       "      <th>mta_tax</th>\n",
       "      <th>tip_amount</th>\n",
       "      <th>tolls_amount</th>\n",
       "      <th>improvement_surcharge</th>\n",
       "      <th>total_amount</th>\n",
       "      <th>congestion_surcharge</th>\n",
       "      <th>pickup_hour</th>\n",
       "      <th>Airport_fee</th>\n",
       "    </tr>\n",
       "  </thead>\n",
       "  <tbody>\n",
       "    <tr>\n",
       "      <th>count</th>\n",
       "      <td>1.896400e+06</td>\n",
       "      <td>1896400</td>\n",
       "      <td>1896400</td>\n",
       "      <td>1.896400e+06</td>\n",
       "      <td>1.896400e+06</td>\n",
       "      <td>1.831526e+06</td>\n",
       "      <td>1.896400e+06</td>\n",
       "      <td>1.896400e+06</td>\n",
       "      <td>1.896400e+06</td>\n",
       "      <td>1.896400e+06</td>\n",
       "      <td>1.896400e+06</td>\n",
       "      <td>1.896400e+06</td>\n",
       "      <td>1.896400e+06</td>\n",
       "      <td>1.896400e+06</td>\n",
       "      <td>1.896400e+06</td>\n",
       "      <td>1.896400e+06</td>\n",
       "      <td>1.831526e+06</td>\n",
       "      <td>1.896400e+06</td>\n",
       "      <td>1.896400e+06</td>\n",
       "    </tr>\n",
       "    <tr>\n",
       "      <th>mean</th>\n",
       "      <td>1.733026e+00</td>\n",
       "      <td>2023-07-02 19:59:52.930795</td>\n",
       "      <td>2023-07-02 20:17:18.919563</td>\n",
       "      <td>1.390645e+00</td>\n",
       "      <td>3.858293e+00</td>\n",
       "      <td>1.634694e+00</td>\n",
       "      <td>1.652814e+02</td>\n",
       "      <td>1.640515e+02</td>\n",
       "      <td>1.163817e+00</td>\n",
       "      <td>1.991935e+01</td>\n",
       "      <td>1.588022e+00</td>\n",
       "      <td>4.953181e-01</td>\n",
       "      <td>3.547011e+00</td>\n",
       "      <td>5.965338e-01</td>\n",
       "      <td>9.990529e-01</td>\n",
       "      <td>2.898216e+01</td>\n",
       "      <td>2.307677e+00</td>\n",
       "      <td>1.426504e+01</td>\n",
       "      <td>1.380348e-01</td>\n",
       "    </tr>\n",
       "    <tr>\n",
       "      <th>min</th>\n",
       "      <td>1.000000e+00</td>\n",
       "      <td>2022-12-31 23:51:30</td>\n",
       "      <td>2022-12-31 23:56:06</td>\n",
       "      <td>1.000000e+00</td>\n",
       "      <td>0.000000e+00</td>\n",
       "      <td>1.000000e+00</td>\n",
       "      <td>1.000000e+00</td>\n",
       "      <td>1.000000e+00</td>\n",
       "      <td>0.000000e+00</td>\n",
       "      <td>0.000000e+00</td>\n",
       "      <td>0.000000e+00</td>\n",
       "      <td>0.000000e+00</td>\n",
       "      <td>0.000000e+00</td>\n",
       "      <td>0.000000e+00</td>\n",
       "      <td>0.000000e+00</td>\n",
       "      <td>0.000000e+00</td>\n",
       "      <td>0.000000e+00</td>\n",
       "      <td>0.000000e+00</td>\n",
       "      <td>0.000000e+00</td>\n",
       "    </tr>\n",
       "    <tr>\n",
       "      <th>25%</th>\n",
       "      <td>1.000000e+00</td>\n",
       "      <td>2023-04-02 16:10:08.750000</td>\n",
       "      <td>2023-04-02 16:27:43.500000</td>\n",
       "      <td>1.000000e+00</td>\n",
       "      <td>1.050000e+00</td>\n",
       "      <td>1.000000e+00</td>\n",
       "      <td>1.320000e+02</td>\n",
       "      <td>1.140000e+02</td>\n",
       "      <td>1.000000e+00</td>\n",
       "      <td>9.300000e+00</td>\n",
       "      <td>0.000000e+00</td>\n",
       "      <td>5.000000e-01</td>\n",
       "      <td>1.000000e+00</td>\n",
       "      <td>0.000000e+00</td>\n",
       "      <td>1.000000e+00</td>\n",
       "      <td>1.596000e+01</td>\n",
       "      <td>2.500000e+00</td>\n",
       "      <td>1.100000e+01</td>\n",
       "      <td>0.000000e+00</td>\n",
       "    </tr>\n",
       "    <tr>\n",
       "      <th>50%</th>\n",
       "      <td>2.000000e+00</td>\n",
       "      <td>2023-06-27 15:44:22.500000</td>\n",
       "      <td>2023-06-27 16:01:15</td>\n",
       "      <td>1.000000e+00</td>\n",
       "      <td>1.790000e+00</td>\n",
       "      <td>1.000000e+00</td>\n",
       "      <td>1.620000e+02</td>\n",
       "      <td>1.620000e+02</td>\n",
       "      <td>1.000000e+00</td>\n",
       "      <td>1.350000e+01</td>\n",
       "      <td>1.000000e+00</td>\n",
       "      <td>5.000000e-01</td>\n",
       "      <td>2.850000e+00</td>\n",
       "      <td>0.000000e+00</td>\n",
       "      <td>1.000000e+00</td>\n",
       "      <td>2.100000e+01</td>\n",
       "      <td>2.500000e+00</td>\n",
       "      <td>1.500000e+01</td>\n",
       "      <td>0.000000e+00</td>\n",
       "    </tr>\n",
       "    <tr>\n",
       "      <th>75%</th>\n",
       "      <td>2.000000e+00</td>\n",
       "      <td>2023-10-06 19:37:45</td>\n",
       "      <td>2023-10-06 19:53:39</td>\n",
       "      <td>1.369215e+00</td>\n",
       "      <td>3.400000e+00</td>\n",
       "      <td>1.000000e+00</td>\n",
       "      <td>2.340000e+02</td>\n",
       "      <td>2.340000e+02</td>\n",
       "      <td>1.000000e+00</td>\n",
       "      <td>2.190000e+01</td>\n",
       "      <td>2.500000e+00</td>\n",
       "      <td>5.000000e-01</td>\n",
       "      <td>4.420000e+00</td>\n",
       "      <td>0.000000e+00</td>\n",
       "      <td>1.000000e+00</td>\n",
       "      <td>3.094000e+01</td>\n",
       "      <td>2.500000e+00</td>\n",
       "      <td>1.900000e+01</td>\n",
       "      <td>0.000000e+00</td>\n",
       "    </tr>\n",
       "    <tr>\n",
       "      <th>max</th>\n",
       "      <td>6.000000e+00</td>\n",
       "      <td>2023-12-31 23:57:51</td>\n",
       "      <td>2024-01-01 20:50:55</td>\n",
       "      <td>9.000000e+00</td>\n",
       "      <td>1.263605e+05</td>\n",
       "      <td>9.900000e+01</td>\n",
       "      <td>2.650000e+02</td>\n",
       "      <td>2.650000e+02</td>\n",
       "      <td>4.000000e+00</td>\n",
       "      <td>1.431635e+05</td>\n",
       "      <td>2.080000e+01</td>\n",
       "      <td>4.000000e+00</td>\n",
       "      <td>2.230800e+02</td>\n",
       "      <td>1.430000e+02</td>\n",
       "      <td>1.000000e+00</td>\n",
       "      <td>1.431675e+05</td>\n",
       "      <td>2.500000e+00</td>\n",
       "      <td>2.300000e+01</td>\n",
       "      <td>1.750000e+00</td>\n",
       "    </tr>\n",
       "    <tr>\n",
       "      <th>std</th>\n",
       "      <td>4.476401e-01</td>\n",
       "      <td>NaN</td>\n",
       "      <td>NaN</td>\n",
       "      <td>8.602016e-01</td>\n",
       "      <td>1.294085e+02</td>\n",
       "      <td>7.393915e+00</td>\n",
       "      <td>6.400038e+01</td>\n",
       "      <td>6.980207e+01</td>\n",
       "      <td>5.081384e-01</td>\n",
       "      <td>1.055371e+02</td>\n",
       "      <td>1.829196e+00</td>\n",
       "      <td>4.845942e-02</td>\n",
       "      <td>4.054882e+00</td>\n",
       "      <td>2.187878e+00</td>\n",
       "      <td>2.835735e-02</td>\n",
       "      <td>1.064161e+02</td>\n",
       "      <td>6.661974e-01</td>\n",
       "      <td>5.807381e+00</td>\n",
       "      <td>4.575819e-01</td>\n",
       "    </tr>\n",
       "  </tbody>\n",
       "</table>\n",
       "</div>"
      ],
      "text/plain": [
       "           VendorID        tpep_pickup_datetime       tpep_dropoff_datetime  \\\n",
       "count  1.896400e+06                     1896400                     1896400   \n",
       "mean   1.733026e+00  2023-07-02 19:59:52.930795  2023-07-02 20:17:18.919563   \n",
       "min    1.000000e+00         2022-12-31 23:51:30         2022-12-31 23:56:06   \n",
       "25%    1.000000e+00  2023-04-02 16:10:08.750000  2023-04-02 16:27:43.500000   \n",
       "50%    2.000000e+00  2023-06-27 15:44:22.500000         2023-06-27 16:01:15   \n",
       "75%    2.000000e+00         2023-10-06 19:37:45         2023-10-06 19:53:39   \n",
       "max    6.000000e+00         2023-12-31 23:57:51         2024-01-01 20:50:55   \n",
       "std    4.476401e-01                         NaN                         NaN   \n",
       "\n",
       "       passenger_count  trip_distance    RatecodeID  PULocationID  \\\n",
       "count     1.896400e+06   1.896400e+06  1.831526e+06  1.896400e+06   \n",
       "mean      1.390645e+00   3.858293e+00  1.634694e+00  1.652814e+02   \n",
       "min       1.000000e+00   0.000000e+00  1.000000e+00  1.000000e+00   \n",
       "25%       1.000000e+00   1.050000e+00  1.000000e+00  1.320000e+02   \n",
       "50%       1.000000e+00   1.790000e+00  1.000000e+00  1.620000e+02   \n",
       "75%       1.369215e+00   3.400000e+00  1.000000e+00  2.340000e+02   \n",
       "max       9.000000e+00   1.263605e+05  9.900000e+01  2.650000e+02   \n",
       "std       8.602016e-01   1.294085e+02  7.393915e+00  6.400038e+01   \n",
       "\n",
       "       DOLocationID  payment_type   fare_amount         extra       mta_tax  \\\n",
       "count  1.896400e+06  1.896400e+06  1.896400e+06  1.896400e+06  1.896400e+06   \n",
       "mean   1.640515e+02  1.163817e+00  1.991935e+01  1.588022e+00  4.953181e-01   \n",
       "min    1.000000e+00  0.000000e+00  0.000000e+00  0.000000e+00  0.000000e+00   \n",
       "25%    1.140000e+02  1.000000e+00  9.300000e+00  0.000000e+00  5.000000e-01   \n",
       "50%    1.620000e+02  1.000000e+00  1.350000e+01  1.000000e+00  5.000000e-01   \n",
       "75%    2.340000e+02  1.000000e+00  2.190000e+01  2.500000e+00  5.000000e-01   \n",
       "max    2.650000e+02  4.000000e+00  1.431635e+05  2.080000e+01  4.000000e+00   \n",
       "std    6.980207e+01  5.081384e-01  1.055371e+02  1.829196e+00  4.845942e-02   \n",
       "\n",
       "         tip_amount  tolls_amount  improvement_surcharge  total_amount  \\\n",
       "count  1.896400e+06  1.896400e+06           1.896400e+06  1.896400e+06   \n",
       "mean   3.547011e+00  5.965338e-01           9.990529e-01  2.898216e+01   \n",
       "min    0.000000e+00  0.000000e+00           0.000000e+00  0.000000e+00   \n",
       "25%    1.000000e+00  0.000000e+00           1.000000e+00  1.596000e+01   \n",
       "50%    2.850000e+00  0.000000e+00           1.000000e+00  2.100000e+01   \n",
       "75%    4.420000e+00  0.000000e+00           1.000000e+00  3.094000e+01   \n",
       "max    2.230800e+02  1.430000e+02           1.000000e+00  1.431675e+05   \n",
       "std    4.054882e+00  2.187878e+00           2.835735e-02  1.064161e+02   \n",
       "\n",
       "       congestion_surcharge   pickup_hour   Airport_fee  \n",
       "count          1.831526e+06  1.896400e+06  1.896400e+06  \n",
       "mean           2.307677e+00  1.426504e+01  1.380348e-01  \n",
       "min            0.000000e+00  0.000000e+00  0.000000e+00  \n",
       "25%            2.500000e+00  1.100000e+01  0.000000e+00  \n",
       "50%            2.500000e+00  1.500000e+01  0.000000e+00  \n",
       "75%            2.500000e+00  1.900000e+01  0.000000e+00  \n",
       "max            2.500000e+00  2.300000e+01  1.750000e+00  \n",
       "std            6.661974e-01  5.807381e+00  4.575819e-01  "
      ]
     },
     "execution_count": 368,
     "metadata": {},
     "output_type": "execute_result"
    }
   ],
   "source": [
    "# Describe the data and check if there are any potential outliers present\n",
    "# Check for potential out of place values in various columns\n",
    "df.describe()"
   ]
  },
  {
   "cell_type": "markdown",
   "metadata": {
    "id": "4XDuLkufyJ2g"
   },
   "source": [
    "**2.3.1**  <font color = red>[10 marks]</font> <br>\n",
    "Based on the above analysis, it seems that some of the outliers are present due to errors in registering the trips. Fix the outliers.\n",
    "\n",
    "Some points you can look for:\n",
    "- Entries where `trip_distance` is nearly 0 and `fare_amount` is more than 300\n",
    "- Entries where `trip_distance` and `fare_amount` are 0 but the pickup and dropoff zones are different (both distance and fare should not be zero for different zones)\n",
    "- Entries where `trip_distance` is more than 250  miles.\n",
    "- Entries where `payment_type` is 0 (there is no payment_type 0 defined in the data dictionary)\n",
    "\n",
    "These are just some suggestions. You can handle outliers in any way you wish, using the insights from above outlier analysis."
   ]
  },
  {
   "cell_type": "markdown",
   "metadata": {
    "id": "u-YNHI8tea9c"
   },
   "source": [
    "How will you fix each of these values? Which ones will you drop and which ones will you replace?"
   ]
  },
  {
   "cell_type": "markdown",
   "metadata": {
    "id": "Ap4IfwXO4yZe"
   },
   "source": [
    "First, let us remove 7+ passenger counts as there are very less instances."
   ]
  },
  {
   "cell_type": "code",
   "execution_count": 370,
   "metadata": {
    "id": "XfsOFY5y9-fA"
   },
   "outputs": [
    {
     "data": {
      "text/html": [
       "<div>\n",
       "<style scoped>\n",
       "    .dataframe tbody tr th:only-of-type {\n",
       "        vertical-align: middle;\n",
       "    }\n",
       "\n",
       "    .dataframe tbody tr th {\n",
       "        vertical-align: top;\n",
       "    }\n",
       "\n",
       "    .dataframe thead th {\n",
       "        text-align: right;\n",
       "    }\n",
       "</style>\n",
       "<table border=\"1\" class=\"dataframe\">\n",
       "  <thead>\n",
       "    <tr style=\"text-align: right;\">\n",
       "      <th></th>\n",
       "      <th>VendorID</th>\n",
       "      <th>tpep_pickup_datetime</th>\n",
       "      <th>tpep_dropoff_datetime</th>\n",
       "      <th>passenger_count</th>\n",
       "      <th>trip_distance</th>\n",
       "      <th>RatecodeID</th>\n",
       "      <th>PULocationID</th>\n",
       "      <th>DOLocationID</th>\n",
       "      <th>payment_type</th>\n",
       "      <th>fare_amount</th>\n",
       "      <th>extra</th>\n",
       "      <th>mta_tax</th>\n",
       "      <th>tip_amount</th>\n",
       "      <th>tolls_amount</th>\n",
       "      <th>improvement_surcharge</th>\n",
       "      <th>total_amount</th>\n",
       "      <th>congestion_surcharge</th>\n",
       "      <th>pickup_date</th>\n",
       "      <th>pickup_hour</th>\n",
       "      <th>Airport_fee</th>\n",
       "    </tr>\n",
       "  </thead>\n",
       "  <tbody>\n",
       "    <tr>\n",
       "      <th>88797</th>\n",
       "      <td>2</td>\n",
       "      <td>2023-01-19 16:33:22</td>\n",
       "      <td>2023-01-19 17:57:32</td>\n",
       "      <td>8.0</td>\n",
       "      <td>18.30</td>\n",
       "      <td>5.0</td>\n",
       "      <td>230</td>\n",
       "      <td>132</td>\n",
       "      <td>1</td>\n",
       "      <td>85.00</td>\n",
       "      <td>0.0</td>\n",
       "      <td>0.5</td>\n",
       "      <td>19.11</td>\n",
       "      <td>6.55</td>\n",
       "      <td>1.0</td>\n",
       "      <td>114.66</td>\n",
       "      <td>2.5</td>\n",
       "      <td>2023-01-19</td>\n",
       "      <td>16</td>\n",
       "      <td>0.00</td>\n",
       "    </tr>\n",
       "    <tr>\n",
       "      <th>230693</th>\n",
       "      <td>2</td>\n",
       "      <td>2023-10-15 08:11:40</td>\n",
       "      <td>2023-10-15 08:39:01</td>\n",
       "      <td>7.0</td>\n",
       "      <td>7.60</td>\n",
       "      <td>5.0</td>\n",
       "      <td>246</td>\n",
       "      <td>195</td>\n",
       "      <td>1</td>\n",
       "      <td>70.00</td>\n",
       "      <td>0.0</td>\n",
       "      <td>0.5</td>\n",
       "      <td>18.50</td>\n",
       "      <td>0.00</td>\n",
       "      <td>1.0</td>\n",
       "      <td>92.50</td>\n",
       "      <td>2.5</td>\n",
       "      <td>2023-10-15</td>\n",
       "      <td>8</td>\n",
       "      <td>0.00</td>\n",
       "    </tr>\n",
       "    <tr>\n",
       "      <th>261244</th>\n",
       "      <td>2</td>\n",
       "      <td>2023-10-20 16:55:31</td>\n",
       "      <td>2023-10-20 16:56:27</td>\n",
       "      <td>7.0</td>\n",
       "      <td>16.17</td>\n",
       "      <td>5.0</td>\n",
       "      <td>132</td>\n",
       "      <td>132</td>\n",
       "      <td>1</td>\n",
       "      <td>74.00</td>\n",
       "      <td>0.0</td>\n",
       "      <td>0.0</td>\n",
       "      <td>0.00</td>\n",
       "      <td>13.00</td>\n",
       "      <td>1.0</td>\n",
       "      <td>88.00</td>\n",
       "      <td>0.0</td>\n",
       "      <td>2023-10-20</td>\n",
       "      <td>16</td>\n",
       "      <td>0.00</td>\n",
       "    </tr>\n",
       "    <tr>\n",
       "      <th>485300</th>\n",
       "      <td>2</td>\n",
       "      <td>2023-11-30 00:13:36</td>\n",
       "      <td>2023-11-30 00:13:39</td>\n",
       "      <td>8.0</td>\n",
       "      <td>0.00</td>\n",
       "      <td>5.0</td>\n",
       "      <td>90</td>\n",
       "      <td>264</td>\n",
       "      <td>1</td>\n",
       "      <td>86.00</td>\n",
       "      <td>0.0</td>\n",
       "      <td>0.5</td>\n",
       "      <td>5.00</td>\n",
       "      <td>0.00</td>\n",
       "      <td>1.0</td>\n",
       "      <td>92.50</td>\n",
       "      <td>0.0</td>\n",
       "      <td>2023-11-30</td>\n",
       "      <td>0</td>\n",
       "      <td>0.00</td>\n",
       "    </tr>\n",
       "    <tr>\n",
       "      <th>511725</th>\n",
       "      <td>2</td>\n",
       "      <td>2023-12-04 15:32:03</td>\n",
       "      <td>2023-12-04 15:32:08</td>\n",
       "      <td>9.0</td>\n",
       "      <td>0.00</td>\n",
       "      <td>5.0</td>\n",
       "      <td>132</td>\n",
       "      <td>132</td>\n",
       "      <td>1</td>\n",
       "      <td>90.00</td>\n",
       "      <td>0.0</td>\n",
       "      <td>0.5</td>\n",
       "      <td>18.65</td>\n",
       "      <td>0.00</td>\n",
       "      <td>1.0</td>\n",
       "      <td>111.90</td>\n",
       "      <td>0.0</td>\n",
       "      <td>2023-12-04</td>\n",
       "      <td>15</td>\n",
       "      <td>1.75</td>\n",
       "    </tr>\n",
       "    <tr>\n",
       "      <th>546188</th>\n",
       "      <td>2</td>\n",
       "      <td>2023-12-09 22:01:38</td>\n",
       "      <td>2023-12-09 22:01:40</td>\n",
       "      <td>8.0</td>\n",
       "      <td>0.00</td>\n",
       "      <td>5.0</td>\n",
       "      <td>79</td>\n",
       "      <td>264</td>\n",
       "      <td>1</td>\n",
       "      <td>87.00</td>\n",
       "      <td>0.0</td>\n",
       "      <td>0.5</td>\n",
       "      <td>17.70</td>\n",
       "      <td>0.00</td>\n",
       "      <td>1.0</td>\n",
       "      <td>106.20</td>\n",
       "      <td>0.0</td>\n",
       "      <td>2023-12-09</td>\n",
       "      <td>22</td>\n",
       "      <td>0.00</td>\n",
       "    </tr>\n",
       "    <tr>\n",
       "      <th>612517</th>\n",
       "      <td>2</td>\n",
       "      <td>2023-12-20 19:26:27</td>\n",
       "      <td>2023-12-20 19:33:17</td>\n",
       "      <td>9.0</td>\n",
       "      <td>0.07</td>\n",
       "      <td>5.0</td>\n",
       "      <td>112</td>\n",
       "      <td>112</td>\n",
       "      <td>2</td>\n",
       "      <td>92.00</td>\n",
       "      <td>0.0</td>\n",
       "      <td>0.5</td>\n",
       "      <td>0.00</td>\n",
       "      <td>0.00</td>\n",
       "      <td>1.0</td>\n",
       "      <td>93.50</td>\n",
       "      <td>0.0</td>\n",
       "      <td>2023-12-20</td>\n",
       "      <td>19</td>\n",
       "      <td>0.00</td>\n",
       "    </tr>\n",
       "    <tr>\n",
       "      <th>624897</th>\n",
       "      <td>2</td>\n",
       "      <td>2023-12-22 23:00:21</td>\n",
       "      <td>2023-12-22 23:00:24</td>\n",
       "      <td>8.0</td>\n",
       "      <td>0.09</td>\n",
       "      <td>5.0</td>\n",
       "      <td>236</td>\n",
       "      <td>236</td>\n",
       "      <td>1</td>\n",
       "      <td>85.00</td>\n",
       "      <td>0.0</td>\n",
       "      <td>0.5</td>\n",
       "      <td>17.30</td>\n",
       "      <td>0.00</td>\n",
       "      <td>1.0</td>\n",
       "      <td>103.80</td>\n",
       "      <td>0.0</td>\n",
       "      <td>2023-12-22</td>\n",
       "      <td>23</td>\n",
       "      <td>0.00</td>\n",
       "    </tr>\n",
       "    <tr>\n",
       "      <th>631419</th>\n",
       "      <td>2</td>\n",
       "      <td>2023-12-26 17:38:04</td>\n",
       "      <td>2023-12-26 17:38:06</td>\n",
       "      <td>8.0</td>\n",
       "      <td>0.45</td>\n",
       "      <td>5.0</td>\n",
       "      <td>216</td>\n",
       "      <td>264</td>\n",
       "      <td>1</td>\n",
       "      <td>85.00</td>\n",
       "      <td>0.0</td>\n",
       "      <td>0.5</td>\n",
       "      <td>17.30</td>\n",
       "      <td>0.00</td>\n",
       "      <td>1.0</td>\n",
       "      <td>103.80</td>\n",
       "      <td>0.0</td>\n",
       "      <td>2023-12-26</td>\n",
       "      <td>17</td>\n",
       "      <td>0.00</td>\n",
       "    </tr>\n",
       "    <tr>\n",
       "      <th>885785</th>\n",
       "      <td>2</td>\n",
       "      <td>2023-06-11 11:53:08</td>\n",
       "      <td>2023-06-11 11:53:29</td>\n",
       "      <td>9.0</td>\n",
       "      <td>0.00</td>\n",
       "      <td>5.0</td>\n",
       "      <td>138</td>\n",
       "      <td>138</td>\n",
       "      <td>1</td>\n",
       "      <td>95.00</td>\n",
       "      <td>5.0</td>\n",
       "      <td>0.0</td>\n",
       "      <td>0.00</td>\n",
       "      <td>0.00</td>\n",
       "      <td>1.0</td>\n",
       "      <td>102.75</td>\n",
       "      <td>0.0</td>\n",
       "      <td>2023-06-11</td>\n",
       "      <td>11</td>\n",
       "      <td>1.75</td>\n",
       "    </tr>\n",
       "    <tr>\n",
       "      <th>1059918</th>\n",
       "      <td>2</td>\n",
       "      <td>2023-08-16 06:10:57</td>\n",
       "      <td>2023-08-16 06:49:47</td>\n",
       "      <td>8.0</td>\n",
       "      <td>19.03</td>\n",
       "      <td>5.0</td>\n",
       "      <td>132</td>\n",
       "      <td>75</td>\n",
       "      <td>1</td>\n",
       "      <td>82.00</td>\n",
       "      <td>0.0</td>\n",
       "      <td>0.5</td>\n",
       "      <td>15.00</td>\n",
       "      <td>6.94</td>\n",
       "      <td>1.0</td>\n",
       "      <td>105.44</td>\n",
       "      <td>0.0</td>\n",
       "      <td>2023-08-16</td>\n",
       "      <td>6</td>\n",
       "      <td>0.00</td>\n",
       "    </tr>\n",
       "    <tr>\n",
       "      <th>1082350</th>\n",
       "      <td>2</td>\n",
       "      <td>2023-08-21 01:53:09</td>\n",
       "      <td>2023-08-21 01:53:11</td>\n",
       "      <td>8.0</td>\n",
       "      <td>0.00</td>\n",
       "      <td>5.0</td>\n",
       "      <td>264</td>\n",
       "      <td>264</td>\n",
       "      <td>2</td>\n",
       "      <td>82.00</td>\n",
       "      <td>0.0</td>\n",
       "      <td>0.0</td>\n",
       "      <td>0.00</td>\n",
       "      <td>0.00</td>\n",
       "      <td>1.0</td>\n",
       "      <td>83.00</td>\n",
       "      <td>0.0</td>\n",
       "      <td>2023-08-21</td>\n",
       "      <td>1</td>\n",
       "      <td>0.00</td>\n",
       "    </tr>\n",
       "    <tr>\n",
       "      <th>1171036</th>\n",
       "      <td>2</td>\n",
       "      <td>2023-02-08 23:26:39</td>\n",
       "      <td>2023-02-08 23:26:51</td>\n",
       "      <td>9.0</td>\n",
       "      <td>0.13</td>\n",
       "      <td>5.0</td>\n",
       "      <td>231</td>\n",
       "      <td>231</td>\n",
       "      <td>1</td>\n",
       "      <td>95.55</td>\n",
       "      <td>0.0</td>\n",
       "      <td>0.5</td>\n",
       "      <td>19.91</td>\n",
       "      <td>0.00</td>\n",
       "      <td>1.0</td>\n",
       "      <td>119.46</td>\n",
       "      <td>2.5</td>\n",
       "      <td>2023-02-08</td>\n",
       "      <td>23</td>\n",
       "      <td>0.00</td>\n",
       "    </tr>\n",
       "    <tr>\n",
       "      <th>1233147</th>\n",
       "      <td>2</td>\n",
       "      <td>2023-02-19 17:19:13</td>\n",
       "      <td>2023-02-19 17:57:24</td>\n",
       "      <td>9.0</td>\n",
       "      <td>16.79</td>\n",
       "      <td>5.0</td>\n",
       "      <td>186</td>\n",
       "      <td>1</td>\n",
       "      <td>1</td>\n",
       "      <td>90.00</td>\n",
       "      <td>0.0</td>\n",
       "      <td>0.0</td>\n",
       "      <td>18.00</td>\n",
       "      <td>14.75</td>\n",
       "      <td>1.0</td>\n",
       "      <td>123.75</td>\n",
       "      <td>0.0</td>\n",
       "      <td>2023-02-19</td>\n",
       "      <td>17</td>\n",
       "      <td>0.00</td>\n",
       "    </tr>\n",
       "    <tr>\n",
       "      <th>1333135</th>\n",
       "      <td>2</td>\n",
       "      <td>2023-04-09 09:22:54</td>\n",
       "      <td>2023-04-09 09:23:22</td>\n",
       "      <td>7.0</td>\n",
       "      <td>0.00</td>\n",
       "      <td>5.0</td>\n",
       "      <td>125</td>\n",
       "      <td>125</td>\n",
       "      <td>1</td>\n",
       "      <td>80.00</td>\n",
       "      <td>0.0</td>\n",
       "      <td>0.5</td>\n",
       "      <td>0.00</td>\n",
       "      <td>21.25</td>\n",
       "      <td>1.0</td>\n",
       "      <td>105.25</td>\n",
       "      <td>2.5</td>\n",
       "      <td>2023-04-09</td>\n",
       "      <td>9</td>\n",
       "      <td>0.00</td>\n",
       "    </tr>\n",
       "    <tr>\n",
       "      <th>1401814</th>\n",
       "      <td>2</td>\n",
       "      <td>2023-04-21 16:44:17</td>\n",
       "      <td>2023-04-21 16:44:19</td>\n",
       "      <td>8.0</td>\n",
       "      <td>0.00</td>\n",
       "      <td>5.0</td>\n",
       "      <td>264</td>\n",
       "      <td>264</td>\n",
       "      <td>1</td>\n",
       "      <td>86.00</td>\n",
       "      <td>0.0</td>\n",
       "      <td>0.0</td>\n",
       "      <td>10.10</td>\n",
       "      <td>0.00</td>\n",
       "      <td>1.0</td>\n",
       "      <td>97.10</td>\n",
       "      <td>0.0</td>\n",
       "      <td>2023-04-21</td>\n",
       "      <td>16</td>\n",
       "      <td>0.00</td>\n",
       "    </tr>\n",
       "    <tr>\n",
       "      <th>1421730</th>\n",
       "      <td>2</td>\n",
       "      <td>2023-04-28 02:24:47</td>\n",
       "      <td>2023-04-28 02:25:01</td>\n",
       "      <td>8.0</td>\n",
       "      <td>0.00</td>\n",
       "      <td>5.0</td>\n",
       "      <td>87</td>\n",
       "      <td>87</td>\n",
       "      <td>2</td>\n",
       "      <td>85.00</td>\n",
       "      <td>0.0</td>\n",
       "      <td>0.5</td>\n",
       "      <td>0.00</td>\n",
       "      <td>0.00</td>\n",
       "      <td>1.0</td>\n",
       "      <td>89.00</td>\n",
       "      <td>2.5</td>\n",
       "      <td>2023-04-28</td>\n",
       "      <td>2</td>\n",
       "      <td>0.00</td>\n",
       "    </tr>\n",
       "    <tr>\n",
       "      <th>1597591</th>\n",
       "      <td>2</td>\n",
       "      <td>2023-05-29 02:35:04</td>\n",
       "      <td>2023-05-29 02:35:16</td>\n",
       "      <td>7.0</td>\n",
       "      <td>0.00</td>\n",
       "      <td>5.0</td>\n",
       "      <td>256</td>\n",
       "      <td>256</td>\n",
       "      <td>1</td>\n",
       "      <td>75.00</td>\n",
       "      <td>0.0</td>\n",
       "      <td>0.0</td>\n",
       "      <td>0.02</td>\n",
       "      <td>0.00</td>\n",
       "      <td>1.0</td>\n",
       "      <td>76.02</td>\n",
       "      <td>0.0</td>\n",
       "      <td>2023-05-29</td>\n",
       "      <td>2</td>\n",
       "      <td>0.00</td>\n",
       "    </tr>\n",
       "    <tr>\n",
       "      <th>1679906</th>\n",
       "      <td>2</td>\n",
       "      <td>2023-07-16 16:33:55</td>\n",
       "      <td>2023-07-16 16:34:00</td>\n",
       "      <td>8.0</td>\n",
       "      <td>0.00</td>\n",
       "      <td>5.0</td>\n",
       "      <td>233</td>\n",
       "      <td>233</td>\n",
       "      <td>1</td>\n",
       "      <td>88.00</td>\n",
       "      <td>0.0</td>\n",
       "      <td>0.5</td>\n",
       "      <td>17.90</td>\n",
       "      <td>0.00</td>\n",
       "      <td>1.0</td>\n",
       "      <td>107.40</td>\n",
       "      <td>0.0</td>\n",
       "      <td>2023-07-16</td>\n",
       "      <td>16</td>\n",
       "      <td>0.00</td>\n",
       "    </tr>\n",
       "    <tr>\n",
       "      <th>1846867</th>\n",
       "      <td>2</td>\n",
       "      <td>2023-09-18 13:07:26</td>\n",
       "      <td>2023-09-18 14:05:27</td>\n",
       "      <td>8.0</td>\n",
       "      <td>31.71</td>\n",
       "      <td>5.0</td>\n",
       "      <td>48</td>\n",
       "      <td>219</td>\n",
       "      <td>1</td>\n",
       "      <td>88.90</td>\n",
       "      <td>0.0</td>\n",
       "      <td>0.5</td>\n",
       "      <td>10.00</td>\n",
       "      <td>11.19</td>\n",
       "      <td>1.0</td>\n",
       "      <td>114.09</td>\n",
       "      <td>2.5</td>\n",
       "      <td>2023-09-18</td>\n",
       "      <td>13</td>\n",
       "      <td>0.00</td>\n",
       "    </tr>\n",
       "    <tr>\n",
       "      <th>1848113</th>\n",
       "      <td>2</td>\n",
       "      <td>2023-09-18 17:26:13</td>\n",
       "      <td>2023-09-18 17:52:25</td>\n",
       "      <td>7.0</td>\n",
       "      <td>5.11</td>\n",
       "      <td>5.0</td>\n",
       "      <td>246</td>\n",
       "      <td>265</td>\n",
       "      <td>1</td>\n",
       "      <td>70.00</td>\n",
       "      <td>0.0</td>\n",
       "      <td>0.0</td>\n",
       "      <td>0.00</td>\n",
       "      <td>0.00</td>\n",
       "      <td>1.0</td>\n",
       "      <td>71.00</td>\n",
       "      <td>0.0</td>\n",
       "      <td>2023-09-18</td>\n",
       "      <td>17</td>\n",
       "      <td>0.00</td>\n",
       "    </tr>\n",
       "  </tbody>\n",
       "</table>\n",
       "</div>"
      ],
      "text/plain": [
       "         VendorID tpep_pickup_datetime tpep_dropoff_datetime  passenger_count  \\\n",
       "88797           2  2023-01-19 16:33:22   2023-01-19 17:57:32              8.0   \n",
       "230693          2  2023-10-15 08:11:40   2023-10-15 08:39:01              7.0   \n",
       "261244          2  2023-10-20 16:55:31   2023-10-20 16:56:27              7.0   \n",
       "485300          2  2023-11-30 00:13:36   2023-11-30 00:13:39              8.0   \n",
       "511725          2  2023-12-04 15:32:03   2023-12-04 15:32:08              9.0   \n",
       "546188          2  2023-12-09 22:01:38   2023-12-09 22:01:40              8.0   \n",
       "612517          2  2023-12-20 19:26:27   2023-12-20 19:33:17              9.0   \n",
       "624897          2  2023-12-22 23:00:21   2023-12-22 23:00:24              8.0   \n",
       "631419          2  2023-12-26 17:38:04   2023-12-26 17:38:06              8.0   \n",
       "885785          2  2023-06-11 11:53:08   2023-06-11 11:53:29              9.0   \n",
       "1059918         2  2023-08-16 06:10:57   2023-08-16 06:49:47              8.0   \n",
       "1082350         2  2023-08-21 01:53:09   2023-08-21 01:53:11              8.0   \n",
       "1171036         2  2023-02-08 23:26:39   2023-02-08 23:26:51              9.0   \n",
       "1233147         2  2023-02-19 17:19:13   2023-02-19 17:57:24              9.0   \n",
       "1333135         2  2023-04-09 09:22:54   2023-04-09 09:23:22              7.0   \n",
       "1401814         2  2023-04-21 16:44:17   2023-04-21 16:44:19              8.0   \n",
       "1421730         2  2023-04-28 02:24:47   2023-04-28 02:25:01              8.0   \n",
       "1597591         2  2023-05-29 02:35:04   2023-05-29 02:35:16              7.0   \n",
       "1679906         2  2023-07-16 16:33:55   2023-07-16 16:34:00              8.0   \n",
       "1846867         2  2023-09-18 13:07:26   2023-09-18 14:05:27              8.0   \n",
       "1848113         2  2023-09-18 17:26:13   2023-09-18 17:52:25              7.0   \n",
       "\n",
       "         trip_distance  RatecodeID  PULocationID  DOLocationID  payment_type  \\\n",
       "88797            18.30         5.0           230           132             1   \n",
       "230693            7.60         5.0           246           195             1   \n",
       "261244           16.17         5.0           132           132             1   \n",
       "485300            0.00         5.0            90           264             1   \n",
       "511725            0.00         5.0           132           132             1   \n",
       "546188            0.00         5.0            79           264             1   \n",
       "612517            0.07         5.0           112           112             2   \n",
       "624897            0.09         5.0           236           236             1   \n",
       "631419            0.45         5.0           216           264             1   \n",
       "885785            0.00         5.0           138           138             1   \n",
       "1059918          19.03         5.0           132            75             1   \n",
       "1082350           0.00         5.0           264           264             2   \n",
       "1171036           0.13         5.0           231           231             1   \n",
       "1233147          16.79         5.0           186             1             1   \n",
       "1333135           0.00         5.0           125           125             1   \n",
       "1401814           0.00         5.0           264           264             1   \n",
       "1421730           0.00         5.0            87            87             2   \n",
       "1597591           0.00         5.0           256           256             1   \n",
       "1679906           0.00         5.0           233           233             1   \n",
       "1846867          31.71         5.0            48           219             1   \n",
       "1848113           5.11         5.0           246           265             1   \n",
       "\n",
       "         fare_amount  extra  mta_tax  tip_amount  tolls_amount  \\\n",
       "88797          85.00    0.0      0.5       19.11          6.55   \n",
       "230693         70.00    0.0      0.5       18.50          0.00   \n",
       "261244         74.00    0.0      0.0        0.00         13.00   \n",
       "485300         86.00    0.0      0.5        5.00          0.00   \n",
       "511725         90.00    0.0      0.5       18.65          0.00   \n",
       "546188         87.00    0.0      0.5       17.70          0.00   \n",
       "612517         92.00    0.0      0.5        0.00          0.00   \n",
       "624897         85.00    0.0      0.5       17.30          0.00   \n",
       "631419         85.00    0.0      0.5       17.30          0.00   \n",
       "885785         95.00    5.0      0.0        0.00          0.00   \n",
       "1059918        82.00    0.0      0.5       15.00          6.94   \n",
       "1082350        82.00    0.0      0.0        0.00          0.00   \n",
       "1171036        95.55    0.0      0.5       19.91          0.00   \n",
       "1233147        90.00    0.0      0.0       18.00         14.75   \n",
       "1333135        80.00    0.0      0.5        0.00         21.25   \n",
       "1401814        86.00    0.0      0.0       10.10          0.00   \n",
       "1421730        85.00    0.0      0.5        0.00          0.00   \n",
       "1597591        75.00    0.0      0.0        0.02          0.00   \n",
       "1679906        88.00    0.0      0.5       17.90          0.00   \n",
       "1846867        88.90    0.0      0.5       10.00         11.19   \n",
       "1848113        70.00    0.0      0.0        0.00          0.00   \n",
       "\n",
       "         improvement_surcharge  total_amount  congestion_surcharge  \\\n",
       "88797                      1.0        114.66                   2.5   \n",
       "230693                     1.0         92.50                   2.5   \n",
       "261244                     1.0         88.00                   0.0   \n",
       "485300                     1.0         92.50                   0.0   \n",
       "511725                     1.0        111.90                   0.0   \n",
       "546188                     1.0        106.20                   0.0   \n",
       "612517                     1.0         93.50                   0.0   \n",
       "624897                     1.0        103.80                   0.0   \n",
       "631419                     1.0        103.80                   0.0   \n",
       "885785                     1.0        102.75                   0.0   \n",
       "1059918                    1.0        105.44                   0.0   \n",
       "1082350                    1.0         83.00                   0.0   \n",
       "1171036                    1.0        119.46                   2.5   \n",
       "1233147                    1.0        123.75                   0.0   \n",
       "1333135                    1.0        105.25                   2.5   \n",
       "1401814                    1.0         97.10                   0.0   \n",
       "1421730                    1.0         89.00                   2.5   \n",
       "1597591                    1.0         76.02                   0.0   \n",
       "1679906                    1.0        107.40                   0.0   \n",
       "1846867                    1.0        114.09                   2.5   \n",
       "1848113                    1.0         71.00                   0.0   \n",
       "\n",
       "        pickup_date  pickup_hour  Airport_fee  \n",
       "88797    2023-01-19           16         0.00  \n",
       "230693   2023-10-15            8         0.00  \n",
       "261244   2023-10-20           16         0.00  \n",
       "485300   2023-11-30            0         0.00  \n",
       "511725   2023-12-04           15         1.75  \n",
       "546188   2023-12-09           22         0.00  \n",
       "612517   2023-12-20           19         0.00  \n",
       "624897   2023-12-22           23         0.00  \n",
       "631419   2023-12-26           17         0.00  \n",
       "885785   2023-06-11           11         1.75  \n",
       "1059918  2023-08-16            6         0.00  \n",
       "1082350  2023-08-21            1         0.00  \n",
       "1171036  2023-02-08           23         0.00  \n",
       "1233147  2023-02-19           17         0.00  \n",
       "1333135  2023-04-09            9         0.00  \n",
       "1401814  2023-04-21           16         0.00  \n",
       "1421730  2023-04-28            2         0.00  \n",
       "1597591  2023-05-29            2         0.00  \n",
       "1679906  2023-07-16           16         0.00  \n",
       "1846867  2023-09-18           13         0.00  \n",
       "1848113  2023-09-18           17         0.00  "
      ]
     },
     "execution_count": 370,
     "metadata": {},
     "output_type": "execute_result"
    }
   ],
   "source": [
    "# remove passenger_count > 6\n",
    "df [df[\"passenger_count\"] > 6]"
   ]
  },
  {
   "cell_type": "code",
   "execution_count": 380,
   "metadata": {
    "id": "FCUNe3tu8bie"
   },
   "outputs": [
    {
     "data": {
      "image/png": "[encoded data removed]",
      "text/plain": [
       "<Figure size 640x480 with 1 Axes>"
      ]
     },
     "metadata": {},
     "output_type": "display_data"
    }
   ],
   "source": [
    "# Continue with outlier handling\n",
    "\n",
    "# Example for outliers:-  short trips with unusually high tips\n",
    "shortrideshigh_tip = df[(df[\"trip_distance\"] < 0.5) & (df[\"tip_amount\"] > 50)]\n",
    "\n",
    "df['payment_type'].value_counts().plot.bar(color = 'Orange')\n",
    "plt.title(\"Payment Type Count\")\n",
    "plt.xlabel(\"Payment Type\")\n",
    "plt.ylabel(\"Count\")\n",
    "plt.show()\n",
    "\n",
    "\n",
    "\n"
   ]
  },
  {
   "cell_type": "code",
   "execution_count": 394,
   "metadata": {
    "id": "PuzQXfuT8YKV"
   },
   "outputs": [
    {
     "name": "stdout",
     "output_type": "stream",
     "text": [
      "   trip_distance  fare_amount  passenger_count\n",
      "0       1.071216     0.544191         0.301511\n",
      "1      -0.404896    -1.174308        -0.904534\n",
      "2       0.777373    -0.716041        -0.904534\n",
      "3      -1.443692     1.346158         1.507557\n"
     ]
    },
    {
     "name": "stderr",
     "output_type": "stream",
     "text": [
      "C:\\Users\\aryan\\AppData\\Local\\Temp\\ipykernel_19784\\1192289417.py:16: FutureWarning: Setting an item of incompatible dtype is deprecated and will raise in a future error of pandas. Value '[ 0.54419149 -1.17430796 -0.71604144  1.3461579 ]' has dtype incompatible with int64, please explicitly cast to a compatible dtype first.\n",
      "  df.loc[:, df.select_dtypes(\"number\").columns] = scaler.fit_transform(df.select_dtypes(\"number\")).astype(\"float64\")\n"
     ]
    }
   ],
   "source": [
    "# Do any columns need standardising?\n",
    "import pandas as pd\n",
    "from sklearn.preprocessing import StandardScaler\n",
    "\n",
    "# Create a simple dataset\n",
    "data = {\n",
    "    'trip_distance': [18.30, 7.60, 16.17, 0.07],\n",
    "    'fare_amount': [85, 70, 74, 92],\n",
    "    'passenger_count': [8.0, 7.0, 7.0, 9.0]\n",
    "}\n",
    "\n",
    "df = pd.DataFrame(data)\n",
    "\n",
    "# Standardizing the numeric columns\n",
    "scaler = StandardScaler()\n",
    "df.loc[:, df.select_dtypes(\"number\").columns] = scaler.fit_transform(df.select_dtypes(\"number\")).astype(\"float64\")\n",
    "print(df)\n",
    "\n",
    "\n"
   ]
  },
  {
   "cell_type": "markdown",
   "metadata": {
    "id": "gPpJyFFNffcL"
   },
   "source": [
    "## **3** Exploratory Data Analysis\n",
    "<font color = red>[90 marks]</font> <br>"
   ]
  },
  {
   "cell_type": "code",
   "execution_count": 396,
   "metadata": {
    "id": "cl-0PcYTfkqh"
   },
   "outputs": [
    {
     "data": {
      "text/plain": [
       "['trip_distance', 'fare_amount', 'passenger_count']"
      ]
     },
     "execution_count": 396,
     "metadata": {},
     "output_type": "execute_result"
    }
   ],
   "source": [
    "df.columns.tolist()"
   ]
  },
  {
   "cell_type": "markdown",
   "metadata": {
    "id": "a4N3PvkSTwcN"
   },
   "source": [
    "#### **3.1** General EDA: Finding Patterns and Trends\n",
    "<font color = red>[40 marks]</font> <br>"
   ]
  },
  {
   "cell_type": "markdown",
   "metadata": {
    "id": "9hwonDfZTJO6"
   },
   "source": [
    "**3.1.1** <font color = red>[3 marks]</font> <br>\n",
    "Categorise the varaibles into Numerical or Categorical.\n",
    "* `VendorID`:\n",
    "* `tpep_pickup_datetime`:\n",
    "* `tpep_dropoff_datetime`:\n",
    "* `passenger_count`:\n",
    "* `trip_distance`:\n",
    "* `RatecodeID`:\n",
    "* `PULocationID`:\n",
    "* `DOLocationID`:\n",
    "* `payment_type`:\n",
    "* `pickup_hour`:\n",
    "* `trip_duration`:\n",
    "\n",
    "\n",
    "The following monetary parameters belong in the same category, is it categorical or numerical?\n",
    "\n",
    "\n",
    "* `fare_amount`\n",
    "* `extra`\n",
    "* `mta_tax`\n",
    "* `tip_amount`\n",
    "* `tolls_amount`\n",
    "* `improvement_surcharge`\n",
    "* `total_amount`\n",
    "* `congestion_surcharge`\n",
    "* `airport_fee`"
   ]
  },
  {
   "cell_type": "markdown",
   "metadata": {
    "id": "MbGMjArkiXjL"
   },
   "source": [
    "##### Temporal Analysis"
   ]
  },
  {
   "cell_type": "markdown",
   "metadata": {
    "id": "ZCCbmQ49s2qj"
   },
   "source": [
    "**3.1.2** <font color = red>[5 marks]</font> <br>\n",
    "Analyse the distribution of taxi pickups by hours, days of the week, and months."
   ]
  },
  {
   "cell_type": "code",
   "execution_count": 404,
   "metadata": {
    "id": "RwgWN_MWg0Au"
   },
   "outputs": [
    {
     "data": {
      "image/png": "[encoded data removed]",
      "text/plain": [
       "<Figure size 1000x600 with 1 Axes>"
      ]
     },
     "metadata": {},
     "output_type": "display_data"
    }
   ],
   "source": [
    "# Find and show the hourly trends in taxi pickups\n",
    "import pandas as pd\n",
    "import matplotlib.pyplot as plt\n",
    "\n",
    "# Sample DataFrame with pickup datetime (make sure the actual column has similar format)\n",
    "df = pd.DataFrame({\n",
    "    'tpep_pickup_datetime': ['2025-05-01 01:15:00', '2025-05-01 05:45:00', '2025-05-01 14:30:00', '2025-05-01 19:00:00']\n",
    "})\n",
    "\n",
    "# Ensure the 'tpep_pickup_datetime' is in datetime format\n",
    "df['tpep_pickup_datetime'] = pd.to_datetime(df['tpep_pickup_datetime'])\n",
    "\n",
    "# Create a new column to store just the hour from the pickup time\n",
    "df['pickup_hour'] = df['tpep_pickup_datetime'].dt.hour\n",
    "\n",
    "# Group by hour and count how many pickups happen each hour\n",
    "hourly_pickups = df.groupby('pickup_hour').size()\n",
    "\n",
    "# Plot the data to see the hourly trends\n",
    "plt.figure(figsize=(10, 6))\n",
    "hourly_pickups.plot(kind='bar', color='lightBlue')\n",
    "plt.title('Taxi Pickups by Hour')\n",
    "plt.xlabel('Hour of the Day')\n",
    "plt.ylabel('Number of Pickups')\n",
    "plt.xticks(rotation=0)\n",
    "plt.show()\n",
    "\n"
   ]
  },
  {
   "cell_type": "code",
   "execution_count": 410,
   "metadata": {
    "id": "R64b8zfkG5OK"
   },
   "outputs": [
    {
     "data": {
      "image/png": "[encoded data removed]",
      "text/plain": [
       "<Figure size 1000x600 with 1 Axes>"
      ]
     },
     "metadata": {},
     "output_type": "display_data"
    }
   ],
   "source": [
    "# Find and show the daily trends in taxi pickups (days of the week)\n",
    "\n",
    "import pandas as pd\n",
    "import matplotlib.pyplot as plt\n",
    "\n",
    "# Sample data with pickup datetime (replace with your actual data)\n",
    "df = pd.DataFrame({\n",
    "    'tpep_pickup_datetime': ['2025-05-01 01:15:00', '2025-05-02 05:45:00', '2025-05-03 14:30:00', '2025-05-04 19:00:00']\n",
    "})\n",
    "\n",
    "# Convert 'tpep_pickup_datetime' column to datetime format\n",
    "df['tpep_pickup_datetime'] = pd.to_datetime(df['tpep_pickup_datetime'])\n",
    "\n",
    "# Extract the day of the week (e.g., 'Monday', 'Tuesday', etc.)\n",
    "df['pickup_day'] = df['tpep_pickup_datetime'].dt.day_name()\n",
    "\n",
    "# Group by the day of the week and count the occurrences (how many pickups per day)\n",
    "daily_pickups = df.groupby('pickup_day').size()\n",
    "\n",
    "# Sort the days of the week in the correct order using reindex\n",
    "days_of_week = ['Monday', 'Tuesday', 'Wednesday', 'Thursday', 'Friday', 'Saturday', 'Sunday']\n",
    "daily_pickups = daily_pickups.reindex(days_of_week)\n",
    "\n",
    "# Plot the daily trends using a bar chart\n",
    "plt.figure(figsize=(10, 6))\n",
    "daily_pickups.plot(kind='bar', color='lightblue')\n",
    "plt.title('Number of Taxi Pickups by Day of the Week')\n",
    "plt.xlabel('Day of the Week')\n",
    "plt.ylabel('Number of Pickups')\n",
    "plt.xticks(rotation=45)\n",
    "plt.show()\n",
    "\n"
   ]
  },
  {
   "cell_type": "code",
   "execution_count": 11,
   "metadata": {
    "id": "H7V-jmRQG5hJ"
   },
   "outputs": [
    {
     "name": "stdout",
     "output_type": "stream",
     "text": [
      "Month\n",
      "January      152086\n",
      "February     144459\n",
      "March        168696\n",
      "April        162909\n",
      "May          174069\n",
      "June         163785\n",
      "July         143782\n",
      "August       139642\n",
      "September    140876\n",
      "October      174254\n",
      "November     165134\n",
      "December     166708\n",
      "Name: count, dtype: int64\n"
     ]
    },
    {
     "name": "stderr",
     "output_type": "stream",
     "text": [
      "C:\\Users\\aryan\\AppData\\Local\\Temp\\ipykernel_6300\\559234880.py:18: FutureWarning: \n",
      "\n",
      "Passing `palette` without assigning `hue` is deprecated and will be removed in v0.14.0. Assign the `x` variable to `hue` and set `legend=False` for the same effect.\n",
      "\n",
      "  sns.barplot(x=month_trends.index, y=month_trends.values, palette=\"pastel\")\n"
     ]
    },
    {
     "data": {
      "image/png": "[encoded data removed]",
      "text/plain": [
       "<Figure size 2000x500 with 1 Axes>"
      ]
     },
     "metadata": {},
     "output_type": "display_data"
    }
   ],
   "source": [
    "# Show the monthly trends in pickups\n",
    "\n",
    "# Add a new column to extract the month name from the pickup datetime\n",
    "df[\"Month\"] = df[\"tpep_pickup_datetime\"].dt.month_name()\n",
    "\n",
    "# Create the correct order for the months\n",
    "month_order = [\"January\", \"February\", \"March\", \"April\", \"May\", \"June\",\n",
    "               \"July\", \"August\", \"September\", \"October\", \"November\", \"December\"]\n",
    "\n",
    "# Count the number of trips for each month and sort them in calendar order\n",
    "month_trends = df[\"Month\"].value_counts().reindex(month_order)\n",
    "\n",
    "# Display the result\n",
    "print(month_trends)\n",
    "\n",
    "# Plot a bar chart to show the number of trips per month\n",
    "plt.figure(figsize=(20, 5))\n",
    "sns.barplot(x=month_trends.index, y=month_trends.values, palette=\"pastel\")\n",
    "plt.xlabel(\"Month\")\n",
    "plt.ylabel(\"Number of Trips\")\n",
    "plt.title(\"Monthly Trends in Taxi Pickups\")\n",
    "plt.xticks(rotation=45)\n",
    "plt.show()\n"
   ]
  },
  {
   "cell_type": "markdown",
   "metadata": {
    "id": "23IqsgNjHNpJ"
   },
   "source": [
    "##### Financial Analysis"
   ]
  },
  {
   "cell_type": "markdown",
   "metadata": {
    "id": "fRaO-3NqHSM6"
   },
   "source": [
    "Take a look at the financial parameters like `fare_amount`, `tip_amount`, `total_amount`, and also `trip_distance`. Do these contain zero/negative values?"
   ]
  },
  {
   "cell_type": "code",
   "execution_count": 13,
   "metadata": {
    "id": "Z7JUnPeRHRqF"
   },
   "outputs": [
    {
     "name": "stdout",
     "output_type": "stream",
     "text": [
      "The column 'fare_amount' has 651 rows with zero or negative values.\n",
      "The column 'tip_amount' has 435958 rows with zero or negative values.\n",
      "The column 'total_amount' has 388 rows with zero or negative values.\n",
      "The column 'trip_distance' has 37732 rows with zero or negative values.\n"
     ]
    }
   ],
   "source": [
    "# Analyse the above parameters\n",
    "# We want to check if any of these columns contain zero or negative values\n",
    "columns_to_check = ['fare_amount', 'tip_amount', 'total_amount', 'trip_distance']\n",
    "\n",
    "# We'll go through each of these columns and find out how many rows have zero or negative values\n",
    "for column in columns_to_check:\n",
    "    # Count how many values in the column are zero or negative\n",
    "    count_invalid_values = df[df[column] <= 0].shape[0]\n",
    "    \n",
    "    # Print out the result\n",
    "    print(f\"The column '{column}' has {count_invalid_values} rows with zero or negative values.\")\n",
    "\n"
   ]
  },
  {
   "cell_type": "markdown",
   "metadata": {
    "id": "dbOS_-GDJTyv"
   },
   "source": [
    "Do you think it is beneficial to create a copy DataFrame leaving out the zero values from these?"
   ]
  },
  {
   "cell_type": "markdown",
   "metadata": {
    "id": "YDN14J63o9gV"
   },
   "source": [
    "**3.1.3** <font color = red>[2 marks]</font> <br>\n",
    "Filter out the zero values from the above columns.\n",
    "\n",
    "**Note:** The distance might be 0 in cases where pickup and drop is in the same zone. Do you think it is suitable to drop such cases of zero distance?"
   ]
  },
  {
   "cell_type": "code",
   "execution_count": 17,
   "metadata": {
    "id": "5mk7Yp41JqJd"
   },
   "outputs": [
    {
     "name": "stdout",
     "output_type": "stream",
     "text": [
      "         VendorID tpep_pickup_datetime tpep_dropoff_datetime  passenger_count  \\\n",
      "1               2  2023-01-01 00:16:41   2023-01-01 00:21:46              2.0   \n",
      "4               2  2023-01-01 00:43:00   2023-01-01 01:01:00              NaN   \n",
      "5               1  2023-01-01 00:42:56   2023-01-01 01:16:33              2.0   \n",
      "6               2  2023-01-01 00:58:00   2023-01-01 01:08:31              2.0   \n",
      "7               2  2023-01-01 00:16:06   2023-01-01 00:31:59              1.0   \n",
      "...           ...                  ...                   ...              ...   \n",
      "1896394         1  2023-09-30 23:00:09   2023-09-30 23:59:38              4.0   \n",
      "1896395         2  2023-09-30 23:46:34   2023-09-30 23:53:20              1.0   \n",
      "1896396         1  2023-09-30 23:44:51   2023-09-30 23:49:05              3.0   \n",
      "1896397         2  2023-09-30 23:11:05   2023-09-30 23:18:42              1.0   \n",
      "1896399         2  2023-09-30 23:19:47   2023-09-30 23:33:36              1.0   \n",
      "\n",
      "         trip_distance  RatecodeID store_and_fwd_flag  PULocationID  \\\n",
      "1                 1.24         1.0                  N           161   \n",
      "4                19.24         NaN               None            66   \n",
      "5                 7.10         1.0                  N           246   \n",
      "6                 1.59         1.0                  N            79   \n",
      "7                 3.16         1.0                  N            79   \n",
      "...                ...         ...                ...           ...   \n",
      "1896394          18.40         2.0                  N           132   \n",
      "1896395           0.79         1.0                  N           231   \n",
      "1896396           0.50         1.0                  N           158   \n",
      "1896397           1.09         1.0                  N           161   \n",
      "1896399           2.97         1.0                  N           231   \n",
      "\n",
      "         DOLocationID  payment_type  ...  tip_amount  tolls_amount  \\\n",
      "1                 237             1  ...        2.58           0.0   \n",
      "4                 107             0  ...        5.93           0.0   \n",
      "5                  37             1  ...        7.90           0.0   \n",
      "6                 164             1  ...        3.28           0.0   \n",
      "7                 256             1  ...        6.02           0.0   \n",
      "...               ...           ...  ...         ...           ...   \n",
      "1896394           148             1  ...       15.00           0.0   \n",
      "1896395           231             1  ...        2.00           0.0   \n",
      "1896396            68             1  ...        2.15           0.0   \n",
      "1896397           162             1  ...        2.86           0.0   \n",
      "1896399            68             1  ...        4.40           0.0   \n",
      "\n",
      "         improvement_surcharge  total_amount  congestion_surcharge  \\\n",
      "1                          1.0         15.48                   2.5   \n",
      "4                          1.0         35.57                   NaN   \n",
      "5                          1.0         47.40                   2.5   \n",
      "6                          1.0         19.68                   2.5   \n",
      "7                          1.0         30.12                   2.5   \n",
      "...                        ...           ...                   ...   \n",
      "1896394                    1.0         89.00                   2.5   \n",
      "1896395                    1.0         15.60                   2.5   \n",
      "1896396                    1.0         12.95                   2.5   \n",
      "1896397                    1.0         17.16                   2.5   \n",
      "1896399                    1.0         26.40                   2.5   \n",
      "\n",
      "         airport_fee  pickup_date  pickup_hour  Airport_fee      Month  \n",
      "1                0.0   2023-01-01            0          NaN    January  \n",
      "4                NaN   2023-01-01            0          NaN    January  \n",
      "5                0.0   2023-01-01            0          NaN    January  \n",
      "6                0.0   2023-01-01            0          NaN    January  \n",
      "7                0.0   2023-01-01            0          NaN    January  \n",
      "...              ...          ...          ...          ...        ...  \n",
      "1896394          NaN   2023-09-30           23          0.0  September  \n",
      "1896395          NaN   2023-09-30           23          0.0  September  \n",
      "1896396          NaN   2023-09-30           23          0.0  September  \n",
      "1896397          NaN   2023-09-30           23          0.0  September  \n",
      "1896399          NaN   2023-09-30           23          0.0  September  \n",
      "\n",
      "[1460424 rows x 23 columns]\n"
     ]
    }
   ],
   "source": [
    "# Create a df with non zero entries for the selected parameters.\n",
    "\n",
    "# Removed rows with zero or negative values in fare_amount, tip_amount, and total_amount\n",
    "df_filtered = df[(df['fare_amount'] > 0) & \n",
    "                 (df['tip_amount'] > 0) & \n",
    "                 (df['total_amount'] > 0)]\n",
    "\n",
    "# Keep rows where the trip_distance is not negative (allow zero distance for valid cases)\n",
    "df_filtered = df_filtered[df_filtered['trip_distance'] >= 0]\n",
    "\n",
    "# Display the cleaned-up DataFrame\n",
    "print(df_filtered)\n"
   ]
  },
  {
   "cell_type": "markdown",
   "metadata": {
    "id": "kJcgwyrtKivH"
   },
   "source": [
    "**3.1.4** <font color = red>[3 marks]</font> <br>\n",
    "Analyse the monthly revenue (`total_amount`) trend"
   ]
  },
  {
   "cell_type": "code",
   "execution_count": 20,
   "metadata": {
    "id": "U_gl8rBD6ZH0"
   },
   "outputs": [
    {
     "name": "stdout",
     "output_type": "stream",
     "text": [
      "Month\n",
      "January      4161974.73\n",
      "February     3943082.52\n",
      "March        4756032.75\n",
      "April        4678749.85\n",
      "May          5111533.23\n",
      "June         4812479.49\n",
      "July         4178156.95\n",
      "August       4083427.59\n",
      "September    4383700.82\n",
      "October      5180919.49\n",
      "November     4808058.39\n",
      "December     4863089.14\n",
      "Name: total_amount, dtype: float64\n"
     ]
    },
    {
     "name": "stderr",
     "output_type": "stream",
     "text": [
      "C:\\Users\\aryan\\AppData\\Local\\Temp\\ipykernel_6300\\3342256825.py:18: FutureWarning: \n",
      "\n",
      "Passing `palette` without assigning `hue` is deprecated and will be removed in v0.14.0. Assign the `x` variable to `hue` and set `legend=False` for the same effect.\n",
      "\n",
      "  sns.barplot(x=monthly_revenue.index, y=monthly_revenue.values, palette=\"coolwarm\")\n"
     ]
    },
    {
     "data": {
      "image/png": "[encoded data removed]",
      "text/plain": [
       "<Figure size 1000x600 with 1 Axes>"
      ]
     },
     "metadata": {},
     "output_type": "display_data"
    }
   ],
   "source": [
    "# Group data by month and analyse monthly revenue\n",
    "\n",
    "# First, extract the month from the pickup datetime column\n",
    "df['Month'] = df['tpep_pickup_datetime'].dt.month_name()\n",
    "\n",
    "# Group data by the extracted month and calculate total revenue for each month\n",
    "monthly_revenue = df.groupby('Month')['total_amount'].sum()\n",
    "\n",
    "# Order months in the correct sequence\n",
    "month_order = [\"January\", \"February\", \"March\", \"April\", \"May\", \"June\", \"July\", \"August\", \"September\", \"October\", \"November\", \"December\"]\n",
    "monthly_revenue = monthly_revenue[month_order]\n",
    "\n",
    "# Display the monthly revenue trend\n",
    "print(monthly_revenue)\n",
    "\n",
    "# Plot the monthly revenue trend using a bar plot\n",
    "plt.figure(figsize=(10, 6))\n",
    "sns.barplot(x=monthly_revenue.index, y=monthly_revenue.values, palette=\"coolwarm\")\n",
    "plt.title('Monthly Revenue Trend')\n",
    "plt.xlabel('Month')\n",
    "plt.ylabel('Total Revenue')\n",
    "plt.xticks(rotation=45)\n",
    "plt.show()\n"
   ]
  },
  {
   "cell_type": "markdown",
   "metadata": {
    "id": "3vQHosTZLalB"
   },
   "source": [
    "**3.1.5** <font color = red>[3 marks]</font> <br>\n",
    "Show the proportion of each quarter of the year in the revenue"
   ]
  },
  {
   "cell_type": "code",
   "execution_count": 23,
   "metadata": {
    "id": "foV9BpFbVTbu"
   },
   "outputs": [
    {
     "name": "stdout",
     "output_type": "stream",
     "text": [
      "Quarter\n",
      "2022Q4     0.000025\n",
      "2023Q1    23.400306\n",
      "2023Q2    26.569218\n",
      "2023Q3    23.007657\n",
      "2023Q4    27.022795\n",
      "Freq: Q-DEC, Name: total_amount, dtype: float64\n"
     ]
    },
    {
     "data": {
      "image/png": "[encoded data removed]",
      "text/plain": [
       "<Figure size 800x800 with 1 Axes>"
      ]
     },
     "metadata": {},
     "output_type": "display_data"
    }
   ],
   "source": [
    "# Calculate proportion of each quarter\n",
    "# Extract the quarter from the 'tpep_pickup_datetime' column\n",
    "df['Quarter'] = df['tpep_pickup_datetime'].dt.to_period('Q')\n",
    "\n",
    "# Group the data by quarter and sum the revenue (total_amount) for each quarter\n",
    "quarterly_revenue = df.groupby('Quarter')['total_amount'].sum()\n",
    "\n",
    "# Calculate the total revenue across all quarters\n",
    "total_revenue = quarterly_revenue.sum()\n",
    "\n",
    "# Calculate the proportion of total revenue for each quarter\n",
    "quarterly_proportion = (quarterly_revenue / total_revenue) * 100\n",
    "\n",
    "# Display the proportions of revenue by quarter\n",
    "print(quarterly_proportion)\n",
    "\n",
    "# Plot the proportion of revenue in each quarter using a pie chart\n",
    "plt.figure(figsize=(8, 8))\n",
    "quarterly_proportion.plot(kind='pie', autopct='%1.1f%%', colors=['lightblue', 'lightgreen', 'lightcoral', 'lightskyblue'])\n",
    "plt.title('Proportion of Revenue by Quarter')\n",
    "plt.ylabel('')  # Hide the y-label as it's not necessary for a pie chart\n",
    "plt.show()\n",
    "\n"
   ]
  },
  {
   "cell_type": "markdown",
   "metadata": {
    "id": "JncXEPjBLyHp"
   },
   "source": [
    "**3.1.6** <font color = red>[3 marks]</font> <br>\n",
    "Visualise the relationship between `trip_distance` and `fare_amount`. Also find the correlation value for these two.\n",
    "\n",
    "**Hint:** You can leave out the trips with trip_distance = 0"
   ]
  },
  {
   "cell_type": "code",
   "execution_count": 26,
   "metadata": {
    "id": "-z8Fegh_P5At"
   },
   "outputs": [
    {
     "data": {
      "image/png": "[encoded data removed]",
      "text/plain": [
       "<Figure size 1000x600 with 1 Axes>"
      ]
     },
     "metadata": {},
     "output_type": "display_data"
    },
    {
     "name": "stdout",
     "output_type": "stream",
     "text": [
      "Correlation between trip_distance and fare_amount: 0.006048733697723457\n"
     ]
    }
   ],
   "source": [
    "# Show how trip fare is affected by distance\n",
    "import matplotlib.pyplot as plt\n",
    "import seaborn as sns\n",
    "\n",
    "# Removed trips where trip_distance is 0\n",
    "df_filtered = df[df['trip_distance'] > 0]\n",
    "\n",
    "# Visualize the relationship between trip_distance and fare_amount using a scatter plot\n",
    "plt.figure(figsize=(10, 6))\n",
    "sns.scatterplot(x='trip_distance', y='fare_amount', data=df_filtered, color='blue', alpha=0.5)\n",
    "plt.title('Relationship Between Trip Distance and Fare Amount')\n",
    "plt.xlabel('Trip Distance (miles)')\n",
    "plt.ylabel('Fare Amount ($)')\n",
    "plt.show()\n",
    "\n",
    "# Calculate the correlation between trip_distance and fare_amount\n",
    "correlation = df_filtered['trip_distance'].corr(df_filtered['fare_amount'])\n",
    "\n",
    "# Print the correlation value\n",
    "print(f\"Correlation between trip_distance and fare_amount: {correlation}\")\n",
    "\n"
   ]
  },
  {
   "cell_type": "markdown",
   "metadata": {
    "id": "-OGNFTX4QdeS"
   },
   "source": [
    "**3.1.7** <font color = red>[5 marks]</font> <br>\n",
    "Find and visualise the correlation between:\n",
    "1. `fare_amount` and trip duration (pickup time to dropoff time)\n",
    "2. `fare_amount` and `passenger_count`\n",
    "3. `tip_amount` and `trip_distance`"
   ]
  },
  {
   "cell_type": "code",
   "execution_count": 28,
   "metadata": {
    "id": "EtSNqFw19TB3"
   },
   "outputs": [
    {
     "name": "stderr",
     "output_type": "stream",
     "text": [
      "C:\\Users\\aryan\\anaconda3\\Lib\\site-packages\\numpy\\lib\\function_base.py:2897: RuntimeWarning: invalid value encountered in divide\n",
      "  c /= stddev[:, None]\n",
      "C:\\Users\\aryan\\anaconda3\\Lib\\site-packages\\numpy\\lib\\function_base.py:2898: RuntimeWarning: invalid value encountered in divide\n",
      "  c /= stddev[None, :]\n"
     ]
    },
    {
     "name": "stdout",
     "output_type": "stream",
     "text": [
      "Correlation between fare_amount and trip_duration: nan\n",
      "Correlation between fare_amount and passenger_count: 0.5669467095138409\n",
      "Correlation between tip_amount and trip_distance: 0.7242859683401482\n"
     ]
    },
    {
     "data": {
      "image/png": "[encoded data removed]",
      "text/plain": [
       "<Figure size 1500x500 with 3 Axes>"
      ]
     },
     "metadata": {},
     "output_type": "display_data"
    }
   ],
   "source": [
    "# Show relationship between fare and trip duration\n",
    "\n",
    "import pandas as pd\n",
    "import seaborn as sns\n",
    "import matplotlib.pyplot as plt\n",
    "\n",
    "# Sample DataFrame (Replace this with your actual data)\n",
    "df = pd.DataFrame({\n",
    "    'fare_amount': [10, 15, 20, 25, 30],\n",
    "    'pickup_datetime': ['2025-05-01 01:15:00', '2025-05-02 05:45:00', '2025-05-03 14:30:00', '2025-05-04 19:00:00', '2025-05-05 08:30:00'],\n",
    "    'dropoff_datetime': ['2025-05-01 01:45:00', '2025-05-02 06:15:00', '2025-05-03 15:00:00', '2025-05-04 19:30:00', '2025-05-05 09:00:00'],\n",
    "    'passenger_count': [1, 2, 2, 1, 3],\n",
    "    'tip_amount': [2, 3, 4, 5, 6],\n",
    "    'trip_distance': [3.5, 5.0, 7.0, 8.0, 6.0]\n",
    "})\n",
    "\n",
    "# Convert pickup_datetime and dropoff_datetime columns to datetime\n",
    "df['pickup_datetime'] = pd.to_datetime(df['pickup_datetime'])\n",
    "df['dropoff_datetime'] = pd.to_datetime(df['dropoff_datetime'])\n",
    "\n",
    "# Calculate trip duration by subtracting pickup time from dropoff time\n",
    "df['trip_duration'] = (df['dropoff_datetime'] - df['pickup_datetime']).dt.total_seconds() / 60  # Convert to minutes\n",
    "\n",
    "# Find correlation between fare_amount and trip_duration\n",
    "corr_fare_duration = df['fare_amount'].corr(df['trip_duration'])\n",
    "\n",
    "# Find correlation between fare_amount and passenger_count\n",
    "corr_fare_passenger = df['fare_amount'].corr(df['passenger_count'])\n",
    "\n",
    "# Find correlation between tip_amount and trip_distance\n",
    "corr_tip_distance = df['tip_amount'].corr(df['trip_distance'])\n",
    "\n",
    "# Display the correlation values\n",
    "print(f\"Correlation between fare_amount and trip_duration: {corr_fare_duration}\")\n",
    "print(f\"Correlation between fare_amount and passenger_count: {corr_fare_passenger}\")\n",
    "print(f\"Correlation between tip_amount and trip_distance: {corr_tip_distance}\")\n",
    "\n",
    "# Plot the relationships using scatter plots\n",
    "plt.figure(figsize=(15, 5))\n",
    "\n",
    "# Fare amount vs Trip duration\n",
    "plt.subplot(1, 3, 1)\n",
    "sns.scatterplot(x='trip_duration', y='fare_amount', data=df, color='blue')\n",
    "plt.title('Fare Amount vs Trip Duration')\n",
    "plt.xlabel('Trip Duration (minutes)')\n",
    "plt.ylabel('Fare Amount ($)')\n",
    "\n",
    "# Fare amount vs Passenger count\n",
    "plt.subplot(1, 3, 2)\n",
    "sns.scatterplot(x='passenger_count', y='fare_amount', data=df, color='green')\n",
    "plt.title('Fare Amount vs Passenger Count')\n",
    "plt.xlabel('Passenger Count')\n",
    "plt.ylabel('Fare Amount ($)')\n",
    "\n",
    "# Tip amount vs Trip distance\n",
    "plt.subplot(1, 3, 3)\n",
    "sns.scatterplot(x='trip_distance', y='tip_amount', data=df, color='red')\n",
    "plt.title('Tip Amount vs Trip Distance')\n",
    "plt.xlabel('Trip Distance (miles)')\n",
    "plt.ylabel('Tip Amount ($)')\n",
    "\n",
    "# Adjust the layout and show the plots\n",
    "plt.tight_layout()\n",
    "plt.show()\n"
   ]
  },
  {
   "cell_type": "code",
   "execution_count": 30,
   "metadata": {
    "id": "oTrlXiBm9TB3"
   },
   "outputs": [
    {
     "data": {
      "image/png": "[encoded data removed]",
      "text/plain": [
       "<Figure size 800x600 with 1 Axes>"
      ]
     },
     "metadata": {},
     "output_type": "display_data"
    }
   ],
   "source": [
    "# Show relationship between fare and number of passengers\n",
    "import pandas as pd\n",
    "import seaborn as sns\n",
    "import matplotlib.pyplot as plt\n",
    "\n",
    "# Sample DataFrame (replace this with your actual data)\n",
    "df = pd.DataFrame({\n",
    "    'fare_amount': [10, 15, 20, 25, 30],\n",
    "    'passenger_count': [1, 2, 2, 1, 3]\n",
    "})\n",
    "\n",
    "# Visualizing the relationship between fare amount and the number of passengers\n",
    "plt.figure(figsize=(8, 6))\n",
    "sns.scatterplot(x='passenger_count', y='fare_amount', data=df, color='purple')\n",
    "\n",
    "# Adding labels and a title to make the plot clear\n",
    "plt.title('Relationship Between Fare Amount and Number of Passengers')\n",
    "plt.xlabel('Number of Passengers')\n",
    "plt.ylabel('Fare Amount ($)')\n",
    "\n",
    "# Display the plot\n",
    "plt.show()\n",
    "\n"
   ]
  },
  {
   "cell_type": "code",
   "execution_count": 32,
   "metadata": {
    "id": "Lph7rakc9TB3"
   },
   "outputs": [
    {
     "data": {
      "image/png": "[encoded data removed]",
      "text/plain": [
       "<Figure size 800x600 with 1 Axes>"
      ]
     },
     "metadata": {},
     "output_type": "display_data"
    }
   ],
   "source": [
    "# Show relationship between tip and trip distance\n",
    "\n",
    "import pandas as pd\n",
    "import seaborn as sns\n",
    "import matplotlib.pyplot as plt\n",
    "\n",
    "# Sample DataFrame (replace this with your actual data)\n",
    "df = pd.DataFrame({\n",
    "    'tip_amount': [2, 3, 5, 7, 4],\n",
    "    'trip_distance': [3.5, 4.2, 6.1, 8.0, 3.0]\n",
    "})\n",
    "\n",
    "# Visualizing the relationship between tip amount and trip distance\n",
    "plt.figure(figsize=(8, 6))\n",
    "sns.scatterplot(x='trip_distance', y='tip_amount', data=df, color='green')\n",
    "\n",
    "# Adding labels and a title to make the plot clear\n",
    "plt.title('Relationship Between Tip Amount and Trip Distance')\n",
    "plt.xlabel('Trip Distance (miles)')\n",
    "plt.ylabel('Tip Amount ($)')\n",
    "\n",
    "# Display the plot\n",
    "plt.show()\n"
   ]
  },
  {
   "cell_type": "markdown",
   "metadata": {
    "id": "3EL5CU47QJ5u"
   },
   "source": [
    "**3.1.8** <font color = red>[3 marks]</font> <br>\n",
    "Analyse the distribution of different payment types (`payment_type`)"
   ]
  },
  {
   "cell_type": "code",
   "execution_count": 34,
   "metadata": {
    "id": "pknOiYLp9Wnd"
   },
   "outputs": [
    {
     "name": "stderr",
     "output_type": "stream",
     "text": [
      "C:\\Users\\aryan\\AppData\\Local\\Temp\\ipykernel_6300\\3498053986.py:12: FutureWarning: \n",
      "\n",
      "Passing `palette` without assigning `hue` is deprecated and will be removed in v0.14.0. Assign the `x` variable to `hue` and set `legend=False` for the same effect.\n",
      "\n",
      "  sns.countplot(x='payment_type', data=df, palette='Set2')\n"
     ]
    },
    {
     "data": {
      "image/png": "[encoded data removed]",
      "text/plain": [
       "<Figure size 800x600 with 1 Axes>"
      ]
     },
     "metadata": {},
     "output_type": "display_data"
    }
   ],
   "source": [
    "# Analyse the distribution of different payment types (payment_type).\n",
    "\n",
    "import pandas as pd\n",
    "import seaborn as sns\n",
    "import matplotlib.pyplot as plt\n",
    "\n",
    "# Sample data (replace with your actual data)\n",
    "df = pd.DataFrame({'payment_type': ['Cash', 'Card', 'Cash', 'Card', 'Cash']})\n",
    "\n",
    "# Plotting the distribution of payment types\n",
    "plt.figure(figsize=(8, 6))\n",
    "sns.countplot(x='payment_type', data=df, palette='Set2')\n",
    "\n",
    "# Adding a title and labels\n",
    "plt.title('Distribution of Payment Types')\n",
    "plt.xlabel('Payment Type')\n",
    "plt.ylabel('Count')\n",
    "\n",
    "# Display the plot\n",
    "plt.show()\n",
    "\n"
   ]
  },
  {
   "cell_type": "markdown",
   "metadata": {
    "id": "PxxbUmSZ9Wne"
   },
   "source": [
    "- 1= Credit card\n",
    "- 2= Cash\n",
    "- 3= No charge\n",
    "- 4= Dispute\n",
    "\n"
   ]
  },
  {
   "cell_type": "markdown",
   "metadata": {
    "id": "CVXxcSYHj9sh"
   },
   "source": [
    "##### Geographical Analysis"
   ]
  },
  {
   "cell_type": "markdown",
   "metadata": {
    "id": "tvBXuYW7kEyS"
   },
   "source": [
    "For this, you have to use the *taxi_zones.shp* file from the *taxi_zones* folder.\n",
    "\n",
    "There would be multiple files inside the folder (such as *.shx, .sbx, .sbn* etc). You do not need to import/read any of the files other than the shapefile, *taxi_zones.shp*.\n",
    "\n",
    "Do not change any folder structure - all the files need to be present inside the folder for it to work.\n",
    "\n",
    "The folder structure should look like this:\n",
    "```\n",
    "Taxi Zones\n",
    "|- taxi_zones.shp.xml\n",
    "|- taxi_zones.prj\n",
    "|- taxi_zones.sbn\n",
    "|- taxi_zones.shp\n",
    "|- taxi_zones.dbf\n",
    "|- taxi_zones.shx\n",
    "|- taxi_zones.sbx\n",
    "\n",
    " ```\n",
    "\n",
    " You only need to read the `taxi_zones.shp` file. The *shp* file will utilise the other files by itself."
   ]
  },
  {
   "cell_type": "markdown",
   "metadata": {
    "id": "hR8f8ypXUtxJ"
   },
   "source": [
    "We will use the *GeoPandas* library for geopgraphical analysis\n",
    "```\n",
    "import geopandas as gpd\n",
    "```\n",
    "\n",
    "More about geopandas and shapefiles: [About](https://geopandas.org/en/stable/about.html)\n",
    "\n",
    "\n",
    "Reading the shapefile is very similar to *Pandas*. Use `gpd.read_file()` function to load the data (*taxi_zones.shp*) as a GeoDataFrame. Documentation: [Reading and Writing Files](https://geopandas.org/en/stable/docs/user_guide/io.html)"
   ]
  },
  {
   "cell_type": "code",
   "execution_count": 39,
   "metadata": {
    "id": "FJ76QD9IXNz8"
   },
   "outputs": [
    {
     "name": "stdout",
     "output_type": "stream",
     "text": [
      "Collecting geopandas\n",
      "  Downloading geopandas-1.0.1-py3-none-any.whl.metadata (2.2 kB)\n",
      "Requirement already satisfied: numpy>=1.22 in c:\\users\\aryan\\anaconda3\\lib\\site-packages (from geopandas) (1.26.4)\n",
      "Collecting pyogrio>=0.7.2 (from geopandas)\n",
      "  Downloading pyogrio-0.10.0-cp312-cp312-win_amd64.whl.metadata (5.6 kB)\n",
      "Requirement already satisfied: packaging in c:\\users\\aryan\\anaconda3\\lib\\site-packages (from geopandas) (24.1)\n",
      "Requirement already satisfied: pandas>=1.4.0 in c:\\users\\aryan\\anaconda3\\lib\\site-packages (from geopandas) (2.2.2)\n",
      "Collecting pyproj>=3.3.0 (from geopandas)\n",
      "  Downloading pyproj-3.7.1-cp312-cp312-win_amd64.whl.metadata (31 kB)\n",
      "Collecting shapely>=2.0.0 (from geopandas)\n",
      "  Downloading shapely-2.1.0-cp312-cp312-win_amd64.whl.metadata (7.0 kB)\n",
      "Requirement already satisfied: python-dateutil>=2.8.2 in c:\\users\\aryan\\anaconda3\\lib\\site-packages (from pandas>=1.4.0->geopandas) (2.9.0.post0)\n",
      "Requirement already satisfied: pytz>=2020.1 in c:\\users\\aryan\\anaconda3\\lib\\site-packages (from pandas>=1.4.0->geopandas) (2024.1)\n",
      "Requirement already satisfied: tzdata>=2022.7 in c:\\users\\aryan\\anaconda3\\lib\\site-packages (from pandas>=1.4.0->geopandas) (2023.3)\n",
      "Requirement already satisfied: certifi in c:\\users\\aryan\\anaconda3\\lib\\site-packages (from pyogrio>=0.7.2->geopandas) (2024.12.14)\n",
      "Requirement already satisfied: six>=1.5 in c:\\users\\aryan\\anaconda3\\lib\\site-packages (from python-dateutil>=2.8.2->pandas>=1.4.0->geopandas) (1.16.0)\n",
      "Downloading geopandas-1.0.1-py3-none-any.whl (323 kB)\n",
      "Downloading pyogrio-0.10.0-cp312-cp312-win_amd64.whl (16.2 MB)\n",
      "   ---------------------------------------- 0.0/16.2 MB ? eta -:--:--\n",
      "   - -------------------------------------- 0.5/16.2 MB 4.2 MB/s eta 0:00:04\n",
      "   --- ------------------------------------ 1.6/16.2 MB 3.8 MB/s eta 0:00:04\n",
      "   --- ------------------------------------ 1.6/16.2 MB 3.8 MB/s eta 0:00:04\n",
      "   ------- -------------------------------- 3.1/16.2 MB 3.8 MB/s eta 0:00:04\n",
      "   --------- ------------------------------ 3.9/16.2 MB 3.8 MB/s eta 0:00:04\n",
      "   ------------ --------------------------- 5.0/16.2 MB 3.9 MB/s eta 0:00:03\n",
      "   -------------- ------------------------- 5.8/16.2 MB 3.9 MB/s eta 0:00:03\n",
      "   ---------------- ----------------------- 6.6/16.2 MB 3.9 MB/s eta 0:00:03\n",
      "   ------------------ --------------------- 7.3/16.2 MB 3.9 MB/s eta 0:00:03\n",
      "   -------------------- ------------------- 8.1/16.2 MB 3.9 MB/s eta 0:00:03\n",
      "   ---------------------- ----------------- 8.9/16.2 MB 3.9 MB/s eta 0:00:02\n",
      "   ------------------------ --------------- 9.7/16.2 MB 3.9 MB/s eta 0:00:02\n",
      "   ------------------------- -------------- 10.5/16.2 MB 3.9 MB/s eta 0:00:02\n",
      "   --------------------------- ------------ 11.3/16.2 MB 3.9 MB/s eta 0:00:02\n",
      "   ----------------------------- ---------- 12.1/16.2 MB 3.9 MB/s eta 0:00:02\n",
      "   ------------------------------- -------- 12.8/16.2 MB 3.9 MB/s eta 0:00:01\n",
      "   --------------------------------- ------ 13.6/16.2 MB 3.9 MB/s eta 0:00:01\n",
      "   ------------------------------------ --- 14.7/16.2 MB 3.9 MB/s eta 0:00:01\n",
      "   -------------------------------------- - 15.5/16.2 MB 3.9 MB/s eta 0:00:01\n",
      "   ---------------------------------------  16.0/16.2 MB 3.9 MB/s eta 0:00:01\n",
      "   ---------------------------------------- 16.2/16.2 MB 3.9 MB/s eta 0:00:00\n",
      "Downloading pyproj-3.7.1-cp312-cp312-win_amd64.whl (6.3 MB)\n",
      "   ---------------------------------------- 0.0/6.3 MB ? eta -:--:--\n",
      "   ----- ---------------------------------- 0.8/6.3 MB 5.6 MB/s eta 0:00:01\n",
      "   ---------- ----------------------------- 1.6/6.3 MB 4.4 MB/s eta 0:00:02\n",
      "   ---------------- ----------------------- 2.6/6.3 MB 4.2 MB/s eta 0:00:01\n",
      "   --------------------- ------------------ 3.4/6.3 MB 4.1 MB/s eta 0:00:01\n",
      "   -------------------------- ------------- 4.2/6.3 MB 4.1 MB/s eta 0:00:01\n",
      "   ------------------------------- -------- 5.0/6.3 MB 4.1 MB/s eta 0:00:01\n",
      "   ------------------------------------ --- 5.8/6.3 MB 4.0 MB/s eta 0:00:01\n",
      "   ---------------------------------------- 6.3/6.3 MB 3.9 MB/s eta 0:00:00\n",
      "Downloading shapely-2.1.0-cp312-cp312-win_amd64.whl (1.7 MB)\n",
      "   ---------------------------------------- 0.0/1.7 MB ? eta -:--:--\n",
      "   ------------------ --------------------- 0.8/1.7 MB 5.6 MB/s eta 0:00:01\n",
      "   ------------------------------------ --- 1.6/1.7 MB 4.4 MB/s eta 0:00:01\n",
      "   ---------------------------------------- 1.7/1.7 MB 3.9 MB/s eta 0:00:00\n",
      "Installing collected packages: shapely, pyproj, pyogrio, geopandas\n",
      "Successfully installed geopandas-1.0.1 pyogrio-0.10.0 pyproj-3.7.1 shapely-2.1.0\n"
     ]
    }
   ],
   "source": [
    " !pip install geopandas"
   ]
  },
  {
   "cell_type": "markdown",
   "metadata": {
    "id": "q_QpZLl_WU-b"
   },
   "source": [
    "**3.1.9** <font color = red>[2 marks]</font> <br>\n",
    "Load the shapefile and display it."
   ]
  },
  {
   "cell_type": "code",
   "execution_count": 45,
   "metadata": {
    "id": "hLyVd3TQkCdG"
   },
   "outputs": [
    {
     "data": {
      "text/html": [
       "<div>\n",
       "<style scoped>\n",
       "    .dataframe tbody tr th:only-of-type {\n",
       "        vertical-align: middle;\n",
       "    }\n",
       "\n",
       "    .dataframe tbody tr th {\n",
       "        vertical-align: top;\n",
       "    }\n",
       "\n",
       "    .dataframe thead th {\n",
       "        text-align: right;\n",
       "    }\n",
       "</style>\n",
       "<table border=\"1\" class=\"dataframe\">\n",
       "  <thead>\n",
       "    <tr style=\"text-align: right;\">\n",
       "      <th></th>\n",
       "      <th>OBJECTID</th>\n",
       "      <th>Shape_Leng</th>\n",
       "      <th>Shape_Area</th>\n",
       "      <th>zone</th>\n",
       "      <th>LocationID</th>\n",
       "      <th>borough</th>\n",
       "      <th>geometry</th>\n",
       "    </tr>\n",
       "  </thead>\n",
       "  <tbody>\n",
       "    <tr>\n",
       "      <th>0</th>\n",
       "      <td>1</td>\n",
       "      <td>0.116357</td>\n",
       "      <td>0.000782</td>\n",
       "      <td>Newark Airport</td>\n",
       "      <td>1</td>\n",
       "      <td>EWR</td>\n",
       "      <td>POLYGON ((933100.918 192536.086, 933091.011 19...</td>\n",
       "    </tr>\n",
       "    <tr>\n",
       "      <th>1</th>\n",
       "      <td>2</td>\n",
       "      <td>0.433470</td>\n",
       "      <td>0.004866</td>\n",
       "      <td>Jamaica Bay</td>\n",
       "      <td>2</td>\n",
       "      <td>Queens</td>\n",
       "      <td>MULTIPOLYGON (((1033269.244 172126.008, 103343...</td>\n",
       "    </tr>\n",
       "    <tr>\n",
       "      <th>2</th>\n",
       "      <td>3</td>\n",
       "      <td>0.084341</td>\n",
       "      <td>0.000314</td>\n",
       "      <td>Allerton/Pelham Gardens</td>\n",
       "      <td>3</td>\n",
       "      <td>Bronx</td>\n",
       "      <td>POLYGON ((1026308.77 256767.698, 1026495.593 2...</td>\n",
       "    </tr>\n",
       "    <tr>\n",
       "      <th>3</th>\n",
       "      <td>4</td>\n",
       "      <td>0.043567</td>\n",
       "      <td>0.000112</td>\n",
       "      <td>Alphabet City</td>\n",
       "      <td>4</td>\n",
       "      <td>Manhattan</td>\n",
       "      <td>POLYGON ((992073.467 203714.076, 992068.667 20...</td>\n",
       "    </tr>\n",
       "    <tr>\n",
       "      <th>4</th>\n",
       "      <td>5</td>\n",
       "      <td>0.092146</td>\n",
       "      <td>0.000498</td>\n",
       "      <td>Arden Heights</td>\n",
       "      <td>5</td>\n",
       "      <td>Staten Island</td>\n",
       "      <td>POLYGON ((935843.31 144283.336, 936046.565 144...</td>\n",
       "    </tr>\n",
       "  </tbody>\n",
       "</table>\n",
       "</div>"
      ],
      "text/plain": [
       "   OBJECTID  Shape_Leng  Shape_Area                     zone  LocationID  \\\n",
       "0         1    0.116357    0.000782           Newark Airport           1   \n",
       "1         2    0.433470    0.004866              Jamaica Bay           2   \n",
       "2         3    0.084341    0.000314  Allerton/Pelham Gardens           3   \n",
       "3         4    0.043567    0.000112            Alphabet City           4   \n",
       "4         5    0.092146    0.000498            Arden Heights           5   \n",
       "\n",
       "         borough                                           geometry  \n",
       "0            EWR  POLYGON ((933100.918 192536.086, 933091.011 19...  \n",
       "1         Queens  MULTIPOLYGON (((1033269.244 172126.008, 103343...  \n",
       "2          Bronx  POLYGON ((1026308.77 256767.698, 1026495.593 2...  \n",
       "3      Manhattan  POLYGON ((992073.467 203714.076, 992068.667 20...  \n",
       "4  Staten Island  POLYGON ((935843.31 144283.336, 936046.565 144...  "
      ]
     },
     "execution_count": 45,
     "metadata": {},
     "output_type": "execute_result"
    }
   ],
   "source": [
    "import geopandas as gpd\n",
    "\n",
    "\n",
    "# Read the shapefile using geopandas\n",
    "zones = gpd.read_file(r'C:\\Users\\aryan\\Downloads\\Datasets and Dictionary\\taxi_zones\\taxi_zones.shp')\n",
    "zones.head()"
   ]
  },
  {
   "cell_type": "markdown",
   "metadata": {
    "id": "8YXJMzRoWxeg"
   },
   "source": [
    "Now, if you look at the DataFrame created, you will see columns like: `OBJECTID`,`Shape_Leng`, `Shape_Area`, `zone`, `LocationID`, `borough`, `geometry`.\n",
    "<br><br>\n",
    "\n",
    "Now, the `locationID` here is also what we are using to mark pickup and drop zones in the trip records.\n",
    "\n",
    "The geometric parameters like shape length, shape area and geometry are used to plot the zones on a map.\n",
    "\n",
    "This can be easily done using the `plot()` method."
   ]
  },
  {
   "cell_type": "code",
   "execution_count": 49,
   "metadata": {
    "id": "lTqdZChLYE6H"
   },
   "outputs": [
    {
     "name": "stdout",
     "output_type": "stream",
     "text": [
      "<class 'geopandas.geodataframe.GeoDataFrame'>\n",
      "RangeIndex: 263 entries, 0 to 262\n",
      "Data columns (total 7 columns):\n",
      " #   Column      Non-Null Count  Dtype   \n",
      "---  ------      --------------  -----   \n",
      " 0   OBJECTID    263 non-null    int32   \n",
      " 1   Shape_Leng  263 non-null    float64 \n",
      " 2   Shape_Area  263 non-null    float64 \n",
      " 3   zone        263 non-null    object  \n",
      " 4   LocationID  263 non-null    int32   \n",
      " 5   borough     263 non-null    object  \n",
      " 6   geometry    263 non-null    geometry\n",
      "dtypes: float64(2), geometry(1), int32(2), object(2)\n",
      "memory usage: 12.5+ KB\n",
      "None\n"
     ]
    },
    {
     "data": {
      "text/plain": [
       "<Axes: >"
      ]
     },
     "execution_count": 49,
     "metadata": {},
     "output_type": "execute_result"
    },
    {
     "data": {
      "image/png": "[encoded data removed]",
      "text/plain": [
       "<Figure size 640x480 with 1 Axes>"
      ]
     },
     "metadata": {},
     "output_type": "display_data"
    }
   ],
   "source": [
    "print(zones.info())\n",
    "zones.plot()"
   ]
  },
  {
   "cell_type": "markdown",
   "metadata": {
    "id": "fBkWokLIY_BH"
   },
   "source": [
    "Now, you have to merge the trip records and zones data using the location IDs.\n",
    "\n"
   ]
  },
  {
   "cell_type": "markdown",
   "metadata": {
    "id": "YzUMLUjqaJLN"
   },
   "source": [
    "**3.1.10** <font color = red>[3 marks]</font> <br>\n",
    "Merge the zones data into trip data using the `locationID` and `PULocationID` columns."
   ]
  },
  {
   "cell_type": "code",
   "execution_count": 57,
   "metadata": {
    "id": "A2L8hWMQaYkX"
   },
   "outputs": [
    {
     "name": "stdout",
     "output_type": "stream",
     "text": [
      "Index(['payment_type'], dtype='object')\n",
      "Index(['OBJECTID', 'Shape_Leng', 'Shape_Area', 'zone', 'LocationID', 'borough',\n",
      "       'geometry'],\n",
      "      dtype='object')\n"
     ]
    },
    {
     "ename": "KeyError",
     "evalue": "'PULocationID'",
     "output_type": "error",
     "traceback": [
      "\u001b[1;31m---------------------------------------------------------------------------\u001b[0m",
      "\u001b[1;31mKeyError\u001b[0m                                  Traceback (most recent call last)",
      "\u001b[1;32m~\\AppData\\Local\\Temp\\ipykernel_6300\\2363906487.py\u001b[0m in \u001b[0;36m?\u001b[1;34m()\u001b[0m\n\u001b[0;32m      4\u001b[0m \u001b[0mprint\u001b[0m\u001b[1;33m(\u001b[0m\u001b[0mdf\u001b[0m\u001b[1;33m.\u001b[0m\u001b[0mcolumns\u001b[0m\u001b[1;33m)\u001b[0m  \u001b[1;31m# Check columns in df DataFrame\u001b[0m\u001b[1;33m\u001b[0m\u001b[1;33m\u001b[0m\u001b[0m\n\u001b[0;32m      5\u001b[0m \u001b[0mprint\u001b[0m\u001b[1;33m(\u001b[0m\u001b[0mzones\u001b[0m\u001b[1;33m.\u001b[0m\u001b[0mcolumns\u001b[0m\u001b[1;33m)\u001b[0m  \u001b[1;31m# Check columns in zones DataFrame\u001b[0m\u001b[1;33m\u001b[0m\u001b[1;33m\u001b[0m\u001b[0m\n\u001b[0;32m      6\u001b[0m \u001b[1;33m\u001b[0m\u001b[0m\n\u001b[0;32m      7\u001b[0m \u001b[1;31m# Merge the df and zones DataFrame based on PULocationID and LocationID\u001b[0m\u001b[1;33m\u001b[0m\u001b[1;33m\u001b[0m\u001b[0m\n\u001b[1;32m----> 8\u001b[1;33m \u001b[0mdf\u001b[0m \u001b[1;33m=\u001b[0m \u001b[0mpd\u001b[0m\u001b[1;33m.\u001b[0m\u001b[0mmerge\u001b[0m\u001b[1;33m(\u001b[0m\u001b[0mleft\u001b[0m\u001b[1;33m=\u001b[0m\u001b[0mdf\u001b[0m\u001b[1;33m,\u001b[0m \u001b[0mright\u001b[0m\u001b[1;33m=\u001b[0m\u001b[0mzones\u001b[0m\u001b[1;33m,\u001b[0m \u001b[0mhow\u001b[0m\u001b[1;33m=\u001b[0m\u001b[1;34m'left'\u001b[0m\u001b[1;33m,\u001b[0m \u001b[0mleft_on\u001b[0m\u001b[1;33m=\u001b[0m\u001b[1;34m'PULocationID'\u001b[0m\u001b[1;33m,\u001b[0m \u001b[0mright_on\u001b[0m\u001b[1;33m=\u001b[0m\u001b[1;34m'LocationID'\u001b[0m\u001b[1;33m)\u001b[0m\u001b[1;33m\u001b[0m\u001b[1;33m\u001b[0m\u001b[0m\n\u001b[0m\u001b[0;32m      9\u001b[0m \u001b[1;33m\u001b[0m\u001b[0m\n\u001b[0;32m     10\u001b[0m \u001b[1;31m# Display the first few rows of the merged DataFrame\u001b[0m\u001b[1;33m\u001b[0m\u001b[1;33m\u001b[0m\u001b[0m\n\u001b[0;32m     11\u001b[0m \u001b[0mprint\u001b[0m\u001b[1;33m(\u001b[0m\u001b[0mdf\u001b[0m\u001b[1;33m.\u001b[0m\u001b[0mhead\u001b[0m\u001b[1;33m(\u001b[0m\u001b[1;33m)\u001b[0m\u001b[1;33m)\u001b[0m\u001b[1;33m\u001b[0m\u001b[1;33m\u001b[0m\u001b[0m\n",
      "\u001b[1;32m~\\anaconda3\\Lib\\site-packages\\pandas\\core\\reshape\\merge.py\u001b[0m in \u001b[0;36m?\u001b[1;34m(left, right, how, on, left_on, right_on, left_index, right_index, sort, suffixes, copy, indicator, validate)\u001b[0m\n\u001b[0;32m    166\u001b[0m             \u001b[0mvalidate\u001b[0m\u001b[1;33m=\u001b[0m\u001b[0mvalidate\u001b[0m\u001b[1;33m,\u001b[0m\u001b[1;33m\u001b[0m\u001b[1;33m\u001b[0m\u001b[0m\n\u001b[0;32m    167\u001b[0m             \u001b[0mcopy\u001b[0m\u001b[1;33m=\u001b[0m\u001b[0mcopy\u001b[0m\u001b[1;33m,\u001b[0m\u001b[1;33m\u001b[0m\u001b[1;33m\u001b[0m\u001b[0m\n\u001b[0;32m    168\u001b[0m         \u001b[1;33m)\u001b[0m\u001b[1;33m\u001b[0m\u001b[1;33m\u001b[0m\u001b[0m\n\u001b[0;32m    169\u001b[0m     \u001b[1;32melse\u001b[0m\u001b[1;33m:\u001b[0m\u001b[1;33m\u001b[0m\u001b[1;33m\u001b[0m\u001b[0m\n\u001b[1;32m--> 170\u001b[1;33m         op = _MergeOperation(\n\u001b[0m\u001b[0;32m    171\u001b[0m             \u001b[0mleft_df\u001b[0m\u001b[1;33m,\u001b[0m\u001b[1;33m\u001b[0m\u001b[1;33m\u001b[0m\u001b[0m\n\u001b[0;32m    172\u001b[0m             \u001b[0mright_df\u001b[0m\u001b[1;33m,\u001b[0m\u001b[1;33m\u001b[0m\u001b[1;33m\u001b[0m\u001b[0m\n\u001b[0;32m    173\u001b[0m             \u001b[0mhow\u001b[0m\u001b[1;33m=\u001b[0m\u001b[0mhow\u001b[0m\u001b[1;33m,\u001b[0m\u001b[1;33m\u001b[0m\u001b[1;33m\u001b[0m\u001b[0m\n",
      "\u001b[1;32m~\\anaconda3\\Lib\\site-packages\\pandas\\core\\reshape\\merge.py\u001b[0m in \u001b[0;36m?\u001b[1;34m(self, left, right, how, on, left_on, right_on, left_index, right_index, sort, suffixes, indicator, validate)\u001b[0m\n\u001b[0;32m    790\u001b[0m             \u001b[0mself\u001b[0m\u001b[1;33m.\u001b[0m\u001b[0mright_join_keys\u001b[0m\u001b[1;33m,\u001b[0m\u001b[1;33m\u001b[0m\u001b[1;33m\u001b[0m\u001b[0m\n\u001b[0;32m    791\u001b[0m             \u001b[0mself\u001b[0m\u001b[1;33m.\u001b[0m\u001b[0mjoin_names\u001b[0m\u001b[1;33m,\u001b[0m\u001b[1;33m\u001b[0m\u001b[1;33m\u001b[0m\u001b[0m\n\u001b[0;32m    792\u001b[0m             \u001b[0mleft_drop\u001b[0m\u001b[1;33m,\u001b[0m\u001b[1;33m\u001b[0m\u001b[1;33m\u001b[0m\u001b[0m\n\u001b[0;32m    793\u001b[0m             \u001b[0mright_drop\u001b[0m\u001b[1;33m,\u001b[0m\u001b[1;33m\u001b[0m\u001b[1;33m\u001b[0m\u001b[0m\n\u001b[1;32m--> 794\u001b[1;33m         \u001b[1;33m)\u001b[0m \u001b[1;33m=\u001b[0m \u001b[0mself\u001b[0m\u001b[1;33m.\u001b[0m\u001b[0m_get_merge_keys\u001b[0m\u001b[1;33m(\u001b[0m\u001b[1;33m)\u001b[0m\u001b[1;33m\u001b[0m\u001b[1;33m\u001b[0m\u001b[0m\n\u001b[0m\u001b[0;32m    795\u001b[0m \u001b[1;33m\u001b[0m\u001b[0m\n\u001b[0;32m    796\u001b[0m         \u001b[1;32mif\u001b[0m \u001b[0mleft_drop\u001b[0m\u001b[1;33m:\u001b[0m\u001b[1;33m\u001b[0m\u001b[1;33m\u001b[0m\u001b[0m\n\u001b[0;32m    797\u001b[0m             \u001b[0mself\u001b[0m\u001b[1;33m.\u001b[0m\u001b[0mleft\u001b[0m \u001b[1;33m=\u001b[0m \u001b[0mself\u001b[0m\u001b[1;33m.\u001b[0m\u001b[0mleft\u001b[0m\u001b[1;33m.\u001b[0m\u001b[0m_drop_labels_or_levels\u001b[0m\u001b[1;33m(\u001b[0m\u001b[0mleft_drop\u001b[0m\u001b[1;33m)\u001b[0m\u001b[1;33m\u001b[0m\u001b[1;33m\u001b[0m\u001b[0m\n",
      "\u001b[1;32m~\\anaconda3\\Lib\\site-packages\\pandas\\core\\reshape\\merge.py\u001b[0m in \u001b[0;36m?\u001b[1;34m(self)\u001b[0m\n\u001b[0;32m   1306\u001b[0m                     \u001b[1;32mif\u001b[0m \u001b[0mlk\u001b[0m \u001b[1;32mis\u001b[0m \u001b[1;32mnot\u001b[0m \u001b[1;32mNone\u001b[0m\u001b[1;33m:\u001b[0m\u001b[1;33m\u001b[0m\u001b[1;33m\u001b[0m\u001b[0m\n\u001b[0;32m   1307\u001b[0m                         \u001b[1;31m# Then we're either Hashable or a wrong-length arraylike,\u001b[0m\u001b[1;33m\u001b[0m\u001b[1;33m\u001b[0m\u001b[0m\n\u001b[0;32m   1308\u001b[0m                         \u001b[1;31m#  the latter of which will raise\u001b[0m\u001b[1;33m\u001b[0m\u001b[1;33m\u001b[0m\u001b[0m\n\u001b[0;32m   1309\u001b[0m                         \u001b[0mlk\u001b[0m \u001b[1;33m=\u001b[0m \u001b[0mcast\u001b[0m\u001b[1;33m(\u001b[0m\u001b[0mHashable\u001b[0m\u001b[1;33m,\u001b[0m \u001b[0mlk\u001b[0m\u001b[1;33m)\u001b[0m\u001b[1;33m\u001b[0m\u001b[1;33m\u001b[0m\u001b[0m\n\u001b[1;32m-> 1310\u001b[1;33m                         \u001b[0mleft_keys\u001b[0m\u001b[1;33m.\u001b[0m\u001b[0mappend\u001b[0m\u001b[1;33m(\u001b[0m\u001b[0mleft\u001b[0m\u001b[1;33m.\u001b[0m\u001b[0m_get_label_or_level_values\u001b[0m\u001b[1;33m(\u001b[0m\u001b[0mlk\u001b[0m\u001b[1;33m)\u001b[0m\u001b[1;33m)\u001b[0m\u001b[1;33m\u001b[0m\u001b[1;33m\u001b[0m\u001b[0m\n\u001b[0m\u001b[0;32m   1311\u001b[0m                         \u001b[0mjoin_names\u001b[0m\u001b[1;33m.\u001b[0m\u001b[0mappend\u001b[0m\u001b[1;33m(\u001b[0m\u001b[0mlk\u001b[0m\u001b[1;33m)\u001b[0m\u001b[1;33m\u001b[0m\u001b[1;33m\u001b[0m\u001b[0m\n\u001b[0;32m   1312\u001b[0m                     \u001b[1;32melse\u001b[0m\u001b[1;33m:\u001b[0m\u001b[1;33m\u001b[0m\u001b[1;33m\u001b[0m\u001b[0m\n\u001b[0;32m   1313\u001b[0m                         \u001b[1;31m# work-around for merge_asof(left_index=True)\u001b[0m\u001b[1;33m\u001b[0m\u001b[1;33m\u001b[0m\u001b[0m\n",
      "\u001b[1;32m~\\anaconda3\\Lib\\site-packages\\pandas\\core\\generic.py\u001b[0m in \u001b[0;36m?\u001b[1;34m(self, key, axis)\u001b[0m\n\u001b[0;32m   1907\u001b[0m             \u001b[0mvalues\u001b[0m \u001b[1;33m=\u001b[0m \u001b[0mself\u001b[0m\u001b[1;33m.\u001b[0m\u001b[0mxs\u001b[0m\u001b[1;33m(\u001b[0m\u001b[0mkey\u001b[0m\u001b[1;33m,\u001b[0m \u001b[0maxis\u001b[0m\u001b[1;33m=\u001b[0m\u001b[0mother_axes\u001b[0m\u001b[1;33m[\u001b[0m\u001b[1;36m0\u001b[0m\u001b[1;33m]\u001b[0m\u001b[1;33m)\u001b[0m\u001b[1;33m.\u001b[0m\u001b[0m_values\u001b[0m\u001b[1;33m\u001b[0m\u001b[1;33m\u001b[0m\u001b[0m\n\u001b[0;32m   1908\u001b[0m         \u001b[1;32melif\u001b[0m \u001b[0mself\u001b[0m\u001b[1;33m.\u001b[0m\u001b[0m_is_level_reference\u001b[0m\u001b[1;33m(\u001b[0m\u001b[0mkey\u001b[0m\u001b[1;33m,\u001b[0m \u001b[0maxis\u001b[0m\u001b[1;33m=\u001b[0m\u001b[0maxis\u001b[0m\u001b[1;33m)\u001b[0m\u001b[1;33m:\u001b[0m\u001b[1;33m\u001b[0m\u001b[1;33m\u001b[0m\u001b[0m\n\u001b[0;32m   1909\u001b[0m             \u001b[0mvalues\u001b[0m \u001b[1;33m=\u001b[0m \u001b[0mself\u001b[0m\u001b[1;33m.\u001b[0m\u001b[0maxes\u001b[0m\u001b[1;33m[\u001b[0m\u001b[0maxis\u001b[0m\u001b[1;33m]\u001b[0m\u001b[1;33m.\u001b[0m\u001b[0mget_level_values\u001b[0m\u001b[1;33m(\u001b[0m\u001b[0mkey\u001b[0m\u001b[1;33m)\u001b[0m\u001b[1;33m.\u001b[0m\u001b[0m_values\u001b[0m\u001b[1;33m\u001b[0m\u001b[1;33m\u001b[0m\u001b[0m\n\u001b[0;32m   1910\u001b[0m         \u001b[1;32melse\u001b[0m\u001b[1;33m:\u001b[0m\u001b[1;33m\u001b[0m\u001b[1;33m\u001b[0m\u001b[0m\n\u001b[1;32m-> 1911\u001b[1;33m             \u001b[1;32mraise\u001b[0m \u001b[0mKeyError\u001b[0m\u001b[1;33m(\u001b[0m\u001b[0mkey\u001b[0m\u001b[1;33m)\u001b[0m\u001b[1;33m\u001b[0m\u001b[1;33m\u001b[0m\u001b[0m\n\u001b[0m\u001b[0;32m   1912\u001b[0m \u001b[1;33m\u001b[0m\u001b[0m\n\u001b[0;32m   1913\u001b[0m         \u001b[1;31m# Check for duplicates\u001b[0m\u001b[1;33m\u001b[0m\u001b[1;33m\u001b[0m\u001b[0m\n\u001b[0;32m   1914\u001b[0m         \u001b[1;32mif\u001b[0m \u001b[0mvalues\u001b[0m\u001b[1;33m.\u001b[0m\u001b[0mndim\u001b[0m \u001b[1;33m>\u001b[0m \u001b[1;36m1\u001b[0m\u001b[1;33m:\u001b[0m\u001b[1;33m\u001b[0m\u001b[1;33m\u001b[0m\u001b[0m\n",
      "\u001b[1;31mKeyError\u001b[0m: 'PULocationID'"
     ]
    }
   ],
   "source": [
    "# Merge zones and trip records using locationID and PULocationID\n",
    "\n",
    "# Check the column names of both DataFrames\n",
    "print(df.columns)  # Check columns in df DataFrame\n",
    "print(zones.columns)  # Check columns in zones DataFrame\n",
    "\n",
    "# Merge the df and zones DataFrame based on PULocationID and LocationID\n",
    "df = pd.merge(left=df, right=zones, how='left', left_on='PULocationID', right_on='LocationID')\n",
    "\n",
    "# Display the first few rows of the merged DataFrame\n",
    "print(df.head())\n",
    "\n",
    "\n"
   ]
  },
  {
   "cell_type": "markdown",
   "metadata": {
    "id": "9CYc36Weai5-"
   },
   "source": [
    "**3.1.11** <font color = red>[3 marks]</font> <br>\n",
    "Group data by location IDs to find the total number of trips per location ID"
   ]
  },
  {
   "cell_type": "code",
   "execution_count": 64,
   "metadata": {
    "id": "XpTIaPSSbwZZ"
   },
   "outputs": [
    {
     "ename": "KeyError",
     "evalue": "'LocationID'",
     "output_type": "error",
     "traceback": [
      "\u001b[1;31m---------------------------------------------------------------------------\u001b[0m",
      "\u001b[1;31mKeyError\u001b[0m                                  Traceback (most recent call last)",
      "Cell \u001b[1;32mIn[64], line 3\u001b[0m\n\u001b[0;32m      1\u001b[0m \u001b[38;5;66;03m# Group data by location and calculate the number of trips\u001b[39;00m\n\u001b[1;32m----> 3\u001b[0m trip_count \u001b[38;5;241m=\u001b[39m df\u001b[38;5;241m.\u001b[39mgroupby(\u001b[38;5;124m\"\u001b[39m\u001b[38;5;124mLocationID\u001b[39m\u001b[38;5;124m\"\u001b[39m)\u001b[38;5;241m.\u001b[39msize()\u001b[38;5;241m.\u001b[39mreset_index(name\u001b[38;5;241m=\u001b[39m\u001b[38;5;124m\"\u001b[39m\u001b[38;5;124mtrip_count\u001b[39m\u001b[38;5;124m\"\u001b[39m)\n\u001b[0;32m      4\u001b[0m \u001b[38;5;28mprint\u001b[39m(trip_count)\n",
      "File \u001b[1;32m~\\anaconda3\\Lib\\site-packages\\pandas\\core\\frame.py:9183\u001b[0m, in \u001b[0;36mDataFrame.groupby\u001b[1;34m(self, by, axis, level, as_index, sort, group_keys, observed, dropna)\u001b[0m\n\u001b[0;32m   9180\u001b[0m \u001b[38;5;28;01mif\u001b[39;00m level \u001b[38;5;129;01mis\u001b[39;00m \u001b[38;5;28;01mNone\u001b[39;00m \u001b[38;5;129;01mand\u001b[39;00m by \u001b[38;5;129;01mis\u001b[39;00m \u001b[38;5;28;01mNone\u001b[39;00m:\n\u001b[0;32m   9181\u001b[0m     \u001b[38;5;28;01mraise\u001b[39;00m \u001b[38;5;167;01mTypeError\u001b[39;00m(\u001b[38;5;124m\"\u001b[39m\u001b[38;5;124mYou have to supply one of \u001b[39m\u001b[38;5;124m'\u001b[39m\u001b[38;5;124mby\u001b[39m\u001b[38;5;124m'\u001b[39m\u001b[38;5;124m and \u001b[39m\u001b[38;5;124m'\u001b[39m\u001b[38;5;124mlevel\u001b[39m\u001b[38;5;124m'\u001b[39m\u001b[38;5;124m\"\u001b[39m)\n\u001b[1;32m-> 9183\u001b[0m \u001b[38;5;28;01mreturn\u001b[39;00m DataFrameGroupBy(\n\u001b[0;32m   9184\u001b[0m     obj\u001b[38;5;241m=\u001b[39m\u001b[38;5;28mself\u001b[39m,\n\u001b[0;32m   9185\u001b[0m     keys\u001b[38;5;241m=\u001b[39mby,\n\u001b[0;32m   9186\u001b[0m     axis\u001b[38;5;241m=\u001b[39maxis,\n\u001b[0;32m   9187\u001b[0m     level\u001b[38;5;241m=\u001b[39mlevel,\n\u001b[0;32m   9188\u001b[0m     as_index\u001b[38;5;241m=\u001b[39mas_index,\n\u001b[0;32m   9189\u001b[0m     sort\u001b[38;5;241m=\u001b[39msort,\n\u001b[0;32m   9190\u001b[0m     group_keys\u001b[38;5;241m=\u001b[39mgroup_keys,\n\u001b[0;32m   9191\u001b[0m     observed\u001b[38;5;241m=\u001b[39mobserved,\n\u001b[0;32m   9192\u001b[0m     dropna\u001b[38;5;241m=\u001b[39mdropna,\n\u001b[0;32m   9193\u001b[0m )\n",
      "File \u001b[1;32m~\\anaconda3\\Lib\\site-packages\\pandas\\core\\groupby\\groupby.py:1329\u001b[0m, in \u001b[0;36mGroupBy.__init__\u001b[1;34m(self, obj, keys, axis, level, grouper, exclusions, selection, as_index, sort, group_keys, observed, dropna)\u001b[0m\n\u001b[0;32m   1326\u001b[0m \u001b[38;5;28mself\u001b[39m\u001b[38;5;241m.\u001b[39mdropna \u001b[38;5;241m=\u001b[39m dropna\n\u001b[0;32m   1328\u001b[0m \u001b[38;5;28;01mif\u001b[39;00m grouper \u001b[38;5;129;01mis\u001b[39;00m \u001b[38;5;28;01mNone\u001b[39;00m:\n\u001b[1;32m-> 1329\u001b[0m     grouper, exclusions, obj \u001b[38;5;241m=\u001b[39m get_grouper(\n\u001b[0;32m   1330\u001b[0m         obj,\n\u001b[0;32m   1331\u001b[0m         keys,\n\u001b[0;32m   1332\u001b[0m         axis\u001b[38;5;241m=\u001b[39maxis,\n\u001b[0;32m   1333\u001b[0m         level\u001b[38;5;241m=\u001b[39mlevel,\n\u001b[0;32m   1334\u001b[0m         sort\u001b[38;5;241m=\u001b[39msort,\n\u001b[0;32m   1335\u001b[0m         observed\u001b[38;5;241m=\u001b[39m\u001b[38;5;28;01mFalse\u001b[39;00m \u001b[38;5;28;01mif\u001b[39;00m observed \u001b[38;5;129;01mis\u001b[39;00m lib\u001b[38;5;241m.\u001b[39mno_default \u001b[38;5;28;01melse\u001b[39;00m observed,\n\u001b[0;32m   1336\u001b[0m         dropna\u001b[38;5;241m=\u001b[39m\u001b[38;5;28mself\u001b[39m\u001b[38;5;241m.\u001b[39mdropna,\n\u001b[0;32m   1337\u001b[0m     )\n\u001b[0;32m   1339\u001b[0m \u001b[38;5;28;01mif\u001b[39;00m observed \u001b[38;5;129;01mis\u001b[39;00m lib\u001b[38;5;241m.\u001b[39mno_default:\n\u001b[0;32m   1340\u001b[0m     \u001b[38;5;28;01mif\u001b[39;00m \u001b[38;5;28many\u001b[39m(ping\u001b[38;5;241m.\u001b[39m_passed_categorical \u001b[38;5;28;01mfor\u001b[39;00m ping \u001b[38;5;129;01min\u001b[39;00m grouper\u001b[38;5;241m.\u001b[39mgroupings):\n",
      "File \u001b[1;32m~\\anaconda3\\Lib\\site-packages\\pandas\\core\\groupby\\grouper.py:1043\u001b[0m, in \u001b[0;36mget_grouper\u001b[1;34m(obj, key, axis, level, sort, observed, validate, dropna)\u001b[0m\n\u001b[0;32m   1041\u001b[0m         in_axis, level, gpr \u001b[38;5;241m=\u001b[39m \u001b[38;5;28;01mFalse\u001b[39;00m, gpr, \u001b[38;5;28;01mNone\u001b[39;00m\n\u001b[0;32m   1042\u001b[0m     \u001b[38;5;28;01melse\u001b[39;00m:\n\u001b[1;32m-> 1043\u001b[0m         \u001b[38;5;28;01mraise\u001b[39;00m \u001b[38;5;167;01mKeyError\u001b[39;00m(gpr)\n\u001b[0;32m   1044\u001b[0m \u001b[38;5;28;01melif\u001b[39;00m \u001b[38;5;28misinstance\u001b[39m(gpr, Grouper) \u001b[38;5;129;01mand\u001b[39;00m gpr\u001b[38;5;241m.\u001b[39mkey \u001b[38;5;129;01mis\u001b[39;00m \u001b[38;5;129;01mnot\u001b[39;00m \u001b[38;5;28;01mNone\u001b[39;00m:\n\u001b[0;32m   1045\u001b[0m     \u001b[38;5;66;03m# Add key to exclusions\u001b[39;00m\n\u001b[0;32m   1046\u001b[0m     exclusions\u001b[38;5;241m.\u001b[39madd(gpr\u001b[38;5;241m.\u001b[39mkey)\n",
      "\u001b[1;31mKeyError\u001b[0m: 'LocationID'"
     ]
    }
   ],
   "source": [
    "# Group data by location and calculate the number of trips\n",
    "\n",
    "trip_count = df.groupby(\"LocationID\").size().reset_index(name=\"trip_count\")\n",
    "print(trip_count)\n"
   ]
  },
  {
   "cell_type": "markdown",
   "metadata": {
    "id": "As0dVJpdcK2_"
   },
   "source": [
    "**3.1.12** <font color = red>[2 marks]</font> <br>\n",
    "Now, use the grouped data to add number of trips to the GeoDataFrame.\n",
    "\n",
    "We will use this to plot a map of zones showing total trips per zone."
   ]
  },
  {
   "cell_type": "code",
   "execution_count": 66,
   "metadata": {
    "id": "H9Sheg7vdZ6q"
   },
   "outputs": [
    {
     "ename": "NameError",
     "evalue": "name 'trip_count' is not defined",
     "output_type": "error",
     "traceback": [
      "\u001b[1;31m---------------------------------------------------------------------------\u001b[0m",
      "\u001b[1;31mNameError\u001b[0m                                 Traceback (most recent call last)",
      "Cell \u001b[1;32mIn[66], line 2\u001b[0m\n\u001b[0;32m      1\u001b[0m \u001b[38;5;66;03m# Merge trip counts back to the zones GeoDataFrame\u001b[39;00m\n\u001b[1;32m----> 2\u001b[0m zones\u001b[38;5;241m=\u001b[39mpd\u001b[38;5;241m.\u001b[39mmerge(left\u001b[38;5;241m=\u001b[39mtrip_count,right\u001b[38;5;241m=\u001b[39mzones, how\u001b[38;5;241m=\u001b[39m\u001b[38;5;124m'\u001b[39m\u001b[38;5;124mleft\u001b[39m\u001b[38;5;124m'\u001b[39m, left_on\u001b[38;5;241m=\u001b[39m\u001b[38;5;124m'\u001b[39m\u001b[38;5;124mLocationID\u001b[39m\u001b[38;5;124m'\u001b[39m, right_on\u001b[38;5;241m=\u001b[39m\u001b[38;5;124m'\u001b[39m\u001b[38;5;124mLocationID\u001b[39m\u001b[38;5;124m'\u001b[39m)\n\u001b[0;32m      3\u001b[0m zones\u001b[38;5;241m.\u001b[39mhead()\n",
      "\u001b[1;31mNameError\u001b[0m: name 'trip_count' is not defined"
     ]
    }
   ],
   "source": [
    "# Merge trip counts back to the zones GeoDataFrame\n",
    "zones=pd.merge(left=trip_count,right=zones, how='left', left_on='LocationID', right_on='LocationID')\n",
    "zones.head()\n",
    "\n"
   ]
  },
  {
   "cell_type": "markdown",
   "metadata": {
    "id": "DsfomL6Od0_R"
   },
   "source": [
    "The next step is creating a color map (choropleth map) showing zones by the number of trips taken.\n",
    "\n",
    "Again, you can use the `zones.plot()` method for this. [Plot Method GPD](https://geopandas.org/en/stable/docs/reference/api/geopandas.GeoDataFrame.plot.html#geopandas.GeoDataFrame.plot)\n",
    "\n",
    "But first, you need to define the figure and axis for the plot.\n",
    "\n",
    "`fig, ax = plt.subplots(1, 1, figsize = (12, 10))`\n",
    "\n",
    "This function creates a figure (fig) and a single subplot (ax)\n",
    "\n",
    "---"
   ]
  },
  {
   "cell_type": "markdown",
   "metadata": {
    "id": "QgDcw8gUejVk"
   },
   "source": [
    "After setting up the figure and axis, we can proceed to plot the GeoDataFrame on this axis. This is done in the next step where we use the plot method of the GeoDataFrame.\n",
    "\n",
    "You can define the following parameters in the `zones.plot()` method:\n",
    "```\n",
    "column = '',\n",
    "ax = ax,\n",
    "legend = True,\n",
    "legend_kwds = {'label': \"label\", 'orientation': \"<horizontal/vertical>\"}\n",
    "```\n",
    "\n",
    "To display the plot, use `plt.show()`."
   ]
  },
  {
   "cell_type": "markdown",
   "metadata": {
    "id": "xFQmkJipfU1P"
   },
   "source": [
    "**3.1.13** <font color = red>[3 marks]</font> <br>\n",
    "Plot a color-coded map showing zone-wise trips"
   ]
  },
  {
   "cell_type": "code",
   "execution_count": 7,
   "metadata": {
    "id": "i506kVTgefM5"
   },
   "outputs": [],
   "source": [
    "# Define figure and axis\n",
    "\n",
    "# Plot the map and display it\n",
    "\n"
   ]
  },
  {
   "cell_type": "code",
   "execution_count": null,
   "metadata": {
    "id": "gwDs7OaBSopP"
   },
   "outputs": [],
   "source": [
    "# can you try displaying the zones DF sorted by the number of trips?\n",
    "\n"
   ]
  },
  {
   "cell_type": "markdown",
   "metadata": {
    "id": "T1bE7-QbgSrZ"
   },
   "source": [
    "Here we have completed the temporal, financial and geographical analysis on the trip records.\n",
    "\n",
    "**Compile your findings from general analysis below:**"
   ]
  },
  {
   "cell_type": "markdown",
   "metadata": {
    "id": "7YiVFIX3gcL3"
   },
   "source": [
    "You can consider the following points:\n",
    "\n",
    "* Busiest hours, days and months\n",
    "* Trends in revenue collected\n",
    "* Trends in quarterly revenue\n",
    "* How fare depends on trip distance, trip duration and passenger counts\n",
    "* How tip amount depends on trip distance\n",
    "* Busiest zones\n"
   ]
  },
  {
   "cell_type": "markdown",
   "metadata": {
    "id": "Rv0oYLcbhOTU"
   },
   "source": [
    "#### **3.2** Detailed EDA: Insights and Strategies\n",
    "<font color = red>[50 marks]</font> <br>"
   ]
  },
  {
   "cell_type": "markdown",
   "metadata": {
    "id": "xWJk-CGihnU1"
   },
   "source": [
    "Having performed basic analyses for finding trends and patterns, we will now move on to some detailed analysis focussed on operational efficiency, pricing strategies, and customer experience."
   ]
  },
  {
   "cell_type": "markdown",
   "metadata": {
    "id": "XBY2Y4Jrz9IQ"
   },
   "source": [
    "##### Operational Efficiency"
   ]
  },
  {
   "cell_type": "markdown",
   "metadata": {
    "id": "BXU8Q3sGjGnE"
   },
   "source": [
    "Analyze variations by time of day and location to identify bottlenecks or inefficiencies in routes"
   ]
  },
  {
   "cell_type": "markdown",
   "metadata": {
    "id": "H97VPqVdq7Lz"
   },
   "source": [
    "**3.2.1** <font color = red>[3 marks]</font> <br>\n",
    "Identify slow routes by calculating the average time taken by cabs to get from one zone to another at different hours of the day."
   ]
  },
  {
   "cell_type": "markdown",
   "metadata": {
    "id": "NzTRZyw2q9IR"
   },
   "source": [
    "Speed on a route *X* for hour *Y* = (*distance of the route X / average trip duration for hour Y*)"
   ]
  },
  {
   "cell_type": "code",
   "execution_count": 11,
   "metadata": {
    "id": "Ovf-1vIyhk7E"
   },
   "outputs": [],
   "source": [
    "# Find routes which have the slowest speeds at different times of the day\n",
    "\n"
   ]
  },
  {
   "cell_type": "markdown",
   "metadata": {
    "id": "NmRPbH3rm2Ub"
   },
   "source": [
    "How does identifying high-traffic, high-demand routes help us?"
   ]
  },
  {
   "cell_type": "markdown",
   "metadata": {
    "id": "7-w-OCB_nLmb"
   },
   "source": [
    "**3.2.2** <font color = red>[3 marks]</font> <br>\n",
    "Calculate the number of trips at each hour of the day and visualise them. Find the busiest hour and show the number of trips for that hour."
   ]
  },
  {
   "cell_type": "code",
   "execution_count": null,
   "metadata": {
    "id": "BEbRCT31nLUw"
   },
   "outputs": [],
   "source": [
    "# Visualise the number of trips per hour and find the busiest hour\n",
    "\n"
   ]
  },
  {
   "cell_type": "markdown",
   "metadata": {
    "id": "8FuSAA0zn3F4"
   },
   "source": [
    "Remember, we took a fraction of trips. To find the actual number, you have to scale the number up by the sampling ratio."
   ]
  },
  {
   "cell_type": "markdown",
   "metadata": {
    "id": "bapn075QrKaz"
   },
   "source": [
    "**3.2.3** <font color = red>[2 mark]</font> <br>\n",
    "Find the actual number of trips in the five busiest hours"
   ]
  },
  {
   "cell_type": "code",
   "execution_count": null,
   "metadata": {
    "id": "79Hy-YWOoapQ"
   },
   "outputs": [],
   "source": [
    "# Scale up the number of trips\n",
    "\n",
    "# Fill in the value of your sampling fraction and use that to scale up the numbers\n",
    "sample_fraction =\n",
    "\n"
   ]
  },
  {
   "cell_type": "markdown",
   "metadata": {
    "id": "74fhoLxEoaTP"
   },
   "source": [
    "**3.2.4** <font color = red>[3 marks]</font> <br>\n",
    "Compare hourly traffic pattern on weekdays. Also compare for weekend."
   ]
  },
  {
   "cell_type": "code",
   "execution_count": null,
   "metadata": {
    "id": "sYMmCQHwpFRY"
   },
   "outputs": [],
   "source": [
    "# Compare traffic trends for the week days and weekends\n",
    "\n"
   ]
  },
  {
   "cell_type": "markdown",
   "metadata": {
    "id": "tWeuAulNpSOL"
   },
   "source": [
    "What can you infer from the above patterns? How will finding busy and quiet hours for each day help us?"
   ]
  },
  {
   "cell_type": "markdown",
   "metadata": {
    "id": "-S90VG94rGUm"
   },
   "source": [
    "**3.2.5** <font color = red>[3 marks]</font> <br>\n",
    "Identify top 10 zones with high hourly pickups. Do the same for hourly dropoffs. Show pickup and dropoff trends in these zones."
   ]
  },
  {
   "cell_type": "code",
   "execution_count": null,
   "metadata": {
    "id": "-nJGifJFrslP"
   },
   "outputs": [],
   "source": [
    "# Find top 10 pickup and dropoff zones\n",
    "\n"
   ]
  },
  {
   "cell_type": "markdown",
   "metadata": {
    "id": "okkQ17VssMqP"
   },
   "source": [
    "**3.2.6** <font color = red>[3 marks]</font> <br>\n",
    "Find the ratio of pickups and dropoffs in each zone. Display the 10 highest (pickup/drop) and 10 lowest (pickup/drop) ratios."
   ]
  },
  {
   "cell_type": "code",
   "execution_count": null,
   "metadata": {
    "id": "Qbuc8y-KgeDR"
   },
   "outputs": [],
   "source": [
    "# Find the top 10 and bottom 10 pickup/dropoff ratios\n",
    "\n"
   ]
  },
  {
   "cell_type": "markdown",
   "metadata": {
    "id": "2j1ukv-rrxny"
   },
   "source": [
    "**3.2.7** <font color = red>[3 marks]</font> <br>\n",
    "Identify zones with high pickup and dropoff traffic during night hours (11PM to 5AM)"
   ]
  },
  {
   "cell_type": "code",
   "execution_count": null,
   "metadata": {
    "id": "ve65f0GltyE_"
   },
   "outputs": [],
   "source": [
    "# During night hours (11pm to 5am) find the top 10 pickup and dropoff zones\n",
    "# Note that the top zones should be of night hours and not the overall top zones\n",
    "\n"
   ]
  },
  {
   "cell_type": "markdown",
   "metadata": {
    "id": "OtPTHyhTNnNL"
   },
   "source": [
    "Now, let us find the revenue share for the night time hours and the day time hours. After this, we will move to deciding a pricing strategy.\n",
    "\n",
    "**3.2.8** <font color = red>[2 marks]</font> <br>\n",
    "Find the revenue share for nighttime and daytime hours."
   ]
  },
  {
   "cell_type": "code",
   "execution_count": null,
   "metadata": {
    "id": "0ohk4curNl3g"
   },
   "outputs": [],
   "source": [
    "# Filter for night hours (11 PM to 5 AM)\n",
    "\n"
   ]
  },
  {
   "cell_type": "markdown",
   "metadata": {
    "id": "nG77smP4tyWu"
   },
   "source": [
    "##### Pricing Strategy"
   ]
  },
  {
   "cell_type": "markdown",
   "metadata": {
    "id": "ciF6eThit5IH"
   },
   "source": [
    "**3.2.9** <font color = red>[2 marks]</font> <br>\n",
    "For the different passenger counts, find the average fare per mile per passenger.\n",
    "\n",
    "For instance, suppose the average fare per mile for trips with 3 passengers is 3 USD/mile, then the fare per mile per passenger will be 1 USD/mile."
   ]
  },
  {
   "cell_type": "code",
   "execution_count": null,
   "metadata": {
    "id": "AO7MIuXd9C16"
   },
   "outputs": [],
   "source": [
    "# Analyse the fare per mile per passenger for different passenger counts\n",
    "\n",
    "\n"
   ]
  },
  {
   "cell_type": "markdown",
   "metadata": {
    "id": "WZrN-cxR9DIb"
   },
   "source": [
    "**3.2.10** <font color = red>[3 marks]</font> <br>\n",
    "Find the average fare per mile by hours of the day and by days of the week"
   ]
  },
  {
   "cell_type": "code",
   "execution_count": null,
   "metadata": {
    "id": "hUzCJm2y9SOq"
   },
   "outputs": [],
   "source": [
    "# Compare the average fare per mile for different days and for different times of the day\n",
    "\n"
   ]
  },
  {
   "cell_type": "markdown",
   "metadata": {
    "id": "211WFkhHDUMG"
   },
   "source": [
    "**3.2.11** <font color = red>[3 marks]</font> <br>\n",
    "Analyse the average fare per mile for the different vendors for different hours of the day"
   ]
  },
  {
   "cell_type": "code",
   "execution_count": null,
   "metadata": {
    "id": "my3cGHL1DU04"
   },
   "outputs": [],
   "source": [
    "# Compare fare per mile for different vendors\n",
    "\n"
   ]
  },
  {
   "cell_type": "markdown",
   "metadata": {
    "id": "FH9YJdodtDk4"
   },
   "source": [
    "**3.2.12** <font color = red>[5 marks]</font> <br>\n",
    "Compare the fare rates of the different vendors in a tiered fashion. Analyse the average fare per mile for distances upto 2 miles. Analyse the fare per mile for distances from 2 to 5 miles. And then for distances more than 5 miles.\n"
   ]
  },
  {
   "cell_type": "code",
   "execution_count": null,
   "metadata": {
    "id": "TFRPgO7mgEeT"
   },
   "outputs": [],
   "source": [
    "# Defining distance tiers\n",
    "\n"
   ]
  },
  {
   "cell_type": "markdown",
   "metadata": {
    "id": "M2o6xY0Yh6Gv"
   },
   "source": [
    "##### Customer Experience and Other Factors"
   ]
  },
  {
   "cell_type": "markdown",
   "metadata": {
    "id": "VSneN-rCh6Gw"
   },
   "source": [
    "**3.2.13** <font color = red>[5 marks]</font> <br>\n",
    "Analyse average tip percentages based on trip distances, passenger counts and time of pickup. What factors lead to low tip percentages?"
   ]
  },
  {
   "cell_type": "code",
   "execution_count": null,
   "metadata": {
    "id": "LO5WazK8h6Gx"
   },
   "outputs": [],
   "source": [
    "#  Analyze tip percentages based on distances, passenger counts and pickup times\n",
    "\n"
   ]
  },
  {
   "cell_type": "markdown",
   "metadata": {
    "id": "wQAIQsrcLm6X"
   },
   "source": [
    "Additional analysis [optional]: Let's try comparing cases of low tips with cases of high tips to find out if we find a clear aspect that drives up the tipping behaviours"
   ]
  },
  {
   "cell_type": "code",
   "execution_count": null,
   "metadata": {
    "id": "QYoUed6Dn6YW"
   },
   "outputs": [],
   "source": [
    "# Compare trips with tip percentage < 10% to trips with tip percentage > 25%\n",
    "\n"
   ]
  },
  {
   "cell_type": "markdown",
   "metadata": {
    "id": "0UjvGTRKh6Gx"
   },
   "source": [
    "**3.2.14** <font color = red>[3 marks]</font> <br>\n",
    "Analyse the variation of passenger count across hours and days of the week."
   ]
  },
  {
   "cell_type": "code",
   "execution_count": null,
   "metadata": {
    "id": "rFP0DNRvh6Gx"
   },
   "outputs": [],
   "source": [
    "# See how passenger count varies across hours and days\n",
    "\n",
    "\n"
   ]
  },
  {
   "cell_type": "markdown",
   "metadata": {
    "id": "zWKLLlb7h6Gy"
   },
   "source": [
    "**3.2.15** <font color = red>[2 marks]</font> <br>\n",
    "Analyse the variation of passenger counts across zones"
   ]
  },
  {
   "cell_type": "code",
   "execution_count": null,
   "metadata": {
    "id": "30h27Uz2h6Gy"
   },
   "outputs": [],
   "source": [
    "# How does passenger count vary across zones\n",
    "\n"
   ]
  },
  {
   "cell_type": "code",
   "execution_count": null,
   "metadata": {
    "id": "C3I0AfOkvBWA"
   },
   "outputs": [],
   "source": [
    "# For a more detailed analysis, we can use the zones_with_trips GeoDataFrame\n",
    "# Create a new column for the average passenger count in each zone.\n",
    "\n"
   ]
  },
  {
   "cell_type": "markdown",
   "metadata": {
    "id": "rw0j5Z-1h6Gz"
   },
   "source": [
    "Find out how often surcharges/extra charges are applied to understand their prevalance"
   ]
  },
  {
   "cell_type": "markdown",
   "metadata": {
    "id": "x9IHjHFBx6Ye"
   },
   "source": [
    "**3.2.16** <font color = red>[5 marks]</font> <br>\n",
    "Analyse the pickup/dropoff zones or times when extra charges are applied more frequently"
   ]
  },
  {
   "cell_type": "code",
   "execution_count": null,
   "metadata": {
    "id": "nKbXwZJwh6Gz"
   },
   "outputs": [],
   "source": [
    "# How often is each surcharge applied?\n",
    "\n"
   ]
  },
  {
   "cell_type": "markdown",
   "metadata": {
    "id": "bkyc9q40Cts-"
   },
   "source": [
    "## **4** Conclusion\n",
    "<font color = red>[15 marks]</font> <br>"
   ]
  },
  {
   "cell_type": "markdown",
   "metadata": {
    "id": "Z5yCODI-C6yR"
   },
   "source": [
    "### **4.1** Final Insights and Recommendations\n",
    "<font color = red>[15 marks]</font> <br>\n",
    "\n",
    "Conclude your analyses here. Include all the outcomes you found based on the analysis.\n",
    "\n",
    "Based on the insights, frame a concluding story explaining suitable parameters such as location, time of the day, day of the week etc. to be kept in mind while devising a strategy to meet customer demand and optimise supply."
   ]
  },
  {
   "cell_type": "markdown",
   "metadata": {
    "id": "0dy8J-C8jJjk"
   },
   "source": [
    "**4.1.1** <font color = red>[5 marks]</font> <br>\n",
    "Recommendations to optimize routing and dispatching based on demand patterns and operational inefficiencies"
   ]
  },
  {
   "cell_type": "code",
   "execution_count": null,
   "metadata": {
    "id": "J03px17x_rD9"
   },
   "outputs": [],
   "source": [
    "Taxi demand really picks up during the morning and evening rush (around 7–9 AM and 5–7 PM) and stays strong on weekends, especially near Midtown and the airports. You’ll see more money coming in during spring and winter, and longer trips usually mean heftier fares and nicer tips. Watch out for traffic snarls downtown during peak hours—taking back roads or side streets can keep you rolling. If you have extra cars ready in hot spots when things get busy, and maybe throw in a small discount for quieter times, you’ll cut down rider waits and keep your earnings healthy.\n"
   ]
  },
  {
   "cell_type": "markdown",
   "metadata": {
    "id": "AaLgTWxpjt7h"
   },
   "source": [
    "**4.1.2** <font color = red>[5 marks]</font> <br>\n",
    "\n",
    "Suggestions on strategically positioning cabs across different zones to make best use of insights uncovered by analysing trip trends across time, days and months."
   ]
  },
  {
   "cell_type": "code",
   "execution_count": null,
   "metadata": {
    "id": "c8ZbTIF7_rsN"
   },
   "outputs": [],
   "source": [
    "\n",
    "In the morning rush (7–9 AM), it makes sense to stage extra cabs near commuter hubs in the outer boroughs so you can grab riders heading into Midtown and Downtown. \n",
    "In the evening (5–7 PM), park around large office buildings and transit stations, then drift toward bars and restaurants as people head out for the night.\n",
    "On weekends, start near hotspots like Times Square and SoHo before shifting to late-night dining and nightlife areas. For airport runs, hang out on nearby streets timed to peak flight arrivals instead of idling at the terminals. In spring, focus on parks and outdoor markets; in winter, lean into holiday shopping districts and indoor attractions. Finally, during quieter midday or late-night stretches, offer small fare discounts in slower neighborhoods to keep cars moving, and every few hours use live trip data to move idle cabs from low-demand areas into the busiest zones.\n"
   ]
  },
  {
   "cell_type": "markdown",
   "metadata": {
    "id": "mUU4mn50jMZy"
   },
   "source": [
    "**4.1.3** <font color = red>[5 marks]</font> <br>\n",
    "Propose data-driven adjustments to the pricing strategy to maximize revenue while maintaining competitive rates with other vendors."
   ]
  },
  {
   "cell_type": "code",
   "execution_count": null,
   "metadata": {
    "id": "SXErHFjx_sGN"
   },
   "outputs": [],
   "source": [
    "Using our data on when and where riders are most willing to pay, we can fine-tune fares so you earn more without scaring customers off. \n",
    "First, adjust the base rate by zone: charge a slightly higher minimum fare in busy areas like Midtown and around the airports, and lower it in quieter neighborhoods to bring in off-peak business. \n",
    "Next, introduce modest surge pricing during true rush hours—say a 10–20% bump between 7–9 AM and 5–7 PM—while keeping your maximum multiplier just below what competitors charge so you stay attractive. \n",
    "Offer small discounts (5–10%) during the slow midday and late-night windows to keep drivers busy and riders happy.\n",
    "Monitor rival rates in real time and tweak your surge thresholds accordingly—if they raise theirs, you can raise yours; if they cut back, you follow suit. \n",
    "Finally, use historical elasticity (how demand changed when you tested price tweaks in the past) to set these thresholds smartly: nudge them up until you see a small drop in trip counts, then back off a touch.\n",
    "This balanced, data-driven approach lets you boost overall revenue while still looking like the best value on the street.\n"
   ]
  }
 ],
 "metadata": {
  "colab": {
   "collapsed_sections": [
    "-OVfUMlHFkZD",
    "0eaCZjHIvfuI",
    "Kw-WRzBfyS7j",
    "nM2X-s6lycvQ",
    "NgHgbPIepaYl",
    "QaOS3H9izZ0N",
    "HZvPSwJx0S3K",
    "x2hakCCy6wXI",
    "2jyQyYIpCztl",
    "gPpJyFFNffcL",
    "a4N3PvkSTwcN",
    "MbGMjArkiXjL",
    "23IqsgNjHNpJ",
    "CVXxcSYHj9sh",
    "Rv0oYLcbhOTU",
    "XBY2Y4Jrz9IQ",
    "nG77smP4tyWu",
    "M2o6xY0Yh6Gv",
    "bkyc9q40Cts-",
    "Z5yCODI-C6yR"
   ],
   "provenance": [
    {
     "file_id": "1PvYLECban8pmD-aFGV_yoRF2PyRwLntw",
     "timestamp": 1737110016234
    },
    {
     "file_id": "1jppXTxMvUcVsY27R_ckdE5DAnxrROUY1",
     "timestamp": 1732620370544
    }
   ],
   "toc_visible": true
  },
  "kernelspec": {
   "display_name": "Python [conda env:base] *",
   "language": "python",
   "name": "conda-base-py"
  },
  "language_info": {
   "codemirror_mode": {
    "name": "ipython",
    "version": 3
   },
   "file_extension": ".py",
   "mimetype": "text/x-python",
   "name": "python",
   "nbconvert_exporter": "python",
   "pygments_lexer": "ipython3",
   "version": "3.12.7"
  }
 },
 "nbformat": 4,
 "nbformat_minor": 4
}
